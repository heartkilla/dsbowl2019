{
 "cells": [
  {
   "cell_type": "code",
   "execution_count": 1,
   "metadata": {},
   "outputs": [],
   "source": [
    "import numpy as np\n",
    "import pandas as pd"
   ]
  },
  {
   "cell_type": "code",
   "execution_count": 10,
   "metadata": {},
   "outputs": [],
   "source": [
    "train_df = pd.read_csv('../data/train.csv')"
   ]
  },
  {
   "cell_type": "code",
   "execution_count": 13,
   "metadata": {},
   "outputs": [
    {
     "data": {
      "text/plain": [
       "Chow Time                        0.101488\n",
       "Sandcastle Builder (Activity)    0.091203\n",
       "Scrub-A-Dub                      0.089660\n",
       "Bottle Filler (Activity)         0.088534\n",
       "Fireworks (Activity)             0.047176\n",
       "All Star Sorting                 0.044912\n",
       "Dino Drink                       0.043463\n",
       "Bubble Bath                      0.040470\n",
       "Crystals Rule                    0.040019\n",
       "Bug Measurer (Activity)          0.039364\n",
       "Chicken Balancer (Activity)      0.039075\n",
       "Dino Dive                        0.037709\n",
       "Pan Balance                      0.033935\n",
       "Watering Hole (Activity)         0.032561\n",
       "Flower Waterer (Activity)        0.031393\n",
       "Happy Camel                      0.027470\n",
       "Air Show                         0.027003\n",
       "Leaf Leader                      0.024875\n",
       "Egg Dropper (Activity)           0.021903\n",
       "Mushroom Sorter (Assessment)     0.017599\n",
       "Chest Sorter (Assessment)        0.016781\n",
       "Bird Measurer (Assessment)       0.016768\n",
       "Cauldron Filler (Assessment)     0.016041\n",
       "Cart Balancer (Assessment)       0.014403\n",
       "Welcome to Lost Lagoon!          0.002079\n",
       "Magma Peak - Level 2             0.001509\n",
       "Crystal Caves - Level 2          0.001265\n",
       "Magma Peak - Level 1             0.001201\n",
       "Tree Top City - Level 2          0.001119\n",
       "Crystal Caves - Level 1          0.001103\n",
       "Crystal Caves - Level 3          0.001101\n",
       "Tree Top City - Level 1          0.001087\n",
       "Tree Top City - Level 3          0.000927\n",
       "Ordering Spheres                 0.000860\n",
       "Slop Problem                     0.000615\n",
       "Lifting Heavy Things             0.000508\n",
       "Balancing Act                    0.000487\n",
       "Costume Box                      0.000400\n",
       "Pirate's Tale                    0.000385\n",
       "12 Monkeys                       0.000364\n",
       "Honey Cake                       0.000342\n",
       "Rulers                           0.000297\n",
       "Heavy, Heavier, Heaviest         0.000295\n",
       "Treasure Map                     0.000251\n",
       "Name: title, dtype: float64"
      ]
     },
     "execution_count": 13,
     "metadata": {},
     "output_type": "execute_result"
    }
   ],
   "source": [
    "train_df['title'].value_counts(normalize=True)"
   ]
  },
  {
   "cell_type": "code",
   "execution_count": 14,
   "metadata": {},
   "outputs": [
    {
     "data": {
      "text/plain": [
       "4070    0.207180\n",
       "4030    0.136214\n",
       "3010    0.120685\n",
       "3110    0.118636\n",
       "4020    0.109142\n",
       "2020    0.031126\n",
       "4035    0.027412\n",
       "2030    0.026984\n",
       "2000    0.026745\n",
       "3020    0.025805\n",
       "3120    0.025503\n",
       "3021    0.021900\n",
       "3121    0.021491\n",
       "4025    0.020552\n",
       "4021    0.016822\n",
       "4040    0.008101\n",
       "4100    0.006141\n",
       "4022    0.005917\n",
       "4010    0.004823\n",
       "4031    0.004160\n",
       "2040    0.002975\n",
       "2080    0.002954\n",
       "4230    0.002781\n",
       "4235    0.002780\n",
       "2050    0.002618\n",
       "2083    0.002036\n",
       "5000    0.001940\n",
       "5010    0.001899\n",
       "4045    0.001778\n",
       "2025    0.001762\n",
       "4220    0.001656\n",
       "2060    0.001391\n",
       "4095    0.001374\n",
       "4090    0.001210\n",
       "4110    0.001200\n",
       "2010    0.001031\n",
       "2035    0.000987\n",
       "2081    0.000741\n",
       "2070    0.000675\n",
       "2075    0.000611\n",
       "4050    0.000175\n",
       "4080    0.000085\n",
       "Name: event_code, dtype: float64"
      ]
     },
     "execution_count": 14,
     "metadata": {},
     "output_type": "execute_result"
    }
   ],
   "source": [
    "train_df['event_code'].value_counts(normalize=True)"
   ]
  },
  {
   "cell_type": "code",
   "execution_count": null,
   "metadata": {},
   "outputs": [],
   "source": []
  }
 ],
 "metadata": {
  "kernelspec": {
   "display_name": "Python 3",
   "language": "python",
   "name": "python3"
  },
  "language_info": {
   "codemirror_mode": {
    "name": "ipython",
    "version": 3
   },
   "file_extension": ".py",
   "mimetype": "text/x-python",
   "name": "python",
   "nbconvert_exporter": "python",
   "pygments_lexer": "ipython3",
   "version": "3.7.4"
  }
 },
 "nbformat": 4,
 "nbformat_minor": 4
}
