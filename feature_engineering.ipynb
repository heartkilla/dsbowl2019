{
 "cells": [
  {
   "cell_type": "code",
   "execution_count": 13,
   "metadata": {},
   "outputs": [],
   "source": [
    "import pandas as pd"
   ]
  },
  {
   "cell_type": "code",
   "execution_count": null,
   "metadata": {},
   "outputs": [],
   "source": []
  },
  {
   "cell_type": "code",
   "execution_count": 184,
   "metadata": {},
   "outputs": [],
   "source": [
    "train = pd.read_csv('./data/preprocessed_train.csv')"
   ]
  },
  {
   "cell_type": "code",
   "execution_count": 194,
   "metadata": {},
   "outputs": [
    {
     "data": {
      "text/html": [
       "<div>\n",
       "<style scoped>\n",
       "    .dataframe tbody tr th:only-of-type {\n",
       "        vertical-align: middle;\n",
       "    }\n",
       "\n",
       "    .dataframe tbody tr th {\n",
       "        vertical-align: top;\n",
       "    }\n",
       "\n",
       "    .dataframe thead th {\n",
       "        text-align: right;\n",
       "    }\n",
       "</style>\n",
       "<table border=\"1\" class=\"dataframe\">\n",
       "  <thead>\n",
       "    <tr style=\"text-align: right;\">\n",
       "      <th></th>\n",
       "      <th>0_group_count</th>\n",
       "      <th>12 Monkeys_title_total_time</th>\n",
       "      <th>1_group_count</th>\n",
       "      <th>2_group_count</th>\n",
       "      <th>3_group_count</th>\n",
       "      <th>Air Show_title_total_time</th>\n",
       "      <th>All Star Sorting_title_total_time</th>\n",
       "      <th>Balancing Act_title_total_time</th>\n",
       "      <th>Bird Measurer (Assessment)_title_total_time</th>\n",
       "      <th>Bottle Filler (Activity)_title_total_time</th>\n",
       "      <th>...</th>\n",
       "      <th>mean_time_per_day</th>\n",
       "      <th>current_title_mean_time</th>\n",
       "      <th>current_world_mean_time</th>\n",
       "      <th>last_mean_accuracy</th>\n",
       "      <th>ratio_of_life_in_game</th>\n",
       "      <th>time_per_session</th>\n",
       "      <th>sessions_per_day</th>\n",
       "      <th>events_per_session</th>\n",
       "      <th>time_per_event</th>\n",
       "      <th>events_per_day</th>\n",
       "    </tr>\n",
       "  </thead>\n",
       "  <tbody>\n",
       "    <tr>\n",
       "      <th>11170</th>\n",
       "      <td>0.000000</td>\n",
       "      <td>0</td>\n",
       "      <td>0.000880</td>\n",
       "      <td>0.000440</td>\n",
       "      <td>0.002199</td>\n",
       "      <td>224</td>\n",
       "      <td>80</td>\n",
       "      <td>0</td>\n",
       "      <td>53</td>\n",
       "      <td>39</td>\n",
       "      <td>...</td>\n",
       "      <td>159.023810</td>\n",
       "      <td>53.000000</td>\n",
       "      <td>55.482759</td>\n",
       "      <td>0.700000</td>\n",
       "      <td>0.077708</td>\n",
       "      <td>101.196970</td>\n",
       "      <td>1.571429</td>\n",
       "      <td>68.893939</td>\n",
       "      <td>1.468881</td>\n",
       "      <td>108.261905</td>\n",
       "    </tr>\n",
       "    <tr>\n",
       "      <th>5718</th>\n",
       "      <td>0.000554</td>\n",
       "      <td>0</td>\n",
       "      <td>0.000554</td>\n",
       "      <td>0.000554</td>\n",
       "      <td>0.005537</td>\n",
       "      <td>0</td>\n",
       "      <td>46</td>\n",
       "      <td>0</td>\n",
       "      <td>43</td>\n",
       "      <td>476</td>\n",
       "      <td>...</td>\n",
       "      <td>14655.166667</td>\n",
       "      <td>36.500000</td>\n",
       "      <td>5094.411765</td>\n",
       "      <td>0.866667</td>\n",
       "      <td>1516.051724</td>\n",
       "      <td>1998.431818</td>\n",
       "      <td>7.333333</td>\n",
       "      <td>41.045455</td>\n",
       "      <td>48.688261</td>\n",
       "      <td>301.000000</td>\n",
       "    </tr>\n",
       "    <tr>\n",
       "      <th>13790</th>\n",
       "      <td>0.001349</td>\n",
       "      <td>0</td>\n",
       "      <td>0.000000</td>\n",
       "      <td>0.000000</td>\n",
       "      <td>0.000000</td>\n",
       "      <td>40004</td>\n",
       "      <td>53047</td>\n",
       "      <td>0</td>\n",
       "      <td>159</td>\n",
       "      <td>970</td>\n",
       "      <td>...</td>\n",
       "      <td>7391.200000</td>\n",
       "      <td>53.000000</td>\n",
       "      <td>457.652968</td>\n",
       "      <td>0.000000</td>\n",
       "      <td>7.537939</td>\n",
       "      <td>294.470120</td>\n",
       "      <td>25.100000</td>\n",
       "      <td>36.428951</td>\n",
       "      <td>8.083409</td>\n",
       "      <td>914.366667</td>\n",
       "    </tr>\n",
       "    <tr>\n",
       "      <th>4677</th>\n",
       "      <td>0.001783</td>\n",
       "      <td>0</td>\n",
       "      <td>0.000357</td>\n",
       "      <td>0.000357</td>\n",
       "      <td>0.002496</td>\n",
       "      <td>265</td>\n",
       "      <td>45</td>\n",
       "      <td>0</td>\n",
       "      <td>172</td>\n",
       "      <td>0</td>\n",
       "      <td>...</td>\n",
       "      <td>311.666667</td>\n",
       "      <td>57.333333</td>\n",
       "      <td>22.362069</td>\n",
       "      <td>0.250000</td>\n",
       "      <td>0.128135</td>\n",
       "      <td>29.526316</td>\n",
       "      <td>10.555556</td>\n",
       "      <td>29.515789</td>\n",
       "      <td>1.000357</td>\n",
       "      <td>311.555556</td>\n",
       "    </tr>\n",
       "    <tr>\n",
       "      <th>7492</th>\n",
       "      <td>0.000816</td>\n",
       "      <td>0</td>\n",
       "      <td>0.000233</td>\n",
       "      <td>0.000175</td>\n",
       "      <td>0.000524</td>\n",
       "      <td>6237</td>\n",
       "      <td>2051</td>\n",
       "      <td>0</td>\n",
       "      <td>53</td>\n",
       "      <td>2504</td>\n",
       "      <td>...</td>\n",
       "      <td>5997.029412</td>\n",
       "      <td>111.777778</td>\n",
       "      <td>1452.144000</td>\n",
       "      <td>0.300000</td>\n",
       "      <td>2.709045</td>\n",
       "      <td>784.226923</td>\n",
       "      <td>7.647059</td>\n",
       "      <td>66.023077</td>\n",
       "      <td>11.878073</td>\n",
       "      <td>504.882353</td>\n",
       "    </tr>\n",
       "    <tr>\n",
       "      <th>...</th>\n",
       "      <td>...</td>\n",
       "      <td>...</td>\n",
       "      <td>...</td>\n",
       "      <td>...</td>\n",
       "      <td>...</td>\n",
       "      <td>...</td>\n",
       "      <td>...</td>\n",
       "      <td>...</td>\n",
       "      <td>...</td>\n",
       "      <td>...</td>\n",
       "      <td>...</td>\n",
       "      <td>...</td>\n",
       "      <td>...</td>\n",
       "      <td>...</td>\n",
       "      <td>...</td>\n",
       "      <td>...</td>\n",
       "      <td>...</td>\n",
       "      <td>...</td>\n",
       "      <td>...</td>\n",
       "      <td>...</td>\n",
       "      <td>...</td>\n",
       "    </tr>\n",
       "    <tr>\n",
       "      <th>1858</th>\n",
       "      <td>0.009434</td>\n",
       "      <td>0</td>\n",
       "      <td>0.000000</td>\n",
       "      <td>0.000000</td>\n",
       "      <td>0.000000</td>\n",
       "      <td>0</td>\n",
       "      <td>0</td>\n",
       "      <td>0</td>\n",
       "      <td>0</td>\n",
       "      <td>0</td>\n",
       "      <td>...</td>\n",
       "      <td>0.000000</td>\n",
       "      <td>125.000000</td>\n",
       "      <td>41.666667</td>\n",
       "      <td>0.000000</td>\n",
       "      <td>0.880282</td>\n",
       "      <td>41.666667</td>\n",
       "      <td>0.000000</td>\n",
       "      <td>35.333333</td>\n",
       "      <td>1.179245</td>\n",
       "      <td>0.000000</td>\n",
       "    </tr>\n",
       "    <tr>\n",
       "      <th>12511</th>\n",
       "      <td>0.000000</td>\n",
       "      <td>0</td>\n",
       "      <td>0.000000</td>\n",
       "      <td>0.000000</td>\n",
       "      <td>0.003300</td>\n",
       "      <td>0</td>\n",
       "      <td>0</td>\n",
       "      <td>0</td>\n",
       "      <td>0</td>\n",
       "      <td>0</td>\n",
       "      <td>...</td>\n",
       "      <td>0.000000</td>\n",
       "      <td>NaN</td>\n",
       "      <td>18.000000</td>\n",
       "      <td>1.000000</td>\n",
       "      <td>0.678917</td>\n",
       "      <td>21.937500</td>\n",
       "      <td>0.000000</td>\n",
       "      <td>18.937500</td>\n",
       "      <td>1.158416</td>\n",
       "      <td>0.000000</td>\n",
       "    </tr>\n",
       "    <tr>\n",
       "      <th>10988</th>\n",
       "      <td>0.000365</td>\n",
       "      <td>0</td>\n",
       "      <td>0.000183</td>\n",
       "      <td>0.000000</td>\n",
       "      <td>0.000000</td>\n",
       "      <td>80</td>\n",
       "      <td>367</td>\n",
       "      <td>0</td>\n",
       "      <td>86</td>\n",
       "      <td>2276</td>\n",
       "      <td>...</td>\n",
       "      <td>2461.000000</td>\n",
       "      <td>NaN</td>\n",
       "      <td>1601.888889</td>\n",
       "      <td>0.055556</td>\n",
       "      <td>0.565775</td>\n",
       "      <td>417.491071</td>\n",
       "      <td>5.894737</td>\n",
       "      <td>48.910714</td>\n",
       "      <td>8.535779</td>\n",
       "      <td>288.315789</td>\n",
       "    </tr>\n",
       "    <tr>\n",
       "      <th>1100</th>\n",
       "      <td>0.000000</td>\n",
       "      <td>0</td>\n",
       "      <td>0.000000</td>\n",
       "      <td>0.000000</td>\n",
       "      <td>0.000000</td>\n",
       "      <td>0</td>\n",
       "      <td>0</td>\n",
       "      <td>0</td>\n",
       "      <td>0</td>\n",
       "      <td>0</td>\n",
       "      <td>...</td>\n",
       "      <td>0.000000</td>\n",
       "      <td>NaN</td>\n",
       "      <td>10.700000</td>\n",
       "      <td>NaN</td>\n",
       "      <td>0.000000</td>\n",
       "      <td>10.700000</td>\n",
       "      <td>0.000000</td>\n",
       "      <td>7.200000</td>\n",
       "      <td>1.486111</td>\n",
       "      <td>0.000000</td>\n",
       "    </tr>\n",
       "    <tr>\n",
       "      <th>16300</th>\n",
       "      <td>0.000000</td>\n",
       "      <td>0</td>\n",
       "      <td>0.000000</td>\n",
       "      <td>0.000000</td>\n",
       "      <td>0.000000</td>\n",
       "      <td>0</td>\n",
       "      <td>118</td>\n",
       "      <td>0</td>\n",
       "      <td>0</td>\n",
       "      <td>0</td>\n",
       "      <td>...</td>\n",
       "      <td>0.000000</td>\n",
       "      <td>NaN</td>\n",
       "      <td>44.000000</td>\n",
       "      <td>NaN</td>\n",
       "      <td>0.000000</td>\n",
       "      <td>39.181818</td>\n",
       "      <td>0.000000</td>\n",
       "      <td>57.454545</td>\n",
       "      <td>0.681962</td>\n",
       "      <td>0.000000</td>\n",
       "    </tr>\n",
       "  </tbody>\n",
       "</table>\n",
       "<p>3350 rows × 705 columns</p>\n",
       "</div>"
      ],
      "text/plain": [
       "       0_group_count  12 Monkeys_title_total_time  1_group_count  \\\n",
       "11170       0.000000                            0       0.000880   \n",
       "5718        0.000554                            0       0.000554   \n",
       "13790       0.001349                            0       0.000000   \n",
       "4677        0.001783                            0       0.000357   \n",
       "7492        0.000816                            0       0.000233   \n",
       "...              ...                          ...            ...   \n",
       "1858        0.009434                            0       0.000000   \n",
       "12511       0.000000                            0       0.000000   \n",
       "10988       0.000365                            0       0.000183   \n",
       "1100        0.000000                            0       0.000000   \n",
       "16300       0.000000                            0       0.000000   \n",
       "\n",
       "       2_group_count  3_group_count  Air Show_title_total_time  \\\n",
       "11170       0.000440       0.002199                        224   \n",
       "5718        0.000554       0.005537                          0   \n",
       "13790       0.000000       0.000000                      40004   \n",
       "4677        0.000357       0.002496                        265   \n",
       "7492        0.000175       0.000524                       6237   \n",
       "...              ...            ...                        ...   \n",
       "1858        0.000000       0.000000                          0   \n",
       "12511       0.000000       0.003300                          0   \n",
       "10988       0.000000       0.000000                         80   \n",
       "1100        0.000000       0.000000                          0   \n",
       "16300       0.000000       0.000000                          0   \n",
       "\n",
       "       All Star Sorting_title_total_time  Balancing Act_title_total_time  \\\n",
       "11170                                 80                               0   \n",
       "5718                                  46                               0   \n",
       "13790                              53047                               0   \n",
       "4677                                  45                               0   \n",
       "7492                                2051                               0   \n",
       "...                                  ...                             ...   \n",
       "1858                                   0                               0   \n",
       "12511                                  0                               0   \n",
       "10988                                367                               0   \n",
       "1100                                   0                               0   \n",
       "16300                                118                               0   \n",
       "\n",
       "       Bird Measurer (Assessment)_title_total_time  \\\n",
       "11170                                           53   \n",
       "5718                                            43   \n",
       "13790                                          159   \n",
       "4677                                           172   \n",
       "7492                                            53   \n",
       "...                                            ...   \n",
       "1858                                             0   \n",
       "12511                                            0   \n",
       "10988                                           86   \n",
       "1100                                             0   \n",
       "16300                                            0   \n",
       "\n",
       "       Bottle Filler (Activity)_title_total_time  ...  mean_time_per_day  \\\n",
       "11170                                         39  ...         159.023810   \n",
       "5718                                         476  ...       14655.166667   \n",
       "13790                                        970  ...        7391.200000   \n",
       "4677                                           0  ...         311.666667   \n",
       "7492                                        2504  ...        5997.029412   \n",
       "...                                          ...  ...                ...   \n",
       "1858                                           0  ...           0.000000   \n",
       "12511                                          0  ...           0.000000   \n",
       "10988                                       2276  ...        2461.000000   \n",
       "1100                                           0  ...           0.000000   \n",
       "16300                                          0  ...           0.000000   \n",
       "\n",
       "       current_title_mean_time  current_world_mean_time  last_mean_accuracy  \\\n",
       "11170                53.000000                55.482759            0.700000   \n",
       "5718                 36.500000              5094.411765            0.866667   \n",
       "13790                53.000000               457.652968            0.000000   \n",
       "4677                 57.333333                22.362069            0.250000   \n",
       "7492                111.777778              1452.144000            0.300000   \n",
       "...                        ...                      ...                 ...   \n",
       "1858                125.000000                41.666667            0.000000   \n",
       "12511                      NaN                18.000000            1.000000   \n",
       "10988                      NaN              1601.888889            0.055556   \n",
       "1100                       NaN                10.700000                 NaN   \n",
       "16300                      NaN                44.000000                 NaN   \n",
       "\n",
       "       ratio_of_life_in_game  time_per_session  sessions_per_day  \\\n",
       "11170               0.077708        101.196970          1.571429   \n",
       "5718             1516.051724       1998.431818          7.333333   \n",
       "13790               7.537939        294.470120         25.100000   \n",
       "4677                0.128135         29.526316         10.555556   \n",
       "7492                2.709045        784.226923          7.647059   \n",
       "...                      ...               ...               ...   \n",
       "1858                0.880282         41.666667          0.000000   \n",
       "12511               0.678917         21.937500          0.000000   \n",
       "10988               0.565775        417.491071          5.894737   \n",
       "1100                0.000000         10.700000          0.000000   \n",
       "16300               0.000000         39.181818          0.000000   \n",
       "\n",
       "       events_per_session  time_per_event  events_per_day  \n",
       "11170           68.893939        1.468881      108.261905  \n",
       "5718            41.045455       48.688261      301.000000  \n",
       "13790           36.428951        8.083409      914.366667  \n",
       "4677            29.515789        1.000357      311.555556  \n",
       "7492            66.023077       11.878073      504.882353  \n",
       "...                   ...             ...             ...  \n",
       "1858            35.333333        1.179245        0.000000  \n",
       "12511           18.937500        1.158416        0.000000  \n",
       "10988           48.910714        8.535779      288.315789  \n",
       "1100             7.200000        1.486111        0.000000  \n",
       "16300           57.454545        0.681962        0.000000  \n",
       "\n",
       "[3350 rows x 705 columns]"
      ]
     },
     "execution_count": 194,
     "metadata": {},
     "output_type": "execute_result"
    }
   ],
   "source": [
    "X.sample(frac=0.2)"
   ]
  },
  {
   "cell_type": "code",
   "execution_count": 195,
   "metadata": {},
   "outputs": [],
   "source": [
    "X = pd.read_csv('./data/preprocessed_train_aug.csv')"
   ]
  },
  {
   "cell_type": "code",
   "execution_count": 201,
   "metadata": {},
   "outputs": [
    {
     "data": {
      "text/plain": [
       "3    7524\n",
       "0    3544\n",
       "1    2062\n",
       "2    1855\n",
       "Name: accuracy_group, dtype: int64"
      ]
     },
     "execution_count": 201,
     "metadata": {},
     "output_type": "execute_result"
    }
   ],
   "source": [
    "X['accuracy_group'].value_counts()"
   ]
  },
  {
   "cell_type": "code",
   "execution_count": 197,
   "metadata": {},
   "outputs": [],
   "source": [
    "X['hour_sin'] = X['hour'].map(lambda x: np.sin(2 * np.pi * x / 23))\n",
    "X['hour_cos'] = X['hour'].map(lambda x: np.cos(2 * np.pi * x / 23))\n",
    "X = X.drop(columns=['hour'])\n",
    "\n",
    "X['weekday_sin'] = X['weekday'].map(lambda x: np.sin(2 * np.pi * x / 6))\n",
    "X['weekday_cos'] = X['weekday'].map(lambda x: np.cos(2 * np.pi * x / 6))\n",
    "X = X.drop(columns=['weekday'])\n",
    "\n",
    "X['day_sin'] = X['day'].map(lambda x: np.sin(2 * np.pi * x / 6))\n",
    "X['day_cos'] = X['day'].map(lambda x: np.cos(2 * np.pi * x / 6))\n",
    "X = X.drop(columns=['day'])\n",
    "\n",
    "X['mean_time_per_day'] = X['total_time_sum'] / X['days_since_installation']\n",
    "X['current_title_mean_time'] = X['current_title_total_time'] / X['current_title_count']\n",
    "X['current_world_mean_time'] = X['current_world_total_time'] / X['current_world_count']\n",
    "X['last_mean_accuracy'] = X[['last_accuracy_Bird Measurer (Assessment)',\n",
    "                             'last_accuracy_Cart Balancer (Assessment)',\n",
    "                             'last_accuracy_Cauldron Filler (Assessment)',\n",
    "                             'last_accuracy_Chest Sorter (Assessment)',\n",
    "                             'last_accuracy_Mushroom Sorter (Assessment)']].mean(axis=1)\n",
    "X['ratio_of_life_in_game'] = X['total_time_sum'] / X['sec_since_installation']\n",
    "X['time_per_session'] = X['total_time_sum'] / X['accumulated_sessions']\n",
    "X['sessions_per_day'] = X['accumulated_sessions'] / X['days_since_installation']\n",
    "X['events_per_session'] = X['accumulated_actions'] / X['accumulated_sessions']\n",
    "X['time_per_event'] = X['total_time_sum'] / X['accumulated_actions']\n",
    "X['events_per_day'] = X['accumulated_actions'] / X['days_since_installation']\n",
    "\n",
    "count_cols = [col for col in X.columns if 'count' in col]\n",
    "for col in count_cols:\n",
    "    X[col] = X[col] / X['accumulated_actions']\n",
    "\n",
    "X = X.replace({np.inf: 0})"
   ]
  },
  {
   "cell_type": "code",
   "execution_count": 198,
   "metadata": {},
   "outputs": [],
   "source": [
    "X.to_csv('./data/preprocessed_train_aug.csv', index=False)"
   ]
  },
  {
   "cell_type": "code",
   "execution_count": 186,
   "metadata": {},
   "outputs": [
    {
     "data": {
      "text/plain": [
       "0        True\n",
       "1        True\n",
       "2        True\n",
       "3        True\n",
       "4        True\n",
       "         ... \n",
       "16747    True\n",
       "16748    True\n",
       "16749    True\n",
       "16750    True\n",
       "16751    True\n",
       "Name: installation_id, Length: 16752, dtype: bool"
      ]
     },
     "execution_count": 186,
     "metadata": {},
     "output_type": "execute_result"
    }
   ],
   "source": [
    "df['installation_id'].isin(train['installation_id'])"
   ]
  },
  {
   "cell_type": "code",
   "execution_count": null,
   "metadata": {},
   "outputs": [],
   "source": []
  },
  {
   "cell_type": "code",
   "execution_count": null,
   "metadata": {},
   "outputs": [],
   "source": []
  },
  {
   "cell_type": "code",
   "execution_count": 147,
   "metadata": {},
   "outputs": [],
   "source": []
  },
  {
   "cell_type": "code",
   "execution_count": 9,
   "metadata": {},
   "outputs": [],
   "source": [
    "df = pd.concat([df, df_add])"
   ]
  },
  {
   "cell_type": "code",
   "execution_count": 10,
   "metadata": {},
   "outputs": [
    {
     "data": {
      "text/plain": [
       "(1.865448919498927, 1.266954301695134)"
      ]
     },
     "execution_count": 10,
     "metadata": {},
     "output_type": "execute_result"
    }
   ],
   "source": [
    "df['accuracy_group'].mean(), df['accuracy_group'].std()"
   ]
  },
  {
   "cell_type": "code",
   "execution_count": 12,
   "metadata": {},
   "outputs": [
    {
     "data": {
      "text/plain": [
       "(1.8855850763143018, 1.256796193579197)"
      ]
     },
     "execution_count": 12,
     "metadata": {},
     "output_type": "execute_result"
    }
   ],
   "source": [
    "df['accuracy_group'].mean(), df['accuracy_group'].std()"
   ]
  },
  {
   "cell_type": "code",
   "execution_count": 141,
   "metadata": {},
   "outputs": [
    {
     "data": {
      "text/plain": [
       "mean_time_per_day        8410\n",
       "ratio_of_life_in_game    2918\n",
       "sessions_per_day         8766\n",
       "events_per_day           8766\n",
       "dtype: int64"
      ]
     },
     "execution_count": 141,
     "metadata": {},
     "output_type": "execute_result"
    }
   ],
   "source": [
    "(X == np.inf).sum()[(X == np.inf).sum() != 0]"
   ]
  },
  {
   "cell_type": "code",
   "execution_count": 66,
   "metadata": {},
   "outputs": [
    {
     "data": {
      "text/plain": [
       "(17690, 589)"
      ]
     },
     "execution_count": 66,
     "metadata": {},
     "output_type": "execute_result"
    }
   ],
   "source": [
    "train_df.drop(columns=['accuracy_group']).values.shape"
   ]
  },
  {
   "cell_type": "code",
   "execution_count": 132,
   "metadata": {},
   "outputs": [],
   "source": [
    "X_train, X_test, Y_train, Y_test = train_test_split(train_df.drop(columns=['accuracy_group', 'installation_id']).fillna(0), train_df['accuracy_group'], test_size=0.2)"
   ]
  },
  {
   "cell_type": "code",
   "execution_count": 139,
   "metadata": {},
   "outputs": [],
   "source": [
    "X = train_df"
   ]
  },
  {
   "cell_type": "code",
   "execution_count": 140,
   "metadata": {},
   "outputs": [],
   "source": [
    "X['hour_sin'] = X['hour'].map(lambda x: np.sin(2 * np.pi * x / 23))\n",
    "X['hour_cos'] = X['hour'].map(lambda x: np.cos(2 * np.pi * x / 23))\n",
    "X = X.drop(columns=['hour'])\n",
    "\n",
    "X['weekday_sin'] = X['weekday'].map(lambda x: np.sin(2 * np.pi * x / 6))\n",
    "X['weekday_cos'] = X['weekday'].map(lambda x: np.cos(2 * np.pi * x / 6))\n",
    "X = X.drop(columns=['weekday'])\n",
    "\n",
    "X['day_sin'] = X['day'].map(lambda x: np.sin(2 * np.pi * x / 6))\n",
    "X['day_cos'] = X['day'].map(lambda x: np.cos(2 * np.pi * x / 6))\n",
    "X = X.drop(columns=['day'])\n",
    "\n",
    "X['mean_time_per_day'] = X['total_time'] / X['days_since_installation']\n",
    "X['current_title_mean_time'] = X['current_title_total_time'] / X['current_title_count']\n",
    "X['current_world_mean_time'] = X['current_world_total_time'] / X['current_world_count']\n",
    "X['last_mean_accuracy'] = X[['last_accuracy_Bird Measurer (Assessment)',\n",
    "                             'last_accuracy_Cart Balancer (Assessment)',\n",
    "                             'last_accuracy_Cauldron Filler (Assessment)',\n",
    "                             'last_accuracy_Chest Sorter (Assessment)',\n",
    "                             'last_accuracy_Mushroom Sorter (Assessment)']].mean(axis=1)\n",
    "X['ratio_of_life_in_game'] = X['total_time'] / X['sec_since_installation']\n",
    "X['time_per_session'] = X['total_time'] / X['accumulated_sessions']\n",
    "X['sessions_per_day'] = X['accumulated_sessions'] / X['days_since_installation']\n",
    "X['events_per_session'] = X['accumulated_actions'] / X['accumulated_sessions']\n",
    "X['time_per_event'] = X['total_time'] / X['accumulated_actions']\n",
    "X['events_per_day'] = X['accumulated_actions'] / X['days_since_installation']\n",
    "\n",
    "cols_to_drop = [col for col in X.columns if ('event_id' in col)]\n",
    "\n",
    "count_cols = [col for col in X.columns if 'count' in col]\n",
    "for col in count_cols:\n",
    "    X[col] = X[col] / X['accumulated_actions']"
   ]
  },
  {
   "cell_type": "code",
   "execution_count": 95,
   "metadata": {},
   "outputs": [],
   "source": [
    "X = X.drop(columns=cols_to_drop + useless_event_feats).fillna(0)"
   ]
  },
  {
   "cell_type": "code",
   "execution_count": 134,
   "metadata": {},
   "outputs": [
    {
     "name": "stdout",
     "output_type": "stream",
     "text": [
      "[iter 0] loss=1.6491 val_loss=0.0000 scale=1.0000 norm=1.2257\n"
     ]
    },
    {
     "ename": "KeyboardInterrupt",
     "evalue": "",
     "output_type": "error",
     "traceback": [
      "\u001b[1;31m---------------------------------------------------------------------------\u001b[0m",
      "\u001b[1;31mKeyboardInterrupt\u001b[0m                         Traceback (most recent call last)",
      "\u001b[1;32m<ipython-input-134-022ec6c74889>\u001b[0m in \u001b[0;36m<module>\u001b[1;34m\u001b[0m\n\u001b[1;32m----> 1\u001b[1;33m \u001b[0mngb\u001b[0m \u001b[1;33m=\u001b[0m \u001b[0mNGBRegressor\u001b[0m\u001b[1;33m(\u001b[0m\u001b[0mlearning_rate\u001b[0m\u001b[1;33m=\u001b[0m\u001b[1;36m0.1\u001b[0m\u001b[1;33m,\u001b[0m \u001b[0mverbose_eval\u001b[0m\u001b[1;33m=\u001b[0m\u001b[1;36m5\u001b[0m\u001b[1;33m,\u001b[0m \u001b[0mn_estimators\u001b[0m\u001b[1;33m=\u001b[0m\u001b[1;36m40\u001b[0m\u001b[1;33m)\u001b[0m\u001b[1;33m.\u001b[0m\u001b[0mfit\u001b[0m\u001b[1;33m(\u001b[0m\u001b[0mX\u001b[0m\u001b[1;33m.\u001b[0m\u001b[0mreplace\u001b[0m\u001b[1;33m(\u001b[0m\u001b[1;33m{\u001b[0m\u001b[0mnp\u001b[0m\u001b[1;33m.\u001b[0m\u001b[0minf\u001b[0m\u001b[1;33m:\u001b[0m \u001b[1;36m0\u001b[0m\u001b[1;33m}\u001b[0m\u001b[1;33m)\u001b[0m\u001b[1;33m,\u001b[0m \u001b[0mY_train\u001b[0m\u001b[1;33m)\u001b[0m\u001b[1;33m\u001b[0m\u001b[1;33m\u001b[0m\u001b[0m\n\u001b[0m",
      "\u001b[1;32m~/opt/anaconda3/lib/python3.7/site-packages/ngboost/ngboost.py\u001b[0m in \u001b[0;36mfit\u001b[1;34m(self, X, Y, X_val, Y_val, train_loss_monitor, val_loss_monitor)\u001b[0m\n\u001b[0;32m    106\u001b[0m             \u001b[0mgrads\u001b[0m \u001b[1;33m=\u001b[0m \u001b[0mS\u001b[0m\u001b[1;33m.\u001b[0m\u001b[0mgrad\u001b[0m\u001b[1;33m(\u001b[0m\u001b[0mD\u001b[0m\u001b[1;33m,\u001b[0m \u001b[0mY_batch\u001b[0m\u001b[1;33m,\u001b[0m \u001b[0mnatural\u001b[0m\u001b[1;33m=\u001b[0m\u001b[0mself\u001b[0m\u001b[1;33m.\u001b[0m\u001b[0mnatural_gradient\u001b[0m\u001b[1;33m)\u001b[0m\u001b[1;33m\u001b[0m\u001b[1;33m\u001b[0m\u001b[0m\n\u001b[0;32m    107\u001b[0m \u001b[1;33m\u001b[0m\u001b[0m\n\u001b[1;32m--> 108\u001b[1;33m             \u001b[0mproj_grad\u001b[0m \u001b[1;33m=\u001b[0m \u001b[0mself\u001b[0m\u001b[1;33m.\u001b[0m\u001b[0mfit_base\u001b[0m\u001b[1;33m(\u001b[0m\u001b[0mX_batch\u001b[0m\u001b[1;33m,\u001b[0m \u001b[0mgrads\u001b[0m\u001b[1;33m)\u001b[0m\u001b[1;33m\u001b[0m\u001b[1;33m\u001b[0m\u001b[0m\n\u001b[0m\u001b[0;32m    109\u001b[0m             \u001b[0mscale\u001b[0m \u001b[1;33m=\u001b[0m \u001b[0mself\u001b[0m\u001b[1;33m.\u001b[0m\u001b[0mline_search\u001b[0m\u001b[1;33m(\u001b[0m\u001b[0mproj_grad\u001b[0m\u001b[1;33m,\u001b[0m \u001b[0mP_batch\u001b[0m\u001b[1;33m,\u001b[0m \u001b[0mY_batch\u001b[0m\u001b[1;33m)\u001b[0m\u001b[1;33m\u001b[0m\u001b[1;33m\u001b[0m\u001b[0m\n\u001b[0;32m    110\u001b[0m \u001b[1;33m\u001b[0m\u001b[0m\n",
      "\u001b[1;32m~/opt/anaconda3/lib/python3.7/site-packages/ngboost/ngboost.py\u001b[0m in \u001b[0;36mfit_base\u001b[1;34m(self, X, grads)\u001b[0m\n\u001b[0;32m     45\u001b[0m \u001b[1;33m\u001b[0m\u001b[0m\n\u001b[0;32m     46\u001b[0m     \u001b[1;32mdef\u001b[0m \u001b[0mfit_base\u001b[0m\u001b[1;33m(\u001b[0m\u001b[0mself\u001b[0m\u001b[1;33m,\u001b[0m \u001b[0mX\u001b[0m\u001b[1;33m,\u001b[0m \u001b[0mgrads\u001b[0m\u001b[1;33m)\u001b[0m\u001b[1;33m:\u001b[0m\u001b[1;33m\u001b[0m\u001b[1;33m\u001b[0m\u001b[0m\n\u001b[1;32m---> 47\u001b[1;33m         \u001b[0mmodels\u001b[0m \u001b[1;33m=\u001b[0m \u001b[1;33m[\u001b[0m\u001b[0mself\u001b[0m\u001b[1;33m.\u001b[0m\u001b[0mBase\u001b[0m\u001b[1;33m(\u001b[0m\u001b[1;33m)\u001b[0m\u001b[1;33m.\u001b[0m\u001b[0mfit\u001b[0m\u001b[1;33m(\u001b[0m\u001b[0mX\u001b[0m\u001b[1;33m,\u001b[0m \u001b[0mg\u001b[0m\u001b[1;33m)\u001b[0m \u001b[1;32mfor\u001b[0m \u001b[0mg\u001b[0m \u001b[1;32min\u001b[0m \u001b[0mgrads\u001b[0m\u001b[1;33m.\u001b[0m\u001b[0mT\u001b[0m\u001b[1;33m]\u001b[0m\u001b[1;33m\u001b[0m\u001b[1;33m\u001b[0m\u001b[0m\n\u001b[0m\u001b[0;32m     48\u001b[0m         \u001b[0mfitted\u001b[0m \u001b[1;33m=\u001b[0m \u001b[0mnp\u001b[0m\u001b[1;33m.\u001b[0m\u001b[0marray\u001b[0m\u001b[1;33m(\u001b[0m\u001b[1;33m[\u001b[0m\u001b[0mm\u001b[0m\u001b[1;33m.\u001b[0m\u001b[0mpredict\u001b[0m\u001b[1;33m(\u001b[0m\u001b[0mX\u001b[0m\u001b[1;33m)\u001b[0m \u001b[1;32mfor\u001b[0m \u001b[0mm\u001b[0m \u001b[1;32min\u001b[0m \u001b[0mmodels\u001b[0m\u001b[1;33m]\u001b[0m\u001b[1;33m)\u001b[0m\u001b[1;33m.\u001b[0m\u001b[0mT\u001b[0m\u001b[1;33m\u001b[0m\u001b[1;33m\u001b[0m\u001b[0m\n\u001b[0;32m     49\u001b[0m         \u001b[0mself\u001b[0m\u001b[1;33m.\u001b[0m\u001b[0mbase_models\u001b[0m\u001b[1;33m.\u001b[0m\u001b[0mappend\u001b[0m\u001b[1;33m(\u001b[0m\u001b[0mmodels\u001b[0m\u001b[1;33m)\u001b[0m\u001b[1;33m\u001b[0m\u001b[1;33m\u001b[0m\u001b[0m\n",
      "\u001b[1;32m~/opt/anaconda3/lib/python3.7/site-packages/ngboost/ngboost.py\u001b[0m in \u001b[0;36m<listcomp>\u001b[1;34m(.0)\u001b[0m\n\u001b[0;32m     45\u001b[0m \u001b[1;33m\u001b[0m\u001b[0m\n\u001b[0;32m     46\u001b[0m     \u001b[1;32mdef\u001b[0m \u001b[0mfit_base\u001b[0m\u001b[1;33m(\u001b[0m\u001b[0mself\u001b[0m\u001b[1;33m,\u001b[0m \u001b[0mX\u001b[0m\u001b[1;33m,\u001b[0m \u001b[0mgrads\u001b[0m\u001b[1;33m)\u001b[0m\u001b[1;33m:\u001b[0m\u001b[1;33m\u001b[0m\u001b[1;33m\u001b[0m\u001b[0m\n\u001b[1;32m---> 47\u001b[1;33m         \u001b[0mmodels\u001b[0m \u001b[1;33m=\u001b[0m \u001b[1;33m[\u001b[0m\u001b[0mself\u001b[0m\u001b[1;33m.\u001b[0m\u001b[0mBase\u001b[0m\u001b[1;33m(\u001b[0m\u001b[1;33m)\u001b[0m\u001b[1;33m.\u001b[0m\u001b[0mfit\u001b[0m\u001b[1;33m(\u001b[0m\u001b[0mX\u001b[0m\u001b[1;33m,\u001b[0m \u001b[0mg\u001b[0m\u001b[1;33m)\u001b[0m \u001b[1;32mfor\u001b[0m \u001b[0mg\u001b[0m \u001b[1;32min\u001b[0m \u001b[0mgrads\u001b[0m\u001b[1;33m.\u001b[0m\u001b[0mT\u001b[0m\u001b[1;33m]\u001b[0m\u001b[1;33m\u001b[0m\u001b[1;33m\u001b[0m\u001b[0m\n\u001b[0m\u001b[0;32m     48\u001b[0m         \u001b[0mfitted\u001b[0m \u001b[1;33m=\u001b[0m \u001b[0mnp\u001b[0m\u001b[1;33m.\u001b[0m\u001b[0marray\u001b[0m\u001b[1;33m(\u001b[0m\u001b[1;33m[\u001b[0m\u001b[0mm\u001b[0m\u001b[1;33m.\u001b[0m\u001b[0mpredict\u001b[0m\u001b[1;33m(\u001b[0m\u001b[0mX\u001b[0m\u001b[1;33m)\u001b[0m \u001b[1;32mfor\u001b[0m \u001b[0mm\u001b[0m \u001b[1;32min\u001b[0m \u001b[0mmodels\u001b[0m\u001b[1;33m]\u001b[0m\u001b[1;33m)\u001b[0m\u001b[1;33m.\u001b[0m\u001b[0mT\u001b[0m\u001b[1;33m\u001b[0m\u001b[1;33m\u001b[0m\u001b[0m\n\u001b[0;32m     49\u001b[0m         \u001b[0mself\u001b[0m\u001b[1;33m.\u001b[0m\u001b[0mbase_models\u001b[0m\u001b[1;33m.\u001b[0m\u001b[0mappend\u001b[0m\u001b[1;33m(\u001b[0m\u001b[0mmodels\u001b[0m\u001b[1;33m)\u001b[0m\u001b[1;33m\u001b[0m\u001b[1;33m\u001b[0m\u001b[0m\n",
      "\u001b[1;32m~/opt/anaconda3/lib/python3.7/site-packages/sklearn/tree/tree.py\u001b[0m in \u001b[0;36mfit\u001b[1;34m(self, X, y, sample_weight, check_input, X_idx_sorted)\u001b[0m\n\u001b[0;32m   1155\u001b[0m             \u001b[0msample_weight\u001b[0m\u001b[1;33m=\u001b[0m\u001b[0msample_weight\u001b[0m\u001b[1;33m,\u001b[0m\u001b[1;33m\u001b[0m\u001b[1;33m\u001b[0m\u001b[0m\n\u001b[0;32m   1156\u001b[0m             \u001b[0mcheck_input\u001b[0m\u001b[1;33m=\u001b[0m\u001b[0mcheck_input\u001b[0m\u001b[1;33m,\u001b[0m\u001b[1;33m\u001b[0m\u001b[1;33m\u001b[0m\u001b[0m\n\u001b[1;32m-> 1157\u001b[1;33m             X_idx_sorted=X_idx_sorted)\n\u001b[0m\u001b[0;32m   1158\u001b[0m         \u001b[1;32mreturn\u001b[0m \u001b[0mself\u001b[0m\u001b[1;33m\u001b[0m\u001b[1;33m\u001b[0m\u001b[0m\n\u001b[0;32m   1159\u001b[0m \u001b[1;33m\u001b[0m\u001b[0m\n",
      "\u001b[1;32m~/opt/anaconda3/lib/python3.7/site-packages/sklearn/tree/tree.py\u001b[0m in \u001b[0;36mfit\u001b[1;34m(self, X, y, sample_weight, check_input, X_idx_sorted)\u001b[0m\n\u001b[0;32m    378\u001b[0m                                            min_impurity_split)\n\u001b[0;32m    379\u001b[0m \u001b[1;33m\u001b[0m\u001b[0m\n\u001b[1;32m--> 380\u001b[1;33m         \u001b[0mbuilder\u001b[0m\u001b[1;33m.\u001b[0m\u001b[0mbuild\u001b[0m\u001b[1;33m(\u001b[0m\u001b[0mself\u001b[0m\u001b[1;33m.\u001b[0m\u001b[0mtree_\u001b[0m\u001b[1;33m,\u001b[0m \u001b[0mX\u001b[0m\u001b[1;33m,\u001b[0m \u001b[0my\u001b[0m\u001b[1;33m,\u001b[0m \u001b[0msample_weight\u001b[0m\u001b[1;33m,\u001b[0m \u001b[0mX_idx_sorted\u001b[0m\u001b[1;33m)\u001b[0m\u001b[1;33m\u001b[0m\u001b[1;33m\u001b[0m\u001b[0m\n\u001b[0m\u001b[0;32m    381\u001b[0m \u001b[1;33m\u001b[0m\u001b[0m\n\u001b[0;32m    382\u001b[0m         \u001b[1;32mif\u001b[0m \u001b[0mself\u001b[0m\u001b[1;33m.\u001b[0m\u001b[0mn_outputs_\u001b[0m \u001b[1;33m==\u001b[0m \u001b[1;36m1\u001b[0m\u001b[1;33m:\u001b[0m\u001b[1;33m\u001b[0m\u001b[1;33m\u001b[0m\u001b[0m\n",
      "\u001b[1;31mKeyboardInterrupt\u001b[0m: "
     ]
    }
   ],
   "source": [
    "ngb = NGBRegressor(learning_rate=0.1, verbose_eval=5, n_estimators=40).fit(X.replace({np.inf: 0}), Y_train)"
   ]
  },
  {
   "cell_type": "code",
   "execution_count": 87,
   "metadata": {},
   "outputs": [
    {
     "name": "stdout",
     "output_type": "stream",
     "text": [
      "Test MSE 0.9850934537611421\n"
     ]
    }
   ],
   "source": [
    "Y_preds = ngb.predict(X_train)\n",
    "test_MSE = mean_squared_error(Y_preds, Y_train)\n",
    "print('Test MSE', np.sqrt(test_MSE))"
   ]
  },
  {
   "cell_type": "code",
   "execution_count": 88,
   "metadata": {},
   "outputs": [
    {
     "name": "stdout",
     "output_type": "stream",
     "text": [
      "Test MSE 1.0242779443152756\n"
     ]
    }
   ],
   "source": [
    "Y_preds = ngb.predict(X_test)\n",
    "test_MSE = mean_squared_error(Y_preds, Y_test)\n",
    "print('Test MSE', np.sqrt(test_MSE))"
   ]
  },
  {
   "cell_type": "code",
   "execution_count": 44,
   "metadata": {},
   "outputs": [
    {
     "name": "stdout",
     "output_type": "stream",
     "text": [
      "[iter 0] loss=3.6491 val_loss=0.0000 scale=0.5000 norm=3.3612\n",
      "[iter 100] loss=3.0818 val_loss=0.0000 scale=1.0000 norm=3.7813\n",
      "[iter 200] loss=2.4349 val_loss=0.0000 scale=2.0000 norm=4.0105\n",
      "[iter 300] loss=2.0369 val_loss=0.0000 scale=2.0000 norm=3.1987\n",
      "[iter 400] loss=1.8326 val_loss=0.0000 scale=2.0000 norm=2.8591\n",
      "Test MSE 6.857203610165826\n"
     ]
    }
   ],
   "source": [
    "from ngboost import NGBRegressor\n",
    "\n",
    "from sklearn.datasets import load_boston\n",
    "from sklearn.model_selection import train_test_split\n",
    "from sklearn.metrics import mean_squared_error\n",
    "\n",
    "\n",
    "X, Y = load_boston(True)\n",
    "X_train, X_test, Y_train, Y_test = train_test_split(X, Y, test_size=0.2)\n",
    "\n",
    "ngb = NGBRegressor().fit(X_train, Y_train)\n",
    "Y_preds = ngb.predict(X_test)\n",
    "Y_dists = ngb.pred_dist(X_test)\n",
    "\n",
    "# test Mean Squared Error\n",
    "test_MSE = mean_squared_error(Y_preds, Y_test)\n",
    "print('Test MSE', test_MSE)"
   ]
  },
  {
   "cell_type": "code",
   "execution_count": 58,
   "metadata": {},
   "outputs": [
    {
     "name": "stdout",
     "output_type": "stream",
     "text": [
      "Test MSE 13.244407747518137\n"
     ]
    }
   ],
   "source": [
    "from lightgbm import LGBMRegressor\n",
    "\n",
    "lgb = LGBMRegressor(num_leaves=4, max_depth=4).fit(X_train, Y_train)\n",
    "Y_preds = lgb.predict(X_test)\n",
    "\n",
    "test_MSE = mean_squared_error(Y_preds, Y_test)\n",
    "print('Test MSE', test_MSE)"
   ]
  },
  {
   "cell_type": "code",
   "execution_count": null,
   "metadata": {},
   "outputs": [],
   "source": []
  },
  {
   "cell_type": "code",
   "execution_count": null,
   "metadata": {},
   "outputs": [],
   "source": []
  },
  {
   "cell_type": "code",
   "execution_count": 1,
   "metadata": {},
   "outputs": [],
   "source": [
    "import numpy as np\n",
    "import pandas as pd\n",
    "\n",
    "from matplotlib import pyplot as plt\n",
    "\n",
    "import pickle\n",
    "import models\n",
    "import json"
   ]
  },
  {
   "cell_type": "code",
   "execution_count": 2,
   "metadata": {},
   "outputs": [],
   "source": [
    "from sklearn.model_selection import train_test_split\n",
    "from sklearn.preprocessing import StandardScaler"
   ]
  },
  {
   "cell_type": "code",
   "execution_count": 3,
   "metadata": {},
   "outputs": [],
   "source": [
    "from tensorflow import keras"
   ]
  },
  {
   "cell_type": "code",
   "execution_count": 4,
   "metadata": {},
   "outputs": [],
   "source": [
    "train_df = pd.read_csv('./data/preprocessed_train.csv')"
   ]
  },
  {
   "cell_type": "code",
   "execution_count": 15,
   "metadata": {},
   "outputs": [],
   "source": [
    "last_df = train_df.groupby('installation_id').last().reset_index()"
   ]
  },
  {
   "cell_type": "code",
   "execution_count": 18,
   "metadata": {},
   "outputs": [],
   "source": [
    "title_event_codes =[col for col in train_df.columns if 'title_event_code' in col]"
   ]
  },
  {
   "cell_type": "code",
   "execution_count": 26,
   "metadata": {},
   "outputs": [],
   "source": [
    "n = last_df.shape[0]"
   ]
  },
  {
   "cell_type": "code",
   "execution_count": 28,
   "metadata": {},
   "outputs": [],
   "source": [
    "doc_freq = (last_df[title_event_codes] != 0).sum()"
   ]
  },
  {
   "cell_type": "code",
   "execution_count": 34,
   "metadata": {},
   "outputs": [],
   "source": [
    "idf = np.log((1 + n) / (1 + doc_freq)) + 1"
   ]
  },
  {
   "cell_type": "code",
   "execution_count": 42,
   "metadata": {},
   "outputs": [],
   "source": [
    "train_df[title_event_codes] = train_df[title_event_codes] * idf"
   ]
  },
  {
   "cell_type": "code",
   "execution_count": 43,
   "metadata": {},
   "outputs": [],
   "source": [
    "train_df.to_csv('./data/idf_preprocessed_train.csv', index=False)"
   ]
  },
  {
   "cell_type": "code",
   "execution_count": null,
   "metadata": {},
   "outputs": [],
   "source": []
  },
  {
   "cell_type": "code",
   "execution_count": null,
   "metadata": {},
   "outputs": [],
   "source": []
  },
  {
   "cell_type": "code",
   "execution_count": 526,
   "metadata": {},
   "outputs": [],
   "source": [
    "train_df = train_df.fillna(0)"
   ]
  },
  {
   "cell_type": "code",
   "execution_count": 527,
   "metadata": {},
   "outputs": [],
   "source": [
    "X = train_df.drop(columns=['accuracy_group', 'installation_id'])\n",
    "y = train_df['accuracy_group']"
   ]
  },
  {
   "cell_type": "code",
   "execution_count": 528,
   "metadata": {},
   "outputs": [],
   "source": [
    "X_train, X_test, y_train, y_test = train_test_split(X, y, test_size=0.2, random_state=42)"
   ]
  },
  {
   "cell_type": "code",
   "execution_count": 529,
   "metadata": {},
   "outputs": [],
   "source": [
    "scaler = StandardScaler()\n",
    "X_train = scaler.fit_transform(X_train)\n",
    "X_test = scaler.transform(X_test)"
   ]
  },
  {
   "cell_type": "code",
   "execution_count": null,
   "metadata": {},
   "outputs": [],
   "source": []
  },
  {
   "cell_type": "code",
   "execution_count": null,
   "metadata": {},
   "outputs": [],
   "source": []
  },
  {
   "cell_type": "code",
   "execution_count": null,
   "metadata": {},
   "outputs": [],
   "source": []
  },
  {
   "cell_type": "code",
   "execution_count": null,
   "metadata": {},
   "outputs": [],
   "source": []
  },
  {
   "cell_type": "code",
   "execution_count": 425,
   "metadata": {},
   "outputs": [
    {
     "data": {
      "text/plain": [
       "0        3\n",
       "1        0\n",
       "2        3\n",
       "3        2\n",
       "4        3\n",
       "        ..\n",
       "17685    3\n",
       "17686    3\n",
       "17687    1\n",
       "17688    0\n",
       "17689    1\n",
       "Name: accuracy_group, Length: 17690, dtype: int64"
      ]
     },
     "execution_count": 425,
     "metadata": {},
     "output_type": "execute_result"
    }
   ],
   "source": [
    "train_df['accuracy_group']"
   ]
  },
  {
   "cell_type": "code",
   "execution_count": 412,
   "metadata": {},
   "outputs": [
    {
     "data": {
      "text/plain": [
       "0      1.000000\n",
       "1      0.466667\n",
       "2           NaN\n",
       "3           NaN\n",
       "4           NaN\n",
       "         ...   \n",
       "995    1.000000\n",
       "996    1.000000\n",
       "997    0.444444\n",
       "998    0.000000\n",
       "999    1.000000\n",
       "Length: 1000, dtype: float64"
      ]
     },
     "execution_count": 412,
     "metadata": {},
     "output_type": "execute_result"
    }
   ],
   "source": [
    "test_df[['last_accuracy_Bird Measurer (Assessment)',\n",
    "                                 'last_accuracy_Cart Balancer (Assessment)',\n",
    "                                 'last_accuracy_Cauldron Filler (Assessment)',\n",
    "                                 'last_accuracy_Chest Sorter (Assessment)',\n",
    "                                 'last_accuracy_Mushroom Sorter (Assessment)']].mean(axis=1)"
   ]
  },
  {
   "cell_type": "code",
   "execution_count": 401,
   "metadata": {},
   "outputs": [],
   "source": [
    "test_df = pd.read_csv('./data/preprocessed_test.csv')"
   ]
  },
  {
   "cell_type": "code",
   "execution_count": 259,
   "metadata": {},
   "outputs": [],
   "source": [
    "test_df = pd.read_csv('./data/test.csv')"
   ]
  },
  {
   "cell_type": "code",
   "execution_count": 279,
   "metadata": {},
   "outputs": [],
   "source": [
    "lst = []"
   ]
  },
  {
   "cell_type": "code",
   "execution_count": 328,
   "metadata": {},
   "outputs": [],
   "source": [
    "toys = []"
   ]
  },
  {
   "cell_type": "code",
   "execution_count": 329,
   "metadata": {},
   "outputs": [],
   "source": [
    "for x in test_df['event_data'][test_df['event_data'].str.contains('\"toy_earned\":')]:\n",
    "    try:\n",
    "        toys.append(json.loads(x)['toy_earned'])\n",
    "    except:\n",
    "        pass"
   ]
  },
  {
   "cell_type": "code",
   "execution_count": 330,
   "metadata": {},
   "outputs": [
    {
     "data": {
      "text/plain": [
       "          507\n",
       "ufo        90\n",
       "ball       89\n",
       "ship       86\n",
       "rocket     79\n",
       "duck       67\n",
       "dtype: int64"
      ]
     },
     "execution_count": 330,
     "metadata": {},
     "output_type": "execute_result"
    }
   ],
   "source": [
    "pd.value_counts(toys)"
   ]
  },
  {
   "cell_type": "code",
   "execution_count": 286,
   "metadata": {},
   "outputs": [],
   "source": [
    "for x in test_df['event_data']:\n",
    "    dct = json.loads(x)"
   ]
  },
  {
   "cell_type": "code",
   "execution_count": null,
   "metadata": {},
   "outputs": [],
   "source": [
    "tutorial_step"
   ]
  },
  {
   "cell_type": "code",
   "execution_count": 368,
   "metadata": {},
   "outputs": [
    {
     "data": {
      "text/plain": [
       "1000"
      ]
     },
     "execution_count": 368,
     "metadata": {},
     "output_type": "execute_result"
    }
   ],
   "source": [
    "test_df['installation_id'].nunique()"
   ]
  },
  {
   "cell_type": "code",
   "execution_count": 381,
   "metadata": {},
   "outputs": [
    {
     "data": {
      "text/plain": [
       "0"
      ]
     },
     "execution_count": 381,
     "metadata": {},
     "output_type": "execute_result"
    }
   ],
   "source": [
    "test_df['event_data'][test_df['event_data'].str.contains('blablabf')].map(lambda x: json.loads(x)).sum()"
   ]
  },
  {
   "cell_type": "code",
   "execution_count": 386,
   "metadata": {},
   "outputs": [
    {
     "data": {
      "text/plain": [
       "(682, 11)"
      ]
     },
     "execution_count": 386,
     "metadata": {},
     "output_type": "execute_result"
    }
   ],
   "source": [
    "test_df.iloc[idx].shape"
   ]
  },
  {
   "cell_type": "code",
   "execution_count": 396,
   "metadata": {},
   "outputs": [
    {
     "data": {
      "text/plain": [
       "1     174\n",
       "2      75\n",
       "3      34\n",
       "4      20\n",
       "6       7\n",
       "7       5\n",
       "5       4\n",
       "12      2\n",
       "11      2\n",
       "10      2\n",
       "13      1\n",
       "Name: event_id, dtype: int64"
      ]
     },
     "execution_count": 396,
     "metadata": {},
     "output_type": "execute_result"
    }
   ],
   "source": [
    "test_df.iloc[idx].groupby('installation_id').count()['event_id'].value_counts()"
   ]
  },
  {
   "cell_type": "code",
   "execution_count": 393,
   "metadata": {},
   "outputs": [
    {
     "data": {
      "text/plain": [
       "1146       6\n",
       "1973       2\n",
       "3017       2\n",
       "7022       2\n",
       "7316       2\n",
       "          ..\n",
       "1146877    2\n",
       "1153204    2\n",
       "1153453    2\n",
       "1155509    2\n",
       "1156122    4\n",
       "Name: event_data, Length: 682, dtype: int64"
      ]
     },
     "execution_count": 393,
     "metadata": {},
     "output_type": "execute_result"
    }
   ],
   "source": [
    "test_df['event_data'][test_df['event_data'].str.contains('\"tutorial_step\"')].map(lambda x: int(json.loads(x)['tutorial_step']))"
   ]
  },
  {
   "cell_type": "code",
   "execution_count": 362,
   "metadata": {},
   "outputs": [
    {
     "data": {
      "text/plain": [
       "'[{\"name\":\"game_time\",\"type\":\"int\",\"info\":\"millisecond count since start of game\"},{\"name\":\"round\",\"type\":\"int\",\"info\":\"number of the current round when the event takes place or 0 if no round\"},{\"name\":\"duration\",\"type\":\"int\",\"info\":\"the duration spent in the tutorial in milliseconds. Time between start tutorial and skip tutorial.\"},{\"name\":\"tutorial_step\",\"type\":\"int\",\"info\":\"the current step of the tutorial when the tutorial was skipped\"},{\"name\":\"event_count\",\"type\":\"int\",\"info\":\"session event counter\"},{\"name\":\"event_code\",\"type\":\"int\",\"info\":\"event class identifier\"}]'"
      ]
     },
     "execution_count": 362,
     "metadata": {},
     "output_type": "execute_result"
    }
   ],
   "source": [
    "specs['args'][specs['args'].map(lambda x: '\"name\":\"tutorial_step\"' in x)].values[0]"
   ]
  },
  {
   "cell_type": "code",
   "execution_count": 289,
   "metadata": {},
   "outputs": [
    {
     "data": {
      "text/plain": [
       "{'event_count': 1156414,\n",
       " 'event_code': 1156414,\n",
       " 'game_time': 1141161,\n",
       " 'round': 684483,\n",
       " 'coordinates': 592409,\n",
       " 'description': 394660,\n",
       " 'duration': 388007,\n",
       " 'identifier': 387905,\n",
       " 'media_type': 387905,\n",
       " 'total_duration': 195464,\n",
       " 'source': 169180,\n",
       " 'level': 96619,\n",
       " 'correct': 79385,\n",
       " 'size': 67202,\n",
       " 'weight': 58640,\n",
       " 'bottles': 57041,\n",
       " 'bottle': 56982,\n",
       " 'position': 44750,\n",
       " 'layout': 41025,\n",
       " 'dinosaur': 35641,\n",
       " 'jar': 29270,\n",
       " 'scale_contents': 29117,\n",
       " 'resources': 27895,\n",
       " 'misses': 26597,\n",
       " 'object': 24538,\n",
       " 'rocket': 23777,\n",
       " 'flowers': 23075,\n",
       " 'dinosaurs': 21788,\n",
       " 'jar_filled': 21061,\n",
       " 'height': 20426,\n",
       " 'table_weights': 19329,\n",
       " 'bowl_id': 17903,\n",
       " 'flower': 17751,\n",
       " 'has_water': 17722,\n",
       " 'holding_shell': 17722,\n",
       " 'round_target': 16861,\n",
       " 'shell_size': 16823,\n",
       " 'has_toy': 15448,\n",
       " 'water_level': 15040,\n",
       " 'cloud': 14974,\n",
       " 'cloud_size': 14974,\n",
       " 'target_weight': 14917,\n",
       " 'right': 14370,\n",
       " 'left': 14370,\n",
       " 'side': 13341,\n",
       " 'version': 13192,\n",
       " 'scale_weights': 12992,\n",
       " 'filled': 12532,\n",
       " 'animal': 11750,\n",
       " 'item_type': 11750,\n",
       " 'launched': 11484,\n",
       " 'scale_weight': 11176,\n",
       " 'crystals': 10801,\n",
       " 'bug': 10510,\n",
       " 'crystal_id': 10227,\n",
       " 'destination': 9890,\n",
       " 'pillars': 9590,\n",
       " 'previous_jars': 8989,\n",
       " 'dinosaurs_placed': 8712,\n",
       " 'animals': 8618,\n",
       " 'options': 8618,\n",
       " 'sand': 8481,\n",
       " 'caterpillars': 8467,\n",
       " 'mode': 8381,\n",
       " 'buckets': 8335,\n",
       " 'buckets_placed': 8025,\n",
       " 'house': 7989,\n",
       " 'bucket': 7392,\n",
       " 'caterpillar': 7343,\n",
       " 'location': 7254,\n",
       " 'toy': 6800,\n",
       " 'movie_id': 6755,\n",
       " 'dinosaur_count': 6512,\n",
       " 'dinosaur_weight': 6499,\n",
       " 'holes': 5891,\n",
       " 'hats': 5734,\n",
       " 'hat': 5646,\n",
       " 'growth': 5274,\n",
       " 'stumps': 5263,\n",
       " 'weights': 4559,\n",
       " 'nest': 4511,\n",
       " 'object_type': 4492,\n",
       " 'hole_position': 4430,\n",
       " 'gate': 4340,\n",
       " 'target_containers': 4144,\n",
       " 'castles_placed': 4038,\n",
       " 'current_containers': 4007,\n",
       " 'total_containers': 4007,\n",
       " 'target_distances': 3712,\n",
       " 'distance': 3257,\n",
       " 'diet': 3155,\n",
       " 'buglength': 3122,\n",
       " 'bird_height': 2951,\n",
       " 'prompt': 2556,\n",
       " 'group': 2554,\n",
       " 'houses': 2488,\n",
       " 'cauldron': 2361,\n",
       " 'target_size': 1938,\n",
       " 'round_number': 1853,\n",
       " 'starting_weights': 1778,\n",
       " 'target_bucket': 1716,\n",
       " 'target_water_level': 1526,\n",
       " 'bowls': 1477,\n",
       " 'total_bowls': 1477,\n",
       " 'shells': 1461,\n",
       " 'session_duration': 1397,\n",
       " 'container_type': 1097,\n",
       " 'containers': 987,\n",
       " 'hats_placed': 960,\n",
       " 'toy_earned': 918,\n",
       " 'stage_number': 911,\n",
       " 'time_played': 876,\n",
       " 'tutorial_step': 682,\n",
       " 'round_prompt': 672,\n",
       " 'exit_type': 360,\n",
       " 'end_position': 304,\n",
       " 'max_position': 304,\n",
       " 'dwell_time': 109,\n",
       " 'molds': 97,\n",
       " 'bug_length': 79,\n",
       " 'tape_length': 79,\n",
       " 'chests': 19}"
      ]
     },
     "execution_count": 289,
     "metadata": {},
     "output_type": "execute_result"
    }
   ],
   "source": [
    "pd.value_counts(lst).to_dict()"
   ]
  },
  {
   "cell_type": "code",
   "execution_count": null,
   "metadata": {},
   "outputs": [],
   "source": []
  },
  {
   "cell_type": "code",
   "execution_count": 229,
   "metadata": {},
   "outputs": [],
   "source": [
    "X = test_df\n",
    "\n",
    "X['hour_sin'] = X['hour'].map(lambda x: np.sin(2 * np.pi * x / 23))\n",
    "X['hour_cos'] = X['hour'].map(lambda x: np.cos(2 * np.pi * x / 23))\n",
    "X = X.drop(columns=['hour'])\n",
    "\n",
    "X['weekday_sin'] = X['weekday'].map(lambda x: np.sin(2 * np.pi * x / 6))\n",
    "X['weekday_cos'] = X['weekday'].map(lambda x: np.cos(2 * np.pi * x / 6))\n",
    "X = X.drop(columns=['weekday'])\n",
    "\n",
    "X['day_sin'] = X['day'].map(lambda x: np.sin(2 * np.pi * x / 6))\n",
    "X['day_cos'] = X['day'].map(lambda x: np.cos(2 * np.pi * x / 6))\n",
    "X = X.drop(columns=['day'])\n",
    "\n",
    "X['mean_time_per_day'] = X['total_time'] / X['days_since_installation']\n",
    "X['current_title_mean_time'] = X['current_title_total_time'] / X['current_title_count']\n",
    "X['current_world_mean_time'] = X['current_world_total_time'] / X['current_world_count']\n",
    "X['last_mean_accuracy'] = X[['last_accuracy_Bird Measurer (Assessment)',\n",
    "                             'last_accuracy_Cart Balancer (Assessment)',\n",
    "                             'last_accuracy_Cauldron Filler (Assessment)',\n",
    "                             'last_accuracy_Chest Sorter (Assessment)',\n",
    "                             'last_accuracy_Mushroom Sorter (Assessment)']].mean(axis=1)\n",
    "X['ratio_of_life_in_game'] = X['total_time'] / X['sec_since_installation']\n",
    "\n",
    "preds = model.predict(X)"
   ]
  },
  {
   "cell_type": "code",
   "execution_count": 236,
   "metadata": {},
   "outputs": [
    {
     "data": {
      "text/plain": [
       "array([0, 2, 3, 2, 2, 2, 1, 1, 0, 0, 2, 1, 3, 2, 2, 2, 2])"
      ]
     },
     "execution_count": 236,
     "metadata": {},
     "output_type": "execute_result"
    }
   ],
   "source": [
    "preds[[142, 288, 291, 309, 346, 386, 402, 561, 588, 653, 675, 687, 759,\n",
    "            772, 786, 815, 941]]"
   ]
  },
  {
   "cell_type": "code",
   "execution_count": 242,
   "metadata": {},
   "outputs": [
    {
     "data": {
      "text/plain": [
       "3    0.495575\n",
       "0    0.221239\n",
       "1    0.203540\n",
       "2    0.079646\n",
       "Name: accuracy_group, dtype: float64"
      ]
     },
     "execution_count": 242,
     "metadata": {},
     "output_type": "execute_result"
    }
   ],
   "source": [
    "train_df[train_df['accumulated_actions'] == 0]['accuracy_group'].value_counts(normalize=True)"
   ]
  },
  {
   "cell_type": "code",
   "execution_count": 257,
   "metadata": {},
   "outputs": [
    {
     "data": {
      "text/plain": [
       "<matplotlib.axes._subplots.AxesSubplot at 0x1321d8090>"
      ]
     },
     "execution_count": 257,
     "metadata": {},
     "output_type": "execute_result"
    },
    {
     "data": {
      "image/png": "[encoded data removed]",
      "text/plain": [
       "<Figure size 432x288 with 1 Axes>"
      ]
     },
     "metadata": {
      "needs_background": "light"
     },
     "output_type": "display_data"
    }
   ],
   "source": [
    "test_df['accumulated_actions'].map(np.log).sort_values().reset_index(drop=True).plot()"
   ]
  },
  {
   "cell_type": "code",
   "execution_count": 217,
   "metadata": {},
   "outputs": [
    {
     "data": {
      "text/plain": [
       "8.562"
      ]
     },
     "execution_count": 217,
     "metadata": {},
     "output_type": "execute_result"
    }
   ],
   "source": [
    "(test_df['type_Clip_count'] - test_df['changed_type_Clip_count']).mean()"
   ]
  },
  {
   "cell_type": "code",
   "execution_count": 209,
   "metadata": {},
   "outputs": [
    {
     "data": {
      "text/plain": [
       "28330"
      ]
     },
     "execution_count": 209,
     "metadata": {},
     "output_type": "execute_result"
    }
   ],
   "source": [
    "test_df['event_data'].str.contains('\"correct\":false').sum()"
   ]
  },
  {
   "cell_type": "code",
   "execution_count": 152,
   "metadata": {},
   "outputs": [],
   "source": [
    "specs = pd.read_csv('./data/specs.csv')"
   ]
  },
  {
   "cell_type": "code",
   "execution_count": 192,
   "metadata": {},
   "outputs": [],
   "source": [
    "import json"
   ]
  },
  {
   "cell_type": "code",
   "execution_count": 197,
   "metadata": {},
   "outputs": [
    {
     "data": {
      "text/plain": [
       "[{'name': 'game_time',\n",
       "  'type': 'int',\n",
       "  'info': 'millisecond count since start of game'},\n",
       " {'name': 'round',\n",
       "  'type': 'int',\n",
       "  'info': 'number of the current round when the event takes place or 0 if no round'},\n",
       " {'name': 'level',\n",
       "  'type': 'int',\n",
       "  'info': 'number of the current level when the event takes place or 0 if no level'},\n",
       " {'name': 'description',\n",
       "  'type': 'string',\n",
       "  'info': 'the text or description of the instruction'},\n",
       " {'name': 'identifier',\n",
       "  'type': 'string',\n",
       "  'info': 'a unique identifier for this piece of instruction'},\n",
       " {'name': 'media_type',\n",
       "  'type': 'string',\n",
       "  'info': \"the type of media that has just played:\\n'audio' || 'animation' || 'other'\"},\n",
       " {'name': 'duration',\n",
       "  'type': 'int',\n",
       "  'info': 'the duration of the media playback in milliseconds'},\n",
       " {'name': 'event_count', 'type': 'int', 'info': 'session event counter'},\n",
       " {'name': 'event_code', 'type': 'int', 'info': 'event class identifier'}]"
      ]
     },
     "execution_count": 197,
     "metadata": {},
     "output_type": "execute_result"
    }
   ],
   "source": [
    "specs['args'].map(json.loads)[0]"
   ]
  },
  {
   "cell_type": "code",
   "execution_count": null,
   "metadata": {},
   "outputs": [],
   "source": [
    "'misses', 'correct', "
   ]
  },
  {
   "cell_type": "code",
   "execution_count": 191,
   "metadata": {},
   "outputs": [
    {
     "data": {
      "text/plain": [
       "17     True\n",
       "25     True\n",
       "75     True\n",
       "76     True\n",
       "84     True\n",
       "86     True\n",
       "104    True\n",
       "165    True\n",
       "187    True\n",
       "217    True\n",
       "270    True\n",
       "273    True\n",
       "315    True\n",
       "327    True\n",
       "338    True\n",
       "361    True\n",
       "373    True\n",
       "Name: args, dtype: bool"
      ]
     },
     "execution_count": 191,
     "metadata": {},
     "output_type": "execute_result"
    }
   ],
   "source": [
    "specs['args'][specs['args'].map(lambda x: '\"name\":\"misses\",\"type\":\"int\"' in x)] == specs['args'][specs['args'].map(lambda x: '\"name\":\"misses\"' in x)]"
   ]
  },
  {
   "cell_type": "code",
   "execution_count": 137,
   "metadata": {},
   "outputs": [],
   "source": [
    "X = pd.read_csv('./data/preprocessed_train.csv')"
   ]
  },
  {
   "cell_type": "code",
   "execution_count": 151,
   "metadata": {},
   "outputs": [
    {
     "data": {
      "text/plain": [
       "title_event_code_Scrub-A-Dub_4080_count                       0.0\n",
       "title_event_code_Sandcastle Builder (Activity)_2010_count     0.0\n",
       "title_event_code_Crystals Rule_2010_count                     0.0\n",
       "title_event_code_Bottle Filler (Activity)_2010_count          0.0\n",
       "title_event_code_Air Show_4080_count                          0.0\n",
       "title_event_code_Pan Balance_2010_count                       0.0\n",
       "title_event_code_Dino Dive_4080_count                         5.0\n",
       "title_event_code_Leaf Leader_4080_count                       8.0\n",
       "title_event_code_Watering Hole (Activity)_2010_count         13.0\n",
       "title_event_code_Happy Camel_4080_count                      15.0\n",
       "dtype: float64"
      ]
     },
     "execution_count": 151,
     "metadata": {},
     "output_type": "execute_result"
    }
   ],
   "source": [
    "X.drop(columns=['installation_id']).sum().sort_values().head(10)"
   ]
  },
  {
   "cell_type": "code",
   "execution_count": 119,
   "metadata": {},
   "outputs": [
    {
     "data": {
      "text/plain": [
       "(1.8855850763143018, 1.256796193579197)"
      ]
     },
     "execution_count": 119,
     "metadata": {},
     "output_type": "execute_result"
    }
   ],
   "source": [
    "y.mean(), y.std()"
   ]
  },
  {
   "cell_type": "code",
   "execution_count": 294,
   "metadata": {},
   "outputs": [],
   "source": [
    "import numpy as np\n",
    "import config"
   ]
  },
  {
   "cell_type": "code",
   "execution_count": 171,
   "metadata": {},
   "outputs": [
    {
     "data": {
      "text/plain": [
       "(0.644143536068335, 0.38074848963511654, 0.6630479053356686)"
      ]
     },
     "execution_count": 171,
     "metadata": {},
     "output_type": "execute_result"
    }
   ],
   "source": [
    "np.random.seed(30)\n",
    "np.random.random(), np.random.random(), np.random.random()"
   ]
  },
  {
   "cell_type": "code",
   "execution_count": 289,
   "metadata": {},
   "outputs": [],
   "source": [
    "with open('./model.pkl', 'rb') as fin:\n",
    "    model_old = pickle.load(fin)"
   ]
  },
  {
   "cell_type": "code",
   "execution_count": 326,
   "metadata": {},
   "outputs": [],
   "source": [
    "  \n",
    "with open('./checkpoints/model.pkl', 'rb') as fin:\n",
    "    model = pickle.load(fin)"
   ]
  },
  {
   "cell_type": "code",
   "execution_count": 295,
   "metadata": {},
   "outputs": [],
   "source": [
    "X = pd.read_csv(config.preprocessed_train_path)\n",
    "X_add = pd.read_csv(config.preprocessed_test_for_train_path)\n",
    "X = pd.concat([X, X_add])\n",
    "y = X['accuracy_group']"
   ]
  },
  {
   "cell_type": "code",
   "execution_count": 371,
   "metadata": {},
   "outputs": [],
   "source": [
    "y = X['accuracy_group']"
   ]
  },
  {
   "cell_type": "code",
   "execution_count": 302,
   "metadata": {},
   "outputs": [],
   "source": [
    "from metric import qwk\n",
    "\n",
    "def allocate_to_rate(y_pred):\n",
    "    \"\"\"Allocates raw predictions to rates.\"\"\"\n",
    "    rates = np.zeros(y_pred.size, dtype=int)\n",
    "    for i in range(3):\n",
    "        rates[y_pred >= i + 0.5] = i + 1\n",
    "    return rates"
   ]
  },
  {
   "cell_type": "code",
   "execution_count": 299,
   "metadata": {},
   "outputs": [
    {
     "data": {
      "text/plain": [
       "(19151,)"
      ]
     },
     "execution_count": 299,
     "metadata": {},
     "output_type": "execute_result"
    }
   ],
   "source": [
    "y.shape"
   ]
  },
  {
   "cell_type": "code",
   "execution_count": 298,
   "metadata": {},
   "outputs": [
    {
     "data": {
      "text/plain": [
       "(19151,)"
      ]
     },
     "execution_count": 298,
     "metadata": {},
     "output_type": "execute_result"
    }
   ],
   "source": [
    "model.oof_train.shape"
   ]
  },
  {
   "cell_type": "code",
   "execution_count": 327,
   "metadata": {},
   "outputs": [
    {
     "data": {
      "text/plain": [
       "19151"
      ]
     },
     "execution_count": 327,
     "metadata": {},
     "output_type": "execute_result"
    }
   ],
   "source": [
    "(model.oof_train != model_old.oof_train).sum()"
   ]
  },
  {
   "cell_type": "code",
   "execution_count": 337,
   "metadata": {},
   "outputs": [
    {
     "data": {
      "text/plain": [
       "array([[1.        , 0.98196568],\n",
       "       [0.98196568, 1.        ]])"
      ]
     },
     "execution_count": 337,
     "metadata": {},
     "output_type": "execute_result"
    }
   ],
   "source": [
    "np.corrcoef(model.oof_train, model_old.oof_train)"
   ]
  },
  {
   "cell_type": "code",
   "execution_count": 329,
   "metadata": {},
   "outputs": [
    {
     "data": {
      "text/plain": [
       "0.5921700149353566"
      ]
     },
     "execution_count": 329,
     "metadata": {},
     "output_type": "execute_result"
    }
   ],
   "source": [
    "qwk(y, allocate_to_rate(model.oof_train))"
   ]
  },
  {
   "cell_type": "code",
   "execution_count": 330,
   "metadata": {},
   "outputs": [
    {
     "data": {
      "text/plain": [
       "0.5952362277137215"
      ]
     },
     "execution_count": 330,
     "metadata": {},
     "output_type": "execute_result"
    }
   ],
   "source": [
    "qwk(y, allocate_to_rate(model_old.oof_train))"
   ]
  },
  {
   "cell_type": "code",
   "execution_count": 388,
   "metadata": {},
   "outputs": [],
   "source": [
    "with open('./best_model_1.pkl', 'rb') as fin:\n",
    "    model_1 = pickle.load(fin)\n",
    "with open('./best_model_2.pkl', 'rb') as fin:\n",
    "    model_2 = pickle.load(fin)"
   ]
  },
  {
   "cell_type": "code",
   "execution_count": 389,
   "metadata": {},
   "outputs": [
    {
     "data": {
      "text/plain": [
       "array([[1.        , 0.98351468],\n",
       "       [0.98351468, 1.        ]])"
      ]
     },
     "execution_count": 389,
     "metadata": {},
     "output_type": "execute_result"
    }
   ],
   "source": [
    "np.corrcoef([model_1.oof_train, model_2.oof_train])"
   ]
  },
  {
   "cell_type": "code",
   "execution_count": 391,
   "metadata": {},
   "outputs": [
    {
     "data": {
      "text/plain": [
       "2440"
      ]
     },
     "execution_count": 391,
     "metadata": {},
     "output_type": "execute_result"
    }
   ],
   "source": [
    "(allocate_to_rate(model_1.oof_train) != allocate_to_rate(model_2.oof_train)).sum()"
   ]
  },
  {
   "cell_type": "code",
   "execution_count": 372,
   "metadata": {},
   "outputs": [],
   "source": [
    "mx = 0\n",
    "mx_x = 0\n",
    "mx_z = 0\n",
    "for x in np.linspace(0, 1, 100):\n",
    "    for z in np.linspace(0, 1, 100):\n",
    "        num = qwk(y, allocate_to_rate(model_1.oof_train * x + model_2.oof_train * (1 - x - z) + model.oof_train * z))\n",
    "        if num > mx:\n",
    "            mx = num\n",
    "            mx_x = x\n",
    "            mx_z = z"
   ]
  },
  {
   "cell_type": "code",
   "execution_count": 373,
   "metadata": {},
   "outputs": [
    {
     "data": {
      "text/plain": [
       "(0.5952362277137215, 1.0, 0.0)"
      ]
     },
     "execution_count": 373,
     "metadata": {},
     "output_type": "execute_result"
    }
   ],
   "source": [
    "mx, mx_x, mx_z"
   ]
  },
  {
   "cell_type": "code",
   "execution_count": 356,
   "metadata": {},
   "outputs": [
    {
     "data": {
      "text/plain": [
       "0.5353535353535354"
      ]
     },
     "execution_count": 356,
     "metadata": {},
     "output_type": "execute_result"
    }
   ],
   "source": [
    "mx_x"
   ]
  },
  {
   "cell_type": "code",
   "execution_count": 116,
   "metadata": {},
   "outputs": [
    {
     "data": {
      "text/plain": [
       "4913"
      ]
     },
     "execution_count": 116,
     "metadata": {},
     "output_type": "execute_result"
    }
   ],
   "source": [
    "np.abs((preds - check_preds)).sum()"
   ]
  },
  {
   "cell_type": "code",
   "execution_count": 134,
   "metadata": {},
   "outputs": [],
   "source": [
    "imps_std = np.std([m.feature_importance() for m in model.models], axis=0) / np.mean([m.feature_importance() for m in model.models], axis=0)"
   ]
  },
  {
   "cell_type": "code",
   "execution_count": 213,
   "metadata": {},
   "outputs": [],
   "source": [
    "imps = np.sum([m.feature_importance() for m in model.models], axis=0) / 5"
   ]
  },
  {
   "cell_type": "code",
   "execution_count": 214,
   "metadata": {},
   "outputs": [
    {
     "data": {
      "text/plain": [
       "1206"
      ]
     },
     "execution_count": 214,
     "metadata": {},
     "output_type": "execute_result"
    }
   ],
   "source": [
    "len(imps)"
   ]
  },
  {
   "cell_type": "code",
   "execution_count": 225,
   "metadata": {},
   "outputs": [],
   "source": [
    "df_1 = pd.read_csv('./data/submission_1.csv')\n",
    "df_2 = pd.read_csv('./data/submission.csv')"
   ]
  },
  {
   "cell_type": "code",
   "execution_count": 238,
   "metadata": {},
   "outputs": [],
   "source": [
    "df_2['accuracy_group'] = np.round(df_1['accuracy_group'] * 0.5 + df_2['accuracy_group'] * 0.5).astype(int)\n",
    "df_2.to_csv('submission.csv', index=False)"
   ]
  },
  {
   "cell_type": "code",
   "execution_count": 239,
   "metadata": {},
   "outputs": [
    {
     "data": {
      "text/html": [
       "<div>\n",
       "<style scoped>\n",
       "    .dataframe tbody tr th:only-of-type {\n",
       "        vertical-align: middle;\n",
       "    }\n",
       "\n",
       "    .dataframe tbody tr th {\n",
       "        vertical-align: top;\n",
       "    }\n",
       "\n",
       "    .dataframe thead th {\n",
       "        text-align: right;\n",
       "    }\n",
       "</style>\n",
       "<table border=\"1\" class=\"dataframe\">\n",
       "  <thead>\n",
       "    <tr style=\"text-align: right;\">\n",
       "      <th></th>\n",
       "      <th>installation_id</th>\n",
       "      <th>accuracy_group</th>\n",
       "    </tr>\n",
       "  </thead>\n",
       "  <tbody>\n",
       "    <tr>\n",
       "      <th>0</th>\n",
       "      <td>00abaee7</td>\n",
       "      <td>2</td>\n",
       "    </tr>\n",
       "    <tr>\n",
       "      <th>1</th>\n",
       "      <td>01242218</td>\n",
       "      <td>3</td>\n",
       "    </tr>\n",
       "    <tr>\n",
       "      <th>2</th>\n",
       "      <td>017c5718</td>\n",
       "      <td>3</td>\n",
       "    </tr>\n",
       "    <tr>\n",
       "      <th>3</th>\n",
       "      <td>01a44906</td>\n",
       "      <td>3</td>\n",
       "    </tr>\n",
       "    <tr>\n",
       "      <th>4</th>\n",
       "      <td>01bc6cb6</td>\n",
       "      <td>2</td>\n",
       "    </tr>\n",
       "    <tr>\n",
       "      <th>...</th>\n",
       "      <td>...</td>\n",
       "      <td>...</td>\n",
       "    </tr>\n",
       "    <tr>\n",
       "      <th>995</th>\n",
       "      <td>fee254cf</td>\n",
       "      <td>3</td>\n",
       "    </tr>\n",
       "    <tr>\n",
       "      <th>996</th>\n",
       "      <td>ff57e602</td>\n",
       "      <td>0</td>\n",
       "    </tr>\n",
       "    <tr>\n",
       "      <th>997</th>\n",
       "      <td>ffc73fb2</td>\n",
       "      <td>3</td>\n",
       "    </tr>\n",
       "    <tr>\n",
       "      <th>998</th>\n",
       "      <td>ffe00ca8</td>\n",
       "      <td>2</td>\n",
       "    </tr>\n",
       "    <tr>\n",
       "      <th>999</th>\n",
       "      <td>ffe774cc</td>\n",
       "      <td>1</td>\n",
       "    </tr>\n",
       "  </tbody>\n",
       "</table>\n",
       "<p>1000 rows × 2 columns</p>\n",
       "</div>"
      ],
      "text/plain": [
       "    installation_id  accuracy_group\n",
       "0          00abaee7               2\n",
       "1          01242218               3\n",
       "2          017c5718               3\n",
       "3          01a44906               3\n",
       "4          01bc6cb6               2\n",
       "..              ...             ...\n",
       "995        fee254cf               3\n",
       "996        ff57e602               0\n",
       "997        ffc73fb2               3\n",
       "998        ffe00ca8               2\n",
       "999        ffe774cc               1\n",
       "\n",
       "[1000 rows x 2 columns]"
      ]
     },
     "execution_count": 239,
     "metadata": {},
     "output_type": "execute_result"
    }
   ],
   "source": [
    "df_2"
   ]
  },
  {
   "cell_type": "code",
   "execution_count": 241,
   "metadata": {},
   "outputs": [
    {
     "data": {
      "text/plain": [
       "[1, 3]"
      ]
     },
     "execution_count": 241,
     "metadata": {},
     "output_type": "execute_result"
    }
   ],
   "source": [
    "a = [1, 2, 3, 4]\n",
    "a[:3:2]"
   ]
  },
  {
   "cell_type": "code",
   "execution_count": 376,
   "metadata": {},
   "outputs": [],
   "source": [
    "model = model_1"
   ]
  },
  {
   "cell_type": "code",
   "execution_count": 387,
   "metadata": {},
   "outputs": [
    {
     "data": {
      "text/plain": [
       "['title',\n",
       " 'titles_lag',\n",
       " 'world',\n",
       " 'event_code_3121_count',\n",
       " 'event_code_3021_count',\n",
       " 'current_title_count',\n",
       " 'assess_titles_lag',\n",
       " 'event_code_4020_count',\n",
       " 'accuracies_mean',\n",
       " 'current_world_mean_time',\n",
       " 'event_code_4025_count',\n",
       " 'event_code_4030_count',\n",
       " 'event_code_4090_count',\n",
       " 'event_code_2010_count',\n",
       " 'accumulated_accuracy',\n",
       " 'event_code_3010_count',\n",
       " 'all_types_accumulated_uncorrect_attempts',\n",
       " 'accumulated_accuracy_group',\n",
       " 'title_event_code_Sandcastle Builder (Activity)_4020_count',\n",
       " 'total_time_lag',\n",
       " 'time_per_event',\n",
       " 'session_activity_len_lag_diff',\n",
       " 'total_time_lag_diff',\n",
       " 'accuracies_std',\n",
       " 'event_code_2010_count_Time_norm',\n",
       " 'day_sin',\n",
       " 'accuracies_median',\n",
       " 'assess_duration_lag',\n",
       " 'event_code_3120_count_Time_norm',\n",
       " 'event_code_3020_count_Time_norm',\n",
       " 'accuracy_groups_std',\n",
       " 'title_Crystal Caves - Level 3_count_Time_norm',\n",
       " 'current_title_total_time',\n",
       " 'event_code_4035_count_Time_norm',\n",
       " 'assess_duration_min',\n",
       " 'event_code_4025_count_Time_norm',\n",
       " 'accumulated_misses',\n",
       " 'title_event_code_Cauldron Filler (Assessment)_4025_count',\n",
       " 'title_event_code_Happy Camel_3120_count',\n",
       " 'world_TREETOPCITY_count',\n",
       " 'world_CRYSTALCAVES_count',\n",
       " 'title_Crystal Caves - Level 2_count',\n",
       " 'accumulated_uncorrect_attempts_mean',\n",
       " 'current_world_total_time',\n",
       " 'event_code_4020_count_Time_norm',\n",
       " 'title_event_code_Cart Balancer (Assessment)_4070_count',\n",
       " 'title_event_code_Bottle Filler (Activity)_4070_count',\n",
       " 'title_Welcome to Lost Lagoon!_count_Time_norm',\n",
       " 'ratio_of_life_in_game',\n",
       " 'title_event_code_Happy Camel_4070_count',\n",
       " 'title_Crystal Caves - Level 1_count',\n",
       " 'title_event_code_Sandcastle Builder (Activity)_4035_count',\n",
       " 'accumulated_uncorrect_attempts_std',\n",
       " 'accumulated_sessions',\n",
       " 'hour_cos',\n",
       " 'event_code_4022_count',\n",
       " 'event_code_4030_count_Time_norm',\n",
       " 'title_Magma Peak - Level 1_count',\n",
       " 'event_code_4022_count_Time_norm',\n",
       " 'last_accuracy_Bird Measurer (Assessment)',\n",
       " 'assess_duration_lag_diff',\n",
       " 'title_event_code_Pan Balance_3020_count',\n",
       " 'accumulated_correct_attempts_mean',\n",
       " 'title_event_code_All Star Sorting_3120_count',\n",
       " 'last_accuracy_Cauldron Filler (Assessment)',\n",
       " 'accuracies_sum',\n",
       " 'title_event_code_Crystal Caves - Level 3_2000_count_Time_norm',\n",
       " 'event_code_2060_count',\n",
       " 'type_Game_count_Time_norm',\n",
       " 'assess_duration_median',\n",
       " 'title_event_code_Bug Measurer (Activity)_4035_count',\n",
       " '0_group_count',\n",
       " 'last_accuracy_Chest Sorter (Assessment)',\n",
       " 'event_code_4040_count_Time_norm',\n",
       " 'title_event_code_Chow Time_3121_count',\n",
       " 'event_code_4100_count_Time_norm',\n",
       " 'title_Magma Peak - Level 1_count_Time_norm',\n",
       " 'total_time_max',\n",
       " 'event_code_2080_count',\n",
       " 'sec_since_installation',\n",
       " 'title_event_code_Chest Sorter (Assessment)_4025_count',\n",
       " 'title_event_code_Egg Dropper (Activity)_4070_count_Time_norm',\n",
       " 'title_event_code_Chest Sorter (Assessment)_4020_count',\n",
       " 'title_Tree Top City - Level 1_count_Time_norm',\n",
       " 'type_Clip_count',\n",
       " 'title_event_code_Cart Balancer (Assessment)_4070_count_Time_norm',\n",
       " 'type_Activity_count_Time_norm',\n",
       " 'world_MAGMAPEAK_count_Time_norm',\n",
       " 'title_Ordering Spheres_count',\n",
       " 'title_Magma Peak - Level 2_count_Time_norm',\n",
       " 'total_time_std',\n",
       " 'event_code_2000_count',\n",
       " 'title_event_code_Tree Top City - Level 1_2000_count',\n",
       " 'title_event_code_Welcome to Lost Lagoon!_2000_count',\n",
       " 'title_event_code_Sandcastle Builder (Activity)_4070_count',\n",
       " 'title_event_code_Sandcastle Builder (Activity)_4035_count_Time_norm',\n",
       " 'world_CRYSTALCAVES_count_Time_norm',\n",
       " 'Sandcastle Builder (Activity)_title_total_time',\n",
       " 'title_event_code_Tree Top City - Level 3_2000_count',\n",
       " 'title_event_code_All Star Sorting_2025_count',\n",
       " 'title_event_code_Tree Top City - Level 2_2000_count',\n",
       " 'title_event_code_Egg Dropper (Activity)_4070_count',\n",
       " 'title_Crystal Caves - Level 2_count_Time_norm',\n",
       " 'title_event_code_Sandcastle Builder (Activity)_3010_count',\n",
       " 'event_code_4045_count',\n",
       " 'title_event_code_Crystal Caves - Level 2_2000_count',\n",
       " 'total_time_mean',\n",
       " 'title_event_code_Cauldron Filler (Assessment)_4070_count',\n",
       " 'title_event_code_Chow Time_3021_count',\n",
       " 'accuracies_lag_diff',\n",
       " 'title_event_code_All Star Sorting_2030_count',\n",
       " 'title_Bottle Filler (Activity)_count',\n",
       " 'title_event_code_Chest Sorter (Assessment)_3021_count',\n",
       " 'event_code_2035_count',\n",
       " 'title_event_code_Chest Sorter (Assessment)_4030_count',\n",
       " 'session_activity_len_mean',\n",
       " 'title_event_code_Fireworks (Activity)_4070_count',\n",
       " 'event_code_4021_count',\n",
       " 'title_event_code_Welcome to Lost Lagoon!_2000_count_Time_norm',\n",
       " 'title_event_code_Scrub-A-Dub_4010_count',\n",
       " 'event_code_4010_count_Time_norm',\n",
       " 'title_Crystal Caves - Level 1_count_Time_norm',\n",
       " 'all_types_accumulated_correct_attempts',\n",
       " 'event_code_2080_count_Time_norm',\n",
       " 'title_event_code_Sandcastle Builder (Activity)_4021_count',\n",
       " 'title_Lifting Heavy Things_count',\n",
       " 'title_event_code_Pan Balance_3120_count',\n",
       " 'type_Assessment_count',\n",
       " 'title_event_code_Fireworks (Activity)_3010_count',\n",
       " 'event_code_2020_count_Time_norm',\n",
       " 'title_event_code_Magma Peak - Level 2_2000_count',\n",
       " 'title_event_code_Flower Waterer (Activity)_4070_count',\n",
       " 'time_per_session',\n",
       " 'title_event_code_Fireworks (Activity)_3110_count',\n",
       " '3_group_count_Time_norm',\n",
       " 'title_event_code_Chow Time_2030_count',\n",
       " 'title_event_code_Egg Dropper (Activity)_4020_count',\n",
       " 'title_event_code_Leaf Leader_2030_count',\n",
       " 'title_Scrub-A-Dub_count',\n",
       " 'title_event_code_Watering Hole (Activity)_4070_count',\n",
       " 'event_code_4070_count_Time_norm',\n",
       " 'event_code_3110_count_Time_norm',\n",
       " 'title_Tree Top City - Level 3_count_Time_norm',\n",
       " 'accuracies_lag',\n",
       " 'title_Egg Dropper (Activity)_count',\n",
       " 'title_event_code_All Star Sorting_4035_count',\n",
       " 'event_code_2083_count',\n",
       " 'title_Sandcastle Builder (Activity)_count',\n",
       " 'title_event_code_Sandcastle Builder (Activity)_4030_count',\n",
       " 'event_code_3010_count_Time_norm',\n",
       " 'event_code_2075_count',\n",
       " 'days_since_installation',\n",
       " 'assess_duration_max',\n",
       " 'title_event_code_Crystal Caves - Level 2_2000_count_Time_norm',\n",
       " 'title_Tree Top City - Level 2_count_Time_norm',\n",
       " 'title_event_code_Crystal Caves - Level 1_2000_count',\n",
       " 'title_event_code_Fireworks (Activity)_4030_count',\n",
       " 'title_event_code_Bottle Filler (Activity)_4070_count_Time_norm',\n",
       " 'title_event_code_Chest Sorter (Assessment)_4020_count_Time_norm',\n",
       " '0_group_count_Time_norm',\n",
       " 'title_event_code_Scrub-A-Dub_2000_count',\n",
       " 'title_event_code_Chest Sorter (Assessment)_3121_count',\n",
       " 'title_event_code_Tree Top City - Level 1_2000_count_Time_norm',\n",
       " 'events_per_session',\n",
       " 'title_event_code_Fireworks (Activity)_4020_count',\n",
       " 'title_event_code_Crystals Rule_3120_count',\n",
       " 'event_code_2083_count_Time_norm',\n",
       " 'event_code_4021_count_Time_norm',\n",
       " 'title_Balancing Act_count',\n",
       " 'MAGMAPEAK_world_activity_time',\n",
       " 'title_event_code_Sandcastle Builder (Activity)_3110_count',\n",
       " 'title_event_code_Chow Time_4035_count',\n",
       " 'CRYSTALCAVES_world_game_time',\n",
       " 'title_event_code_Magma Peak - Level 1_2000_count',\n",
       " 'title_event_code_Air Show_3021_count',\n",
       " 'title_Slop Problem_count_Time_norm',\n",
       " 'title_event_code_Leaf Leader_3021_count',\n",
       " 'Cart Balancer (Assessment)_title_total_time',\n",
       " 'event_code_2060_count_Time_norm',\n",
       " 'weekday_sin',\n",
       " 'world_TREETOPCITY_count_Time_norm',\n",
       " 'title_event_code_Magma Peak - Level 2_2000_count_Time_norm',\n",
       " 'CRYSTALCAVES_world_total_time',\n",
       " 'title_event_code_Cauldron Filler (Assessment)_4100_count',\n",
       " 'event_code_4095_count',\n",
       " 'title_event_code_Cart Balancer (Assessment)_4020_count',\n",
       " 'assess_duration_std',\n",
       " 'title_event_code_Crystals Rule_3020_count',\n",
       " 'title_event_code_Cart Balancer (Assessment)_4100_count',\n",
       " 'title_event_code_Chow Time_4070_count_Time_norm',\n",
       " 'Bottle Filler (Activity)_title_total_time',\n",
       " 'title_event_code_Bubble Bath_3020_count',\n",
       " 'current_world_count_Time_norm',\n",
       " 'world_NONE_count_Time_norm',\n",
       " 'title_event_code_Tree Top City - Level 2_2000_count_Time_norm',\n",
       " 'title_event_code_Happy Camel_4035_count',\n",
       " 'title_event_code_Bottle Filler (Activity)_4035_count',\n",
       " 'title_event_code_Ordering Spheres_2000_count',\n",
       " 'title_event_code_Magma Peak - Level 1_2000_count_Time_norm',\n",
       " 'title_event_code_Mushroom Sorter (Assessment)_4070_count']"
      ]
     },
     "execution_count": 387,
     "metadata": {},
     "output_type": "execute_result"
    }
   ],
   "source": [
    "list(pd.Series(dict(zip(model.columns, imps))).sort_values(ascending=False).to_dict().keys())[0:100:2] + \\\n",
    "list(pd.Series(dict(zip(model.columns, imps))).sort_values(ascending=False).to_dict().keys())[100:250] "
   ]
  },
  {
   "cell_type": "code",
   "execution_count": 462,
   "metadata": {},
   "outputs": [
    {
     "data": {
      "text/plain": [
       "array(['event_code_4045_count',\n",
       "       'title_event_code_Chicken Balancer (Activity)_4070_count',\n",
       "       'title_event_code_Bottle Filler (Activity)_3110_count',\n",
       "       'events_per_day',\n",
       "       'title_event_code_Magma Peak - Level 1_2000_count',\n",
       "       'title_event_code_All Star Sorting_3021_count',\n",
       "       'title_event_code_Chow Time_3120_count',\n",
       "       'title_event_code_Bug Measurer (Activity)_3010_count',\n",
       "       'last_accuracy_Cart Balancer (Assessment)',\n",
       "       'title_event_code_Bottle Filler (Activity)_4035_count',\n",
       "       'title_event_code_Pan Balance_4070_count',\n",
       "       'Chicken Balancer (Activity)_title_total_time',\n",
       "       'title_event_code_Happy Camel_4020_count',\n",
       "       'title_event_code_Chow Time_3010_count',\n",
       "       'title_event_code_Happy Camel_4030_count',\n",
       "       'title_event_code_Dino Dive_2030_count', 'event_code_2060_count',\n",
       "       'last_accuracy_Bird Measurer (Assessment)',\n",
       "       'title_event_code_Bug Measurer (Activity)_4035_count',\n",
       "       'title_event_code_Bottle Filler (Activity)_2020_count',\n",
       "       'accumulated_correct_attempts',\n",
       "       'title_event_code_Tree Top City - Level 2_2000_count',\n",
       "       'title_event_code_Dino Dive_3010_count',\n",
       "       'accumulated_uncorrect_attempts',\n",
       "       'Egg Dropper (Activity)_title_total_time', 'world_NONE_count',\n",
       "       'title_event_code_Mushroom Sorter (Assessment)_4070_count',\n",
       "       'title_event_code_Chow Time_4020_count',\n",
       "       'title_event_code_Egg Dropper (Activity)_4020_count',\n",
       "       'Bubble Bath_title_total_time', 'event_code_4095_count',\n",
       "       'title_event_code_Dino Drink_4020_count',\n",
       "       'title_event_code_Happy Camel_4070_count', 'event_code_2025_count',\n",
       "       'title_event_code_Flower Waterer (Activity)_4030_count',\n",
       "       'event_code_2083_count',\n",
       "       'title_event_code_All Star Sorting_3121_count',\n",
       "       'title_event_code_Flower Waterer (Activity)_4020_count',\n",
       "       'title_event_code_Egg Dropper (Activity)_4070_count',\n",
       "       'title_event_code_Cauldron Filler (Assessment)_4070_count',\n",
       "       'title_event_code_Watering Hole (Activity)_3010_count',\n",
       "       'title_event_code_Crystal Caves - Level 2_2000_count',\n",
       "       'last_accuracy_Chest Sorter (Assessment)',\n",
       "       'title_event_code_Chicken Balancer (Activity)_4035_count',\n",
       "       'title_event_code_Flower Waterer (Activity)_4025_count',\n",
       "       'title_event_code_Dino Dive_3021_count',\n",
       "       'title_event_code_Watering Hole (Activity)_4020_count',\n",
       "       'title_event_code_Scrub-A-Dub_2020_count',\n",
       "       'title_event_code_Happy Camel_3110_count',\n",
       "       'title_event_code_Chest Sorter (Assessment)_4020_count',\n",
       "       'title_event_code_All Star Sorting_2020_count',\n",
       "       'title_event_code_Air Show_4070_count',\n",
       "       'title_event_code_Bottle Filler (Activity)_2030_count',\n",
       "       'title_event_code_Pan Balance_3120_count',\n",
       "       'title_event_code_All Star Sorting_4035_count',\n",
       "       'Leaf Leader_title_total_time',\n",
       "       'title_event_code_Happy Camel_3121_count',\n",
       "       'title_Slop Problem_count',\n",
       "       'title_event_code_Happy Camel_3021_count',\n",
       "       'title_event_code_Cart Balancer (Assessment)_4030_count',\n",
       "       'title_event_code_Watering Hole (Activity)_3110_count',\n",
       "       'title_event_code_Watering Hole (Activity)_4021_count',\n",
       "       'title_event_code_Scrub-A-Dub_4020_count',\n",
       "       'title_event_code_Bug Measurer (Activity)_3110_count',\n",
       "       'title_event_code_Flower Waterer (Activity)_3010_count',\n",
       "       'event_code_4230_count', 'title_event_code_Air Show_2030_count',\n",
       "       'title_event_code_Dino Drink_4031_count',\n",
       "       'title_event_code_Happy Camel_3010_count',\n",
       "       'Pan Balance_title_total_time',\n",
       "       'title_event_code_Bubble Bath_4070_count',\n",
       "       'title_Bug Measurer (Activity)_count',\n",
       "       'title_event_code_Flower Waterer (Activity)_3110_count',\n",
       "       'title_event_code_Egg Dropper (Activity)_3010_count',\n",
       "       'Cauldron Filler (Assessment)_title_total_time',\n",
       "       'title_Balancing Act_count',\n",
       "       'title_event_code_Mushroom Sorter (Assessment)_2010_count',\n",
       "       'title_event_code_Chest Sorter (Assessment)_4100_count',\n",
       "       'Mushroom Sorter (Assessment)_title_total_time',\n",
       "       'event_code_2040_count',\n",
       "       'last_accuracy_Mushroom Sorter (Assessment)',\n",
       "       'title_event_code_Dino Dive_3110_count',\n",
       "       'title_event_code_Egg Dropper (Activity)_3110_count',\n",
       "       'type_Assessment_count', 'title_Ordering Spheres_count',\n",
       "       'event_code_2035_count',\n",
       "       'title_event_code_Cart Balancer (Assessment)_4020_count',\n",
       "       'event_code_4235_count', 'current_title_count',\n",
       "       'title_event_code_Chow Time_3110_count',\n",
       "       'title_event_code_Dino Dive_4020_count',\n",
       "       'title_event_code_Bird Measurer (Assessment)_2030_count',\n",
       "       'title_event_code_Scrub-A-Dub_3010_count',\n",
       "       'title_event_code_Dino Drink_3110_count', 'event_code_5000_count',\n",
       "       'title_event_code_Dino Drink_3010_count',\n",
       "       'title_event_code_Leaf Leader_3121_count',\n",
       "       'title_event_code_Egg Dropper (Activity)_4025_count',\n",
       "       'title_event_code_Dino Dive_2020_count',\n",
       "       'title_event_code_Scrub-A-Dub_2080_count',\n",
       "       'title_event_code_Slop Problem_2000_count',\n",
       "       'title_Chow Time_count', 'title_event_code_Dino Dive_3121_count',\n",
       "       'title_event_code_Bubble Bath_4040_count',\n",
       "       'title_event_code_All Star Sorting_2025_count',\n",
       "       'title_event_code_Scrub-A-Dub_3110_count',\n",
       "       'title_event_code_Happy Camel_2020_count', 'event_code_5010_count',\n",
       "       'event_code_2081_count',\n",
       "       'title_event_code_Bug Measurer (Activity)_4030_count',\n",
       "       'title_event_code_Leaf Leader_4070_count',\n",
       "       'title_event_code_Balancing Act_2000_count',\n",
       "       'event_code_2075_count',\n",
       "       'title_event_code_Chicken Balancer (Activity)_3110_count',\n",
       "       'title_event_code_Scrub-A-Dub_2030_count',\n",
       "       'title_event_code_Leaf Leader_3021_count',\n",
       "       'title_event_code_All Star Sorting_3110_count',\n",
       "       'title_event_code_Chicken Balancer (Activity)_3010_count',\n",
       "       'title_event_code_Scrub-A-Dub_3020_count',\n",
       "       'title_event_code_Pan Balance_2030_count',\n",
       "       'title_event_code_Leaf Leader_2030_count',\n",
       "       'title_event_code_Ordering Spheres_2000_count',\n",
       "       'title_Honey Cake_count', 'title_event_code_Dino Drink_3021_count',\n",
       "       'Air Show_title_total_time',\n",
       "       'title_event_code_Bubble Bath_3010_count',\n",
       "       'title_event_code_Watering Hole (Activity)_5000_count',\n",
       "       'title_event_code_Bug Measurer (Activity)_2000_count',\n",
       "       'title_event_code_Leaf Leader_4020_count',\n",
       "       'title_12 Monkeys_count',\n",
       "       'title_event_code_Bubble Bath_3110_count',\n",
       "       'title_event_code_All Star Sorting_3010_count',\n",
       "       'title_event_code_Dino Drink_3020_count',\n",
       "       'title_event_code_Scrub-A-Dub_2040_count',\n",
       "       'title_event_code_Bug Measurer (Activity)_4025_count',\n",
       "       'title_event_code_Bubble Bath_3121_count',\n",
       "       'Crystals Rule_title_total_time',\n",
       "       'title_event_code_Scrub-A-Dub_3120_count',\n",
       "       'title_event_code_Mushroom Sorter (Assessment)_3020_count',\n",
       "       'title_event_code_Pan Balance_2020_count',\n",
       "       'title_event_code_Leaf Leader_2020_count',\n",
       "       'title_Lifting Heavy Things_count', 'title_Costume Box_count',\n",
       "       'title_Chest Sorter (Assessment)_count',\n",
       "       'title_event_code_Scrub-A-Dub_2083_count',\n",
       "       'days_since_installation', 'event_code_2070_count',\n",
       "       'title_event_code_All Star Sorting_3020_count',\n",
       "       'title_event_code_All Star Sorting_3120_count',\n",
       "       'title_event_code_Scrub-A-Dub_3021_count',\n",
       "       'title_Scrub-A-Dub_count',\n",
       "       'title_event_code_Chest Sorter (Assessment)_3120_count',\n",
       "       'title_event_code_Dino Drink_3121_count',\n",
       "       'title_event_code_Dino Drink_3120_count',\n",
       "       \"title_Pirate's Tale_count\",\n",
       "       'title_event_code_Cart Balancer (Assessment)_3110_count',\n",
       "       'title_event_code_Bird Measurer (Assessment)_4030_count',\n",
       "       'title_event_code_Mushroom Sorter (Assessment)_3120_count',\n",
       "       'title_event_code_Chow Time_2000_count',\n",
       "       'title_event_code_Cauldron Filler (Assessment)_4030_count',\n",
       "       'event_code_2050_count', 'title_event_code_Bubble Bath_3021_count',\n",
       "       'title_event_code_Crystals Rule_4070_count',\n",
       "       'title_event_code_Cart Balancer (Assessment)_4100_count',\n",
       "       'title_event_code_Watering Hole (Activity)_5010_count',\n",
       "       'Bird Measurer (Assessment)_title_total_time',\n",
       "       'title_event_code_Bubble Bath_4230_count',\n",
       "       'title_event_code_Mushroom Sorter (Assessment)_4020_count',\n",
       "       'title_event_code_Cart Balancer (Assessment)_2010_count',\n",
       "       'title_event_code_Chest Sorter (Assessment)_3010_count',\n",
       "       'title_Pan Balance_count',\n",
       "       'title_event_code_Chicken Balancer (Activity)_4022_count',\n",
       "       'title_event_code_Chest Sorter (Assessment)_4070_count',\n",
       "       'title_event_code_Dino Dive_3020_count',\n",
       "       'title_event_code_Pan Balance_3021_count',\n",
       "       'title_event_code_Pan Balance_3010_count',\n",
       "       'title_event_code_Honey Cake_2000_count',\n",
       "       'title_event_code_Mushroom Sorter (Assessment)_2030_count',\n",
       "       'title_event_code_Pan Balance_3121_count',\n",
       "       'title_event_code_Mushroom Sorter (Assessment)_3021_count',\n",
       "       'title_event_code_Pan Balance_4030_count',\n",
       "       'title_Sandcastle Builder (Activity)_count',\n",
       "       'title_event_code_Happy Camel_4045_count',\n",
       "       'title_event_code_Crystals Rule_3010_count',\n",
       "       'title_event_code_Cauldron Filler (Assessment)_3110_count',\n",
       "       'title_event_code_12 Monkeys_2000_count',\n",
       "       'title_event_code_Air Show_3010_count',\n",
       "       'title_event_code_Scrub-A-Dub_2081_count',\n",
       "       'title_event_code_Air Show_3110_count', 'title_Rulers_count',\n",
       "       'title_event_code_Mushroom Sorter (Assessment)_3010_count',\n",
       "       'title_All Star Sorting_count',\n",
       "       'title_event_code_Happy Camel_2000_count',\n",
       "       'title_event_code_Bird Measurer (Assessment)_4100_count',\n",
       "       'title_event_code_Bird Measurer (Assessment)_3121_count',\n",
       "       'title_event_code_Chest Sorter (Assessment)_3110_count',\n",
       "       'title_event_code_Bubble Bath_4235_count',\n",
       "       'title_Dino Drink_count',\n",
       "       'title_event_code_Bird Measurer (Assessment)_3021_count',\n",
       "       'title_Egg Dropper (Activity)_count', 'title_Happy Camel_count',\n",
       "       'title_event_code_Mushroom Sorter (Assessment)_3121_count',\n",
       "       \"title_event_code_Pirate's Tale_2000_count\",\n",
       "       'title_event_code_Costume Box_2000_count',\n",
       "       'title_event_code_Scrub-A-Dub_4010_count', 'event_code_4220_count',\n",
       "       'title_event_code_Pan Balance_2000_count',\n",
       "       'title_event_code_Cauldron Filler (Assessment)_3010_count',\n",
       "       'title_event_code_Chow Time_4010_count',\n",
       "       'title_event_code_Cart Balancer (Assessment)_3020_count',\n",
       "       'title_event_code_Bird Measurer (Assessment)_4070_count',\n",
       "       'title_event_code_Chest Sorter (Assessment)_3020_count',\n",
       "       'title_event_code_Bird Measurer (Assessment)_4025_count',\n",
       "       'title_event_code_Dino Drink_2020_count',\n",
       "       'title_event_code_Dino Dive_3120_count',\n",
       "       'title_event_code_Sandcastle Builder (Activity)_2000_count',\n",
       "       'title_event_code_Cart Balancer (Assessment)_3010_count',\n",
       "       'title_Cart Balancer (Assessment)_count',\n",
       "       'title_event_code_Scrub-A-Dub_2050_count',\n",
       "       'title_Bubble Bath_count', 'title_Fireworks (Activity)_count',\n",
       "       'title_event_code_Lifting Heavy Things_2000_count',\n",
       "       'title_event_code_Happy Camel_2080_count',\n",
       "       'title_event_code_Crystals Rule_3110_count',\n",
       "       'title_event_code_Air Show_2020_count',\n",
       "       'title_event_code_Cart Balancer (Assessment)_2030_count',\n",
       "       'title_Crystals Rule_count',\n",
       "       'title_event_code_Bubble Bath_3020_count',\n",
       "       'title_event_code_Leaf Leader_3120_count',\n",
       "       'title_event_code_Leaf Leader_3020_count',\n",
       "       'title_event_code_Pan Balance_4020_count', 'event_code_4110_count',\n",
       "       'title_event_code_Happy Camel_2083_count',\n",
       "       'title_event_code_Chest Sorter (Assessment)_2000_count',\n",
       "       'title_event_code_Bird Measurer (Assessment)_4020_count',\n",
       "       'title_event_code_Bubble Bath_4220_count',\n",
       "       'title_event_code_Cart Balancer (Assessment)_2000_count',\n",
       "       'title_event_code_Pan Balance_4010_count',\n",
       "       'title_event_code_Bird Measurer (Assessment)_2010_count',\n",
       "       'title_event_code_Egg Dropper (Activity)_2000_count',\n",
       "       'title_event_code_Scrub-A-Dub_3121_count',\n",
       "       'title_event_code_Mushroom Sorter (Assessment)_4030_count',\n",
       "       'title_event_code_Dino Drink_2070_count', 'title_Dino Dive_count',\n",
       "       'title_event_code_Air Show_3121_count',\n",
       "       'title_event_code_Dino Drink_2060_count',\n",
       "       'title_event_code_Pan Balance_3110_count',\n",
       "       'title_event_code_Bubble Bath_3120_count',\n",
       "       'title_event_code_Cauldron Filler (Assessment)_4040_count',\n",
       "       'title_event_code_Chow Time_4095_count',\n",
       "       'title_event_code_Bird Measurer (Assessment)_3110_count',\n",
       "       'title_event_code_Crystals Rule_3020_count',\n",
       "       'title_event_code_Cart Balancer (Assessment)_3121_count',\n",
       "       'title_event_code_Leaf Leader_3110_count',\n",
       "       'title_event_code_Leaf Leader_2075_count',\n",
       "       'title_event_code_Air Show_4100_count',\n",
       "       'title_event_code_Dino Dive_4010_count',\n",
       "       'title_event_code_Scrub-A-Dub_2000_count',\n",
       "       'title_event_code_Cauldron Filler (Assessment)_2020_count',\n",
       "       'title_event_code_Cauldron Filler (Assessment)_4035_count',\n",
       "       'title_event_code_Dino Dive_2000_count',\n",
       "       'title_event_code_Chest Sorter (Assessment)_2020_count',\n",
       "       'title_event_code_Dino Drink_2000_count',\n",
       "       'title_event_code_Cart Balancer (Assessment)_4035_count',\n",
       "       'title_event_code_Cart Balancer (Assessment)_4040_count',\n",
       "       'title_event_code_Mushroom Sorter (Assessment)_4100_count',\n",
       "       'title_event_code_Pan Balance_4035_count',\n",
       "       'title_event_code_Bird Measurer (Assessment)_3010_count',\n",
       "       'title_event_code_Fireworks (Activity)_2000_count',\n",
       "       'title_event_code_Crystals Rule_4020_count',\n",
       "       'title_event_code_Crystals Rule_2000_count',\n",
       "       'title_event_code_Pan Balance_4025_count',\n",
       "       'title_event_code_Air Show_4020_count',\n",
       "       'title_event_code_Mushroom Sorter (Assessment)_3110_count',\n",
       "       'title_event_code_Bubble Bath_2000_count',\n",
       "       'title_event_code_Cauldron Filler (Assessment)_4025_count',\n",
       "       'title_event_code_Bubble Bath_2020_count',\n",
       "       'title_event_code_Dino Drink_2075_count',\n",
       "       'title_Watering Hole (Activity)_count',\n",
       "       'title_event_code_Bubble Bath_2030_count',\n",
       "       'title_event_code_Rulers_2000_count',\n",
       "       'title_event_code_Dino Drink_2030_count',\n",
       "       'title_event_code_Crystals Rule_3120_count',\n",
       "       'title_event_code_Air Show_3021_count',\n",
       "       'title_event_code_Cart Balancer (Assessment)_2020_count',\n",
       "       'title_event_code_Heavy_ Heavier_ Heaviest_2000_count',\n",
       "       'title_event_code_Cauldron Filler (Assessment)_4020_count',\n",
       "       'title_Heavy_ Heavier_ Heaviest_count',\n",
       "       'title_event_code_Cauldron Filler (Assessment)_3121_count',\n",
       "       'title_Chicken Balancer (Activity)_count',\n",
       "       'title_event_code_Cauldron Filler (Assessment)_3021_count',\n",
       "       '2_group_count', 'title_Cauldron Filler (Assessment)_count',\n",
       "       'title_Leaf Leader_count',\n",
       "       'title_event_code_Cauldron Filler (Assessment)_2030_count',\n",
       "       'title_event_code_All Star Sorting_2000_count',\n",
       "       'title_event_code_Leaf Leader_2070_count',\n",
       "       'title_event_code_Bottle Filler (Activity)_2000_count',\n",
       "       '1_group_count', 'title_event_code_Pan Balance_4100_count',\n",
       "       'title_Air Show_count',\n",
       "       'title_event_code_Egg Dropper (Activity)_2020_count',\n",
       "       'title_event_code_Chest Sorter (Assessment)_4040_count',\n",
       "       'title_Bottle Filler (Activity)_count',\n",
       "       'title_event_code_Bubble Bath_2035_count',\n",
       "       'title_event_code_Chest Sorter (Assessment)_3021_count',\n",
       "       'title_event_code_Crystals Rule_2020_count',\n",
       "       'title_event_code_Cauldron Filler (Assessment)_2000_count',\n",
       "       'title_event_code_All Star Sorting_4010_count',\n",
       "       'title_event_code_Dino Dive_2060_count',\n",
       "       'title_event_code_Leaf Leader_3010_count',\n",
       "       'title_event_code_Bubble Bath_2025_count',\n",
       "       'title_event_code_Cauldron Filler (Assessment)_3120_count',\n",
       "       'title_event_code_Chicken Balancer (Activity)_2000_count',\n",
       "       'title_event_code_Cauldron Filler (Assessment)_4100_count',\n",
       "       'title_event_code_Cart Balancer (Assessment)_3021_count',\n",
       "       'title_event_code_Leaf Leader_2060_count',\n",
       "       'title_event_code_Cauldron Filler (Assessment)_3020_count',\n",
       "       'title_event_code_Bubble Bath_4045_count',\n",
       "       'title_event_code_Dino Drink_4010_count',\n",
       "       'title_event_code_Happy Camel_2081_count',\n",
       "       'title_event_code_Bird Measurer (Assessment)_2020_count',\n",
       "       'title_event_code_Air Show_3120_count',\n",
       "       'title_event_code_Fireworks (Activity)_4090_count',\n",
       "       'title_event_code_Bird Measurer (Assessment)_4110_count',\n",
       "       'title_event_code_Crystals Rule_3121_count',\n",
       "       'title_event_code_Crystals Rule_2030_count',\n",
       "       'title_event_code_Happy Camel_4010_count',\n",
       "       'title_event_code_Crystals Rule_4010_count',\n",
       "       'title_Flower Waterer (Activity)_count',\n",
       "       'title_event_code_Air Show_4010_count',\n",
       "       'title_event_code_Cart Balancer (Assessment)_3120_count',\n",
       "       'title_event_code_Cauldron Filler (Assessment)_2010_count',\n",
       "       'title_event_code_Watering Hole (Activity)_2000_count',\n",
       "       'title_event_code_Mushroom Sorter (Assessment)_4040_count',\n",
       "       'title_event_code_Bubble Bath_4095_count',\n",
       "       'title_event_code_Bubble Bath_2080_count',\n",
       "       'title_event_code_Crystals Rule_3021_count',\n",
       "       'title_event_code_Air Show_2000_count',\n",
       "       'title_event_code_Pan Balance_4090_count',\n",
       "       'title_event_code_Bubble Bath_4020_count',\n",
       "       'title_event_code_Mushroom Sorter (Assessment)_2020_count',\n",
       "       'title_event_code_Dino Dive_2070_count',\n",
       "       'title_event_code_Flower Waterer (Activity)_2000_count',\n",
       "       'title_event_code_Leaf Leader_2000_count',\n",
       "       'title_event_code_Sandcastle Builder (Activity)_4090_count',\n",
       "       'title_Treasure Map_count',\n",
       "       'title_event_code_Chest Sorter (Assessment)_4035_count',\n",
       "       'title_Mushroom Sorter (Assessment)_count',\n",
       "       'title_event_code_Mushroom Sorter (Assessment)_2025_count',\n",
       "       'title_event_code_Air Show_2060_count',\n",
       "       'title_event_code_Leaf Leader_4010_count',\n",
       "       'title_Bird Measurer (Assessment)_count',\n",
       "       'title_event_code_Air Show_2070_count',\n",
       "       'title_event_code_Mushroom Sorter (Assessment)_4025_count',\n",
       "       'title_event_code_Happy Camel_4095_count',\n",
       "       'title_event_code_Treasure Map_2000_count',\n",
       "       'title_event_code_Bird Measurer (Assessment)_3020_count',\n",
       "       'title_event_code_Mushroom Sorter (Assessment)_2035_count',\n",
       "       'title_event_code_Chest Sorter (Assessment)_3121_count',\n",
       "       'title_event_code_Bubble Bath_4010_count',\n",
       "       'title_event_code_All Star Sorting_4095_count',\n",
       "       'title_event_code_Air Show_3020_count',\n",
       "       'title_event_code_Bird Measurer (Assessment)_3120_count',\n",
       "       'title_event_code_Air Show_4110_count',\n",
       "       'title_event_code_Mushroom Sorter (Assessment)_2000_count',\n",
       "       'title_event_code_Chest Sorter (Assessment)_2010_count',\n",
       "       'title_event_code_Bird Measurer (Assessment)_2000_count',\n",
       "       'title_event_code_Air Show_2075_count',\n",
       "       'title_event_code_Happy Camel_4035_count',\n",
       "       'title_event_code_Bubble Bath_2083_count',\n",
       "       'title_event_code_Chest Sorter (Assessment)_2030_count',\n",
       "       'title_event_code_Watering Hole (Activity)_4090_count',\n",
       "       'title_event_code_Crystals Rule_4050_count',\n",
       "       'title_event_code_Dino Drink_4080_count',\n",
       "       'Honey Cake_title_total_time',\n",
       "       'Heavy_ Heavier_ Heaviest_title_total_time',\n",
       "       'title_event_code_Scrub-A-Dub_4090_count',\n",
       "       'Lifting Heavy Things_title_total_time',\n",
       "       'title_event_code_Leaf Leader_4090_count',\n",
       "       'title_event_code_Leaf Leader_4095_count',\n",
       "       'title_event_code_Bottle Filler (Activity)_2010_count',\n",
       "       'title_event_code_Bird Measurer (Assessment)_4090_count',\n",
       "       'title_event_code_Bird Measurer (Assessment)_4080_count',\n",
       "       'title_event_code_Scrub-A-Dub_4080_count',\n",
       "       'title_event_code_Air Show_4090_count',\n",
       "       'title_event_code_Air Show_4080_count',\n",
       "       'Magma Peak - Level 1_title_total_time',\n",
       "       'title_event_code_Chicken Balancer (Activity)_4090_count',\n",
       "       'Crystal Caves - Level 1_title_total_time',\n",
       "       'Crystal Caves - Level 3_title_total_time',\n",
       "       'Crystal Caves - Level 2_title_total_time',\n",
       "       '12 Monkeys_title_total_time',\n",
       "       'title_event_code_Flower Waterer (Activity)_4090_count',\n",
       "       'title_event_code_Flower Waterer (Activity)_4080_count',\n",
       "       'Balancing Act_title_total_time',\n",
       "       'title_event_code_All Star Sorting_4090_count',\n",
       "       'title_event_code_Fireworks (Activity)_4080_count',\n",
       "       'title_event_code_All Star Sorting_4080_count',\n",
       "       'title_event_code_Egg Dropper (Activity)_4090_count',\n",
       "       'title_event_code_Egg Dropper (Activity)_4080_count',\n",
       "       'title_event_code_Bird Measurer (Assessment)_4035_count',\n",
       "       'title_event_code_Bird Measurer (Assessment)_4040_count',\n",
       "       'title_event_code_Dino Drink_4090_count',\n",
       "       'title_event_code_Watering Hole (Activity)_2010_count',\n",
       "       'Costume Box_title_total_time',\n",
       "       'title_event_code_Dino Dive_4090_count',\n",
       "       'Magma Peak - Level 2_title_total_time',\n",
       "       'title_event_code_Dino Dive_4080_count',\n",
       "       'NONE_world_activity_time',\n",
       "       'title_event_code_Bug Measurer (Activity)_4090_count',\n",
       "       'title_event_code_Cart Balancer (Assessment)_4090_count',\n",
       "       'title_event_code_Sandcastle Builder (Activity)_4080_count',\n",
       "       'title_event_code_Cauldron Filler (Assessment)_4080_count',\n",
       "       'title_event_code_Sandcastle Builder (Activity)_2010_count',\n",
       "       'title_event_code_Crystals Rule_2010_count',\n",
       "       'title_event_code_Cauldron Filler (Assessment)_4090_count',\n",
       "       'title_event_code_Mushroom Sorter (Assessment)_4035_count',\n",
       "       'title_event_code_Happy Camel_4090_count', 'event_code_4080_count',\n",
       "       'title_event_code_Pan Balance_4080_count', 'event_code_4050_count',\n",
       "       'title_event_code_Mushroom Sorter (Assessment)_4090_count',\n",
       "       'title_event_code_Chow Time_4090_count',\n",
       "       'title_event_code_Chow Time_4080_count',\n",
       "       'title_event_code_Pan Balance_2010_count',\n",
       "       'title_event_code_Chest Sorter (Assessment)_4080_count',\n",
       "       'title_event_code_Chest Sorter (Assessment)_4090_count',\n",
       "       'title_event_code_Cart Balancer (Assessment)_4080_count',\n",
       "       'title_event_code_Bug Measurer (Activity)_4080_count',\n",
       "       'NONE_world_game_time', 'title_event_code_Bubble Bath_4090_count',\n",
       "       'NONE_world_total_time', 'Ordering Spheres_title_total_time',\n",
       "       'title_event_code_Chicken Balancer (Activity)_4080_count',\n",
       "       \"Pirate's Tale_title_total_time\", 'Rulers_title_total_time',\n",
       "       'title_event_code_Leaf Leader_4080_count',\n",
       "       'title_event_code_Happy Camel_4080_count',\n",
       "       'Slop Problem_title_total_time',\n",
       "       'title_event_code_Bottle Filler (Activity)_4080_count',\n",
       "       'title_event_code_Bottle Filler (Activity)_4090_count',\n",
       "       'Treasure Map_title_total_time',\n",
       "       'Tree Top City - Level 1_title_total_time',\n",
       "       'Tree Top City - Level 2_title_total_time',\n",
       "       'Tree Top City - Level 3_title_total_time',\n",
       "       'Welcome to Lost Lagoon!_title_total_time',\n",
       "       'title_event_code_Crystals Rule_4090_count',\n",
       "       'title_event_code_Bubble Bath_4080_count',\n",
       "       'title_event_code_Mushroom Sorter (Assessment)_4080_count'],\n",
       "      dtype='<U57')"
      ]
     },
     "execution_count": 462,
     "metadata": {},
     "output_type": "execute_result"
    }
   ],
   "source": [
    "np.array(list(pd.Series(dict(zip(model.columns, imps))).sort_values(ascending=False).to_dict().keys()))[-450:]"
   ]
  },
  {
   "cell_type": "code",
   "execution_count": 125,
   "metadata": {},
   "outputs": [],
   "source": [
    "dic = (pd.Series(dict(zip(model.columns, imps))).sort_values(ascending=False) / 8993.559999999998 * 100).map(lambda x: round(x, 5)).to_dict() "
   ]
  },
  {
   "cell_type": "code",
   "execution_count": 126,
   "metadata": {},
   "outputs": [],
   "source": [
    "std_dic = (pd.Series(dict(zip(model.columns, imps_std))).sort_values(ascending=False)).to_dict() "
   ]
  },
  {
   "cell_type": "code",
   "execution_count": 127,
   "metadata": {},
   "outputs": [],
   "source": [
    "new_dic = {}\n",
    "for key in pd.Series(dict(zip(model.columns, imps_std))).sort_values(ascending=False).to_dict().keys():\n",
    "    if 'event_code' in key and 'title' not in key:\n",
    "        new_dic[key] = std_dic[key]"
   ]
  },
  {
   "cell_type": "code",
   "execution_count": 128,
   "metadata": {},
   "outputs": [
    {
     "data": {
      "text/plain": [
       "event_code_3120_count    0.087152\n",
       "event_code_3021_count    0.093816\n",
       "event_code_4040_count    0.105094\n",
       "event_code_2010_count    0.115862\n",
       "event_code_4035_count    0.125621\n",
       "event_code_4045_count    0.134668\n",
       "event_code_4090_count    0.135656\n",
       "event_code_3110_count    0.136163\n",
       "event_code_4010_count    0.137043\n",
       "event_code_2080_count    0.138547\n",
       "event_code_4070_count    0.139294\n",
       "event_code_3121_count    0.143835\n",
       "event_code_3020_count    0.145101\n",
       "event_code_2020_count    0.154594\n",
       "event_code_2030_count    0.157978\n",
       "event_code_4020_count    0.159170\n",
       "event_code_3010_count    0.165013\n",
       "event_code_4100_count    0.167211\n",
       "event_code_2000_count    0.168023\n",
       "event_code_4025_count    0.171174\n",
       "event_code_4022_count    0.172389\n",
       "event_code_2083_count    0.176805\n",
       "event_code_2025_count    0.177704\n",
       "event_code_4030_count    0.179230\n",
       "event_code_4031_count    0.184721\n",
       "event_code_4021_count    0.191651\n",
       "event_code_4095_count    0.214669\n",
       "event_code_2060_count    0.218025\n",
       "dtype: float64"
      ]
     },
     "execution_count": 128,
     "metadata": {},
     "output_type": "execute_result"
    }
   ],
   "source": [
    "pd.Series(new_dic).sort_values()"
   ]
  },
  {
   "cell_type": "code",
   "execution_count": null,
   "metadata": {},
   "outputs": [],
   "source": [
    "['3121', '3021', '3020', '4070', '3120', '4030']"
   ]
  },
  {
   "cell_type": "code",
   "execution_count": 85,
   "metadata": {},
   "outputs": [
    {
     "data": {
      "text/plain": [
       "event_code_3121_count    0.267939\n",
       "event_code_3021_count    0.270873\n",
       "event_code_3020_count    0.288969\n",
       "event_code_4070_count    0.303314\n",
       "event_code_3120_count    0.312569\n",
       "event_code_4030_count    0.324362\n",
       "event_code_4040_count    0.365735\n",
       "event_code_2000_count    0.366034\n",
       "event_code_4022_count    0.381013\n",
       "event_code_2030_count    0.398913\n",
       "event_code_4100_count    0.402813\n",
       "event_code_4090_count    0.409772\n",
       "event_code_4025_count    0.410391\n",
       "event_code_4035_count    0.411412\n",
       "event_code_4045_count    0.413040\n",
       "event_code_2010_count    0.418926\n",
       "event_code_4020_count    0.449024\n",
       "event_code_2040_count    0.453147\n",
       "event_code_4021_count    0.480686\n",
       "event_code_2020_count    0.489266\n",
       "event_code_4010_count    0.507844\n",
       "event_code_3010_count    0.517064\n",
       "event_code_2080_count    0.518424\n",
       "event_code_2083_count    0.520449\n",
       "event_code_3110_count    0.531357\n",
       "event_code_4235_count    0.540295\n",
       "event_code_4031_count    0.556500\n",
       "event_code_5000_count    0.587226\n",
       "event_code_5010_count    0.616697\n",
       "event_code_2025_count    0.638307\n",
       "event_code_2060_count    0.640509\n",
       "event_code_2035_count    0.660791\n",
       "event_code_4230_count    0.663500\n",
       "event_code_2050_count    0.758682\n",
       "event_code_4220_count    0.767266\n",
       "event_code_4095_count    0.849856\n",
       "event_code_4110_count    0.987425\n",
       "dtype: float64"
      ]
     },
     "execution_count": 85,
     "metadata": {},
     "output_type": "execute_result"
    }
   ],
   "source": [
    "pd.Series(new_dic).sort_values()"
   ]
  },
  {
   "cell_type": "code",
   "execution_count": 56,
   "metadata": {},
   "outputs": [
    {
     "data": {
      "text/plain": [
       "Index(['event_code_4070_count', 'event_code_4020_count',\n",
       "       'event_code_3021_count', 'event_code_4030_count',\n",
       "       'event_code_3121_count', 'event_code_3020_count',\n",
       "       'event_code_2030_count', 'event_code_3120_count',\n",
       "       'event_code_3010_count', 'event_code_3110_count',\n",
       "       'event_code_4035_count', 'event_code_2000_count',\n",
       "       'event_code_4025_count', 'event_code_4090_count',\n",
       "       'event_code_2020_count', 'event_code_4040_count',\n",
       "       'event_code_2010_count', 'event_code_4022_count',\n",
       "       'event_code_4021_count', 'event_code_4100_count',\n",
       "       'event_code_4010_count', 'event_code_2080_count',\n",
       "       'event_code_4031_count', 'event_code_4045_count',\n",
       "       'event_code_2060_count', 'event_code_2083_count',\n",
       "       'event_code_2025_count', 'event_code_4095_count',\n",
       "       'event_code_2040_count', 'event_code_5000_count',\n",
       "       'event_code_4230_count', 'event_code_5010_count',\n",
       "       'event_code_2035_count', 'event_code_4235_count',\n",
       "       'event_code_2050_count', 'event_code_4220_count',\n",
       "       'event_code_4110_count'],\n",
       "      dtype='object')"
      ]
     },
     "execution_count": 56,
     "metadata": {},
     "output_type": "execute_result"
    }
   ],
   "source": [
    "pd.Series(new_dic).keys()"
   ]
  },
  {
   "cell_type": "code",
   "execution_count": 16,
   "metadata": {},
   "outputs": [],
   "source": [
    "train_df = pd.read_csv('../data/preprocessed_train.csv')"
   ]
  },
  {
   "cell_type": "code",
   "execution_count": 13,
   "metadata": {},
   "outputs": [
    {
     "data": {
      "text/plain": [
       "3    0.500000\n",
       "0    0.239062\n",
       "1    0.136292\n",
       "2    0.124647\n",
       "Name: accuracy_group, dtype: float64"
      ]
     },
     "execution_count": 13,
     "metadata": {},
     "output_type": "execute_result"
    }
   ],
   "source": [
    "train_df['accuracy_group'].value_counts(normalize=True)"
   ]
  },
  {
   "cell_type": "code",
   "execution_count": 17,
   "metadata": {},
   "outputs": [
    {
     "data": {
      "text/plain": [
       "['0_group_count',\n",
       " '1_group_count',\n",
       " '2_group_count',\n",
       " '3_group_count',\n",
       " 'accumulated_accuracy',\n",
       " 'accumulated_accuracy_group',\n",
       " 'accumulated_actions',\n",
       " 'accumulated_correct_attempts',\n",
       " 'accumulated_sessions',\n",
       " 'accumulated_uncorrect_attempts',\n",
       " 'accuracy_group',\n",
       " 'assess_duration_mean',\n",
       " 'assess_duration_sum',\n",
       " 'changed_type_Activity_count',\n",
       " 'changed_type_Assessment_count',\n",
       " 'changed_type_Clip_count',\n",
       " 'changed_type_Game_count',\n",
       " 'current_title_count',\n",
       " 'current_title_total_time',\n",
       " 'current_world_activity_time',\n",
       " 'current_world_count',\n",
       " 'current_world_game_time',\n",
       " 'current_world_total_time',\n",
       " 'day',\n",
       " 'days_since_installation',\n",
       " 'event_code_2000_count',\n",
       " 'event_code_2010_count',\n",
       " 'event_code_2020_count',\n",
       " 'event_code_2025_count',\n",
       " 'event_code_2030_count',\n",
       " 'event_code_2035_count',\n",
       " 'event_code_2040_count',\n",
       " 'event_code_2050_count',\n",
       " 'event_code_2060_count',\n",
       " 'event_code_2070_count',\n",
       " 'event_code_2075_count',\n",
       " 'event_code_2080_count',\n",
       " 'event_code_2081_count',\n",
       " 'event_code_2083_count',\n",
       " 'event_code_3010_count',\n",
       " 'event_code_3020_count',\n",
       " 'event_code_3021_count',\n",
       " 'event_code_3110_count',\n",
       " 'event_code_3120_count',\n",
       " 'event_code_3121_count',\n",
       " 'event_code_4010_count',\n",
       " 'event_code_4020_count',\n",
       " 'event_code_4021_count',\n",
       " 'event_code_4022_count',\n",
       " 'event_code_4025_count',\n",
       " 'event_code_4030_count',\n",
       " 'event_code_4031_count',\n",
       " 'event_code_4035_count',\n",
       " 'event_code_4040_count',\n",
       " 'event_code_4045_count',\n",
       " 'event_code_4050_count',\n",
       " 'event_code_4070_count',\n",
       " 'event_code_4080_count',\n",
       " 'event_code_4090_count',\n",
       " 'event_code_4095_count',\n",
       " 'event_code_4100_count',\n",
       " 'event_code_4110_count',\n",
       " 'event_code_4220_count',\n",
       " 'event_code_4230_count',\n",
       " 'event_code_4235_count',\n",
       " 'event_code_5000_count',\n",
       " 'event_code_5010_count',\n",
       " 'hour',\n",
       " 'installation_id',\n",
       " 'last_accuracy_Bird Measurer (Assessment)',\n",
       " 'last_accuracy_Cart Balancer (Assessment)',\n",
       " 'last_accuracy_Cauldron Filler (Assessment)',\n",
       " 'last_accuracy_Chest Sorter (Assessment)',\n",
       " 'last_accuracy_Mushroom Sorter (Assessment)',\n",
       " 'sec_since_installation',\n",
       " 'title',\n",
       " 'title_12 Monkeys_count',\n",
       " 'title_Air Show_count',\n",
       " 'title_All Star Sorting_count',\n",
       " 'title_Balancing Act_count',\n",
       " 'title_Bird Measurer (Assessment)_count',\n",
       " 'title_Bottle Filler (Activity)_count',\n",
       " 'title_Bubble Bath_count',\n",
       " 'title_Bug Measurer (Activity)_count',\n",
       " 'title_Cart Balancer (Assessment)_count',\n",
       " 'title_Cauldron Filler (Assessment)_count',\n",
       " 'title_Chest Sorter (Assessment)_count',\n",
       " 'title_Chicken Balancer (Activity)_count',\n",
       " 'title_Chow Time_count',\n",
       " 'title_Costume Box_count',\n",
       " 'title_Crystal Caves - Level 1_count',\n",
       " 'title_Crystal Caves - Level 2_count',\n",
       " 'title_Crystal Caves - Level 3_count',\n",
       " 'title_Crystals Rule_count',\n",
       " 'title_Dino Dive_count',\n",
       " 'title_Dino Drink_count',\n",
       " 'title_Egg Dropper (Activity)_count',\n",
       " 'title_Fireworks (Activity)_count',\n",
       " 'title_Flower Waterer (Activity)_count',\n",
       " 'title_Happy Camel_count',\n",
       " 'title_Heavy_ Heavier_ Heaviest_count',\n",
       " 'title_Honey Cake_count',\n",
       " 'title_Leaf Leader_count',\n",
       " 'title_Lifting Heavy Things_count',\n",
       " 'title_Magma Peak - Level 1_count',\n",
       " 'title_Magma Peak - Level 2_count',\n",
       " 'title_Mushroom Sorter (Assessment)_count',\n",
       " 'title_Ordering Spheres_count',\n",
       " 'title_Pan Balance_count',\n",
       " \"title_Pirate's Tale_count\",\n",
       " 'title_Rulers_count',\n",
       " 'title_Sandcastle Builder (Activity)_count',\n",
       " 'title_Scrub-A-Dub_count',\n",
       " 'title_Slop Problem_count',\n",
       " 'title_Treasure Map_count',\n",
       " 'title_Tree Top City - Level 1_count',\n",
       " 'title_Tree Top City - Level 2_count',\n",
       " 'title_Tree Top City - Level 3_count',\n",
       " 'title_Watering Hole (Activity)_count',\n",
       " 'title_Welcome to Lost Lagoon!_count',\n",
       " 'title_event_code_12 Monkeys_2000_count',\n",
       " 'title_event_code_Air Show_2000_count',\n",
       " 'title_event_code_Air Show_2020_count',\n",
       " 'title_event_code_Air Show_2030_count',\n",
       " 'title_event_code_Air Show_2060_count',\n",
       " 'title_event_code_Air Show_2070_count',\n",
       " 'title_event_code_Air Show_2075_count',\n",
       " 'title_event_code_Air Show_3010_count',\n",
       " 'title_event_code_Air Show_3020_count',\n",
       " 'title_event_code_Air Show_3021_count',\n",
       " 'title_event_code_Air Show_3110_count',\n",
       " 'title_event_code_Air Show_3120_count',\n",
       " 'title_event_code_Air Show_3121_count',\n",
       " 'title_event_code_Air Show_4010_count',\n",
       " 'title_event_code_Air Show_4020_count',\n",
       " 'title_event_code_Air Show_4070_count',\n",
       " 'title_event_code_Air Show_4080_count',\n",
       " 'title_event_code_Air Show_4090_count',\n",
       " 'title_event_code_Air Show_4100_count',\n",
       " 'title_event_code_Air Show_4110_count',\n",
       " 'title_event_code_All Star Sorting_2000_count',\n",
       " 'title_event_code_All Star Sorting_2020_count',\n",
       " 'title_event_code_All Star Sorting_2025_count',\n",
       " 'title_event_code_All Star Sorting_2030_count',\n",
       " 'title_event_code_All Star Sorting_3010_count',\n",
       " 'title_event_code_All Star Sorting_3020_count',\n",
       " 'title_event_code_All Star Sorting_3021_count',\n",
       " 'title_event_code_All Star Sorting_3110_count',\n",
       " 'title_event_code_All Star Sorting_3120_count',\n",
       " 'title_event_code_All Star Sorting_3121_count',\n",
       " 'title_event_code_All Star Sorting_4010_count',\n",
       " 'title_event_code_All Star Sorting_4020_count',\n",
       " 'title_event_code_All Star Sorting_4030_count',\n",
       " 'title_event_code_All Star Sorting_4035_count',\n",
       " 'title_event_code_All Star Sorting_4070_count',\n",
       " 'title_event_code_All Star Sorting_4080_count',\n",
       " 'title_event_code_All Star Sorting_4090_count',\n",
       " 'title_event_code_All Star Sorting_4095_count',\n",
       " 'title_event_code_Balancing Act_2000_count',\n",
       " 'title_event_code_Bird Measurer (Assessment)_2000_count',\n",
       " 'title_event_code_Bird Measurer (Assessment)_2010_count',\n",
       " 'title_event_code_Bird Measurer (Assessment)_2020_count',\n",
       " 'title_event_code_Bird Measurer (Assessment)_2030_count',\n",
       " 'title_event_code_Bird Measurer (Assessment)_3010_count',\n",
       " 'title_event_code_Bird Measurer (Assessment)_3020_count',\n",
       " 'title_event_code_Bird Measurer (Assessment)_3021_count',\n",
       " 'title_event_code_Bird Measurer (Assessment)_3110_count',\n",
       " 'title_event_code_Bird Measurer (Assessment)_3120_count',\n",
       " 'title_event_code_Bird Measurer (Assessment)_3121_count',\n",
       " 'title_event_code_Bird Measurer (Assessment)_4020_count',\n",
       " 'title_event_code_Bird Measurer (Assessment)_4025_count',\n",
       " 'title_event_code_Bird Measurer (Assessment)_4030_count',\n",
       " 'title_event_code_Bird Measurer (Assessment)_4035_count',\n",
       " 'title_event_code_Bird Measurer (Assessment)_4040_count',\n",
       " 'title_event_code_Bird Measurer (Assessment)_4070_count',\n",
       " 'title_event_code_Bird Measurer (Assessment)_4080_count',\n",
       " 'title_event_code_Bird Measurer (Assessment)_4090_count',\n",
       " 'title_event_code_Bird Measurer (Assessment)_4100_count',\n",
       " 'title_event_code_Bird Measurer (Assessment)_4110_count',\n",
       " 'title_event_code_Bottle Filler (Activity)_2000_count',\n",
       " 'title_event_code_Bottle Filler (Activity)_2010_count',\n",
       " 'title_event_code_Bottle Filler (Activity)_2020_count',\n",
       " 'title_event_code_Bottle Filler (Activity)_2030_count',\n",
       " 'title_event_code_Bottle Filler (Activity)_3010_count',\n",
       " 'title_event_code_Bottle Filler (Activity)_3110_count',\n",
       " 'title_event_code_Bottle Filler (Activity)_4020_count',\n",
       " 'title_event_code_Bottle Filler (Activity)_4030_count',\n",
       " 'title_event_code_Bottle Filler (Activity)_4035_count',\n",
       " 'title_event_code_Bottle Filler (Activity)_4070_count',\n",
       " 'title_event_code_Bottle Filler (Activity)_4080_count',\n",
       " 'title_event_code_Bottle Filler (Activity)_4090_count',\n",
       " 'title_event_code_Bubble Bath_2000_count',\n",
       " 'title_event_code_Bubble Bath_2020_count',\n",
       " 'title_event_code_Bubble Bath_2025_count',\n",
       " 'title_event_code_Bubble Bath_2030_count',\n",
       " 'title_event_code_Bubble Bath_2035_count',\n",
       " 'title_event_code_Bubble Bath_2080_count',\n",
       " 'title_event_code_Bubble Bath_2083_count',\n",
       " 'title_event_code_Bubble Bath_3010_count',\n",
       " 'title_event_code_Bubble Bath_3020_count',\n",
       " 'title_event_code_Bubble Bath_3021_count',\n",
       " 'title_event_code_Bubble Bath_3110_count',\n",
       " 'title_event_code_Bubble Bath_3120_count',\n",
       " 'title_event_code_Bubble Bath_3121_count',\n",
       " 'title_event_code_Bubble Bath_4010_count',\n",
       " 'title_event_code_Bubble Bath_4020_count',\n",
       " 'title_event_code_Bubble Bath_4040_count',\n",
       " 'title_event_code_Bubble Bath_4045_count',\n",
       " 'title_event_code_Bubble Bath_4070_count',\n",
       " 'title_event_code_Bubble Bath_4080_count',\n",
       " 'title_event_code_Bubble Bath_4090_count',\n",
       " 'title_event_code_Bubble Bath_4095_count',\n",
       " 'title_event_code_Bubble Bath_4220_count',\n",
       " 'title_event_code_Bubble Bath_4230_count',\n",
       " 'title_event_code_Bubble Bath_4235_count',\n",
       " 'title_event_code_Bug Measurer (Activity)_2000_count',\n",
       " 'title_event_code_Bug Measurer (Activity)_3010_count',\n",
       " 'title_event_code_Bug Measurer (Activity)_3110_count',\n",
       " 'title_event_code_Bug Measurer (Activity)_4025_count',\n",
       " 'title_event_code_Bug Measurer (Activity)_4030_count',\n",
       " 'title_event_code_Bug Measurer (Activity)_4035_count',\n",
       " 'title_event_code_Bug Measurer (Activity)_4070_count',\n",
       " 'title_event_code_Bug Measurer (Activity)_4080_count',\n",
       " 'title_event_code_Bug Measurer (Activity)_4090_count',\n",
       " 'title_event_code_Cart Balancer (Assessment)_2000_count',\n",
       " 'title_event_code_Cart Balancer (Assessment)_2010_count',\n",
       " 'title_event_code_Cart Balancer (Assessment)_2020_count',\n",
       " 'title_event_code_Cart Balancer (Assessment)_2030_count',\n",
       " 'title_event_code_Cart Balancer (Assessment)_3010_count',\n",
       " 'title_event_code_Cart Balancer (Assessment)_3020_count',\n",
       " 'title_event_code_Cart Balancer (Assessment)_3021_count',\n",
       " 'title_event_code_Cart Balancer (Assessment)_3110_count',\n",
       " 'title_event_code_Cart Balancer (Assessment)_3120_count',\n",
       " 'title_event_code_Cart Balancer (Assessment)_3121_count',\n",
       " 'title_event_code_Cart Balancer (Assessment)_4020_count',\n",
       " 'title_event_code_Cart Balancer (Assessment)_4030_count',\n",
       " 'title_event_code_Cart Balancer (Assessment)_4035_count',\n",
       " 'title_event_code_Cart Balancer (Assessment)_4040_count',\n",
       " 'title_event_code_Cart Balancer (Assessment)_4070_count',\n",
       " 'title_event_code_Cart Balancer (Assessment)_4080_count',\n",
       " 'title_event_code_Cart Balancer (Assessment)_4090_count',\n",
       " 'title_event_code_Cart Balancer (Assessment)_4100_count',\n",
       " 'title_event_code_Cauldron Filler (Assessment)_2000_count',\n",
       " 'title_event_code_Cauldron Filler (Assessment)_2010_count',\n",
       " 'title_event_code_Cauldron Filler (Assessment)_2020_count',\n",
       " 'title_event_code_Cauldron Filler (Assessment)_2030_count',\n",
       " 'title_event_code_Cauldron Filler (Assessment)_3010_count',\n",
       " 'title_event_code_Cauldron Filler (Assessment)_3020_count',\n",
       " 'title_event_code_Cauldron Filler (Assessment)_3021_count',\n",
       " 'title_event_code_Cauldron Filler (Assessment)_3110_count',\n",
       " 'title_event_code_Cauldron Filler (Assessment)_3120_count',\n",
       " 'title_event_code_Cauldron Filler (Assessment)_3121_count',\n",
       " 'title_event_code_Cauldron Filler (Assessment)_4020_count',\n",
       " 'title_event_code_Cauldron Filler (Assessment)_4025_count',\n",
       " 'title_event_code_Cauldron Filler (Assessment)_4030_count',\n",
       " 'title_event_code_Cauldron Filler (Assessment)_4035_count',\n",
       " 'title_event_code_Cauldron Filler (Assessment)_4040_count',\n",
       " 'title_event_code_Cauldron Filler (Assessment)_4070_count',\n",
       " 'title_event_code_Cauldron Filler (Assessment)_4080_count',\n",
       " 'title_event_code_Cauldron Filler (Assessment)_4090_count',\n",
       " 'title_event_code_Cauldron Filler (Assessment)_4100_count',\n",
       " 'title_event_code_Chest Sorter (Assessment)_2000_count',\n",
       " 'title_event_code_Chest Sorter (Assessment)_2010_count',\n",
       " 'title_event_code_Chest Sorter (Assessment)_2020_count',\n",
       " 'title_event_code_Chest Sorter (Assessment)_2030_count',\n",
       " 'title_event_code_Chest Sorter (Assessment)_3010_count',\n",
       " 'title_event_code_Chest Sorter (Assessment)_3020_count',\n",
       " 'title_event_code_Chest Sorter (Assessment)_3021_count',\n",
       " 'title_event_code_Chest Sorter (Assessment)_3110_count',\n",
       " 'title_event_code_Chest Sorter (Assessment)_3120_count',\n",
       " 'title_event_code_Chest Sorter (Assessment)_3121_count',\n",
       " 'title_event_code_Chest Sorter (Assessment)_4020_count',\n",
       " 'title_event_code_Chest Sorter (Assessment)_4025_count',\n",
       " 'title_event_code_Chest Sorter (Assessment)_4030_count',\n",
       " 'title_event_code_Chest Sorter (Assessment)_4035_count',\n",
       " 'title_event_code_Chest Sorter (Assessment)_4040_count',\n",
       " 'title_event_code_Chest Sorter (Assessment)_4070_count',\n",
       " 'title_event_code_Chest Sorter (Assessment)_4080_count',\n",
       " 'title_event_code_Chest Sorter (Assessment)_4090_count',\n",
       " 'title_event_code_Chest Sorter (Assessment)_4100_count',\n",
       " 'title_event_code_Chicken Balancer (Activity)_2000_count',\n",
       " 'title_event_code_Chicken Balancer (Activity)_3010_count',\n",
       " 'title_event_code_Chicken Balancer (Activity)_3110_count',\n",
       " 'title_event_code_Chicken Balancer (Activity)_4020_count',\n",
       " 'title_event_code_Chicken Balancer (Activity)_4022_count',\n",
       " 'title_event_code_Chicken Balancer (Activity)_4030_count',\n",
       " 'title_event_code_Chicken Balancer (Activity)_4035_count',\n",
       " 'title_event_code_Chicken Balancer (Activity)_4070_count',\n",
       " 'title_event_code_Chicken Balancer (Activity)_4080_count',\n",
       " 'title_event_code_Chicken Balancer (Activity)_4090_count',\n",
       " 'title_event_code_Chow Time_2000_count',\n",
       " 'title_event_code_Chow Time_2020_count',\n",
       " 'title_event_code_Chow Time_2030_count',\n",
       " 'title_event_code_Chow Time_3010_count',\n",
       " 'title_event_code_Chow Time_3020_count',\n",
       " 'title_event_code_Chow Time_3021_count',\n",
       " 'title_event_code_Chow Time_3110_count',\n",
       " 'title_event_code_Chow Time_3120_count',\n",
       " 'title_event_code_Chow Time_3121_count',\n",
       " 'title_event_code_Chow Time_4010_count',\n",
       " 'title_event_code_Chow Time_4020_count',\n",
       " 'title_event_code_Chow Time_4030_count',\n",
       " 'title_event_code_Chow Time_4035_count',\n",
       " 'title_event_code_Chow Time_4070_count',\n",
       " 'title_event_code_Chow Time_4080_count',\n",
       " 'title_event_code_Chow Time_4090_count',\n",
       " 'title_event_code_Chow Time_4095_count',\n",
       " 'title_event_code_Costume Box_2000_count',\n",
       " 'title_event_code_Crystal Caves - Level 1_2000_count',\n",
       " 'title_event_code_Crystal Caves - Level 2_2000_count',\n",
       " 'title_event_code_Crystal Caves - Level 3_2000_count',\n",
       " 'title_event_code_Crystals Rule_2000_count',\n",
       " 'title_event_code_Crystals Rule_2010_count',\n",
       " 'title_event_code_Crystals Rule_2020_count',\n",
       " 'title_event_code_Crystals Rule_2030_count',\n",
       " 'title_event_code_Crystals Rule_3010_count',\n",
       " 'title_event_code_Crystals Rule_3020_count',\n",
       " 'title_event_code_Crystals Rule_3021_count',\n",
       " 'title_event_code_Crystals Rule_3110_count',\n",
       " 'title_event_code_Crystals Rule_3120_count',\n",
       " 'title_event_code_Crystals Rule_3121_count',\n",
       " 'title_event_code_Crystals Rule_4010_count',\n",
       " 'title_event_code_Crystals Rule_4020_count',\n",
       " 'title_event_code_Crystals Rule_4050_count',\n",
       " 'title_event_code_Crystals Rule_4070_count',\n",
       " 'title_event_code_Crystals Rule_4090_count',\n",
       " 'title_event_code_Dino Dive_2000_count',\n",
       " 'title_event_code_Dino Dive_2020_count',\n",
       " 'title_event_code_Dino Dive_2030_count',\n",
       " 'title_event_code_Dino Dive_2060_count',\n",
       " 'title_event_code_Dino Dive_2070_count',\n",
       " 'title_event_code_Dino Dive_3010_count',\n",
       " 'title_event_code_Dino Dive_3020_count',\n",
       " 'title_event_code_Dino Dive_3021_count',\n",
       " 'title_event_code_Dino Dive_3110_count',\n",
       " 'title_event_code_Dino Dive_3120_count',\n",
       " 'title_event_code_Dino Dive_3121_count',\n",
       " 'title_event_code_Dino Dive_4010_count',\n",
       " 'title_event_code_Dino Dive_4020_count',\n",
       " 'title_event_code_Dino Dive_4070_count',\n",
       " 'title_event_code_Dino Dive_4080_count',\n",
       " 'title_event_code_Dino Dive_4090_count',\n",
       " 'title_event_code_Dino Drink_2000_count',\n",
       " 'title_event_code_Dino Drink_2020_count',\n",
       " 'title_event_code_Dino Drink_2030_count',\n",
       " 'title_event_code_Dino Drink_2060_count',\n",
       " 'title_event_code_Dino Drink_2070_count',\n",
       " 'title_event_code_Dino Drink_2075_count',\n",
       " 'title_event_code_Dino Drink_3010_count',\n",
       " 'title_event_code_Dino Drink_3020_count',\n",
       " 'title_event_code_Dino Drink_3021_count',\n",
       " 'title_event_code_Dino Drink_3110_count',\n",
       " 'title_event_code_Dino Drink_3120_count',\n",
       " 'title_event_code_Dino Drink_3121_count',\n",
       " 'title_event_code_Dino Drink_4010_count',\n",
       " 'title_event_code_Dino Drink_4020_count',\n",
       " 'title_event_code_Dino Drink_4030_count',\n",
       " 'title_event_code_Dino Drink_4031_count',\n",
       " 'title_event_code_Dino Drink_4070_count',\n",
       " 'title_event_code_Dino Drink_4080_count',\n",
       " 'title_event_code_Dino Drink_4090_count',\n",
       " 'title_event_code_Egg Dropper (Activity)_2000_count',\n",
       " 'title_event_code_Egg Dropper (Activity)_2020_count',\n",
       " 'title_event_code_Egg Dropper (Activity)_3010_count',\n",
       " 'title_event_code_Egg Dropper (Activity)_3110_count',\n",
       " 'title_event_code_Egg Dropper (Activity)_4020_count',\n",
       " 'title_event_code_Egg Dropper (Activity)_4025_count',\n",
       " 'title_event_code_Egg Dropper (Activity)_4070_count',\n",
       " 'title_event_code_Egg Dropper (Activity)_4080_count',\n",
       " 'title_event_code_Egg Dropper (Activity)_4090_count',\n",
       " 'title_event_code_Fireworks (Activity)_2000_count',\n",
       " 'title_event_code_Fireworks (Activity)_3010_count',\n",
       " 'title_event_code_Fireworks (Activity)_3110_count',\n",
       " 'title_event_code_Fireworks (Activity)_4020_count',\n",
       " 'title_event_code_Fireworks (Activity)_4030_count',\n",
       " 'title_event_code_Fireworks (Activity)_4070_count',\n",
       " 'title_event_code_Fireworks (Activity)_4080_count',\n",
       " 'title_event_code_Fireworks (Activity)_4090_count',\n",
       " 'title_event_code_Flower Waterer (Activity)_2000_count',\n",
       " 'title_event_code_Flower Waterer (Activity)_3010_count',\n",
       " 'title_event_code_Flower Waterer (Activity)_3110_count',\n",
       " 'title_event_code_Flower Waterer (Activity)_4020_count',\n",
       " 'title_event_code_Flower Waterer (Activity)_4022_count',\n",
       " 'title_event_code_Flower Waterer (Activity)_4025_count',\n",
       " 'title_event_code_Flower Waterer (Activity)_4030_count',\n",
       " 'title_event_code_Flower Waterer (Activity)_4070_count',\n",
       " 'title_event_code_Flower Waterer (Activity)_4080_count',\n",
       " 'title_event_code_Flower Waterer (Activity)_4090_count',\n",
       " 'title_event_code_Happy Camel_2000_count',\n",
       " 'title_event_code_Happy Camel_2020_count',\n",
       " 'title_event_code_Happy Camel_2030_count',\n",
       " 'title_event_code_Happy Camel_2080_count',\n",
       " 'title_event_code_Happy Camel_2081_count',\n",
       " 'title_event_code_Happy Camel_2083_count',\n",
       " 'title_event_code_Happy Camel_3010_count',\n",
       " 'title_event_code_Happy Camel_3020_count',\n",
       " 'title_event_code_Happy Camel_3021_count',\n",
       " 'title_event_code_Happy Camel_3110_count',\n",
       " 'title_event_code_Happy Camel_3120_count',\n",
       " 'title_event_code_Happy Camel_3121_count',\n",
       " 'title_event_code_Happy Camel_4010_count',\n",
       " 'title_event_code_Happy Camel_4020_count',\n",
       " 'title_event_code_Happy Camel_4030_count',\n",
       " 'title_event_code_Happy Camel_4035_count',\n",
       " 'title_event_code_Happy Camel_4040_count',\n",
       " 'title_event_code_Happy Camel_4045_count',\n",
       " 'title_event_code_Happy Camel_4070_count',\n",
       " 'title_event_code_Happy Camel_4080_count',\n",
       " 'title_event_code_Happy Camel_4090_count',\n",
       " 'title_event_code_Happy Camel_4095_count',\n",
       " 'title_event_code_Heavy_ Heavier_ Heaviest_2000_count',\n",
       " 'title_event_code_Honey Cake_2000_count',\n",
       " 'title_event_code_Leaf Leader_2000_count',\n",
       " 'title_event_code_Leaf Leader_2020_count',\n",
       " 'title_event_code_Leaf Leader_2030_count',\n",
       " 'title_event_code_Leaf Leader_2060_count',\n",
       " 'title_event_code_Leaf Leader_2070_count',\n",
       " 'title_event_code_Leaf Leader_2075_count',\n",
       " 'title_event_code_Leaf Leader_3010_count',\n",
       " 'title_event_code_Leaf Leader_3020_count',\n",
       " 'title_event_code_Leaf Leader_3021_count',\n",
       " 'title_event_code_Leaf Leader_3110_count',\n",
       " 'title_event_code_Leaf Leader_3120_count',\n",
       " 'title_event_code_Leaf Leader_3121_count',\n",
       " 'title_event_code_Leaf Leader_4010_count',\n",
       " 'title_event_code_Leaf Leader_4020_count',\n",
       " 'title_event_code_Leaf Leader_4070_count',\n",
       " 'title_event_code_Leaf Leader_4080_count',\n",
       " 'title_event_code_Leaf Leader_4090_count',\n",
       " 'title_event_code_Leaf Leader_4095_count',\n",
       " 'title_event_code_Lifting Heavy Things_2000_count',\n",
       " 'title_event_code_Magma Peak - Level 1_2000_count',\n",
       " 'title_event_code_Magma Peak - Level 2_2000_count',\n",
       " 'title_event_code_Mushroom Sorter (Assessment)_2000_count',\n",
       " 'title_event_code_Mushroom Sorter (Assessment)_2010_count',\n",
       " 'title_event_code_Mushroom Sorter (Assessment)_2020_count',\n",
       " 'title_event_code_Mushroom Sorter (Assessment)_2025_count',\n",
       " 'title_event_code_Mushroom Sorter (Assessment)_2030_count',\n",
       " 'title_event_code_Mushroom Sorter (Assessment)_2035_count',\n",
       " 'title_event_code_Mushroom Sorter (Assessment)_3010_count',\n",
       " 'title_event_code_Mushroom Sorter (Assessment)_3020_count',\n",
       " 'title_event_code_Mushroom Sorter (Assessment)_3021_count',\n",
       " 'title_event_code_Mushroom Sorter (Assessment)_3110_count',\n",
       " 'title_event_code_Mushroom Sorter (Assessment)_3120_count',\n",
       " 'title_event_code_Mushroom Sorter (Assessment)_3121_count',\n",
       " 'title_event_code_Mushroom Sorter (Assessment)_4020_count',\n",
       " 'title_event_code_Mushroom Sorter (Assessment)_4025_count',\n",
       " 'title_event_code_Mushroom Sorter (Assessment)_4030_count',\n",
       " 'title_event_code_Mushroom Sorter (Assessment)_4035_count',\n",
       " 'title_event_code_Mushroom Sorter (Assessment)_4040_count',\n",
       " 'title_event_code_Mushroom Sorter (Assessment)_4070_count',\n",
       " 'title_event_code_Mushroom Sorter (Assessment)_4080_count',\n",
       " 'title_event_code_Mushroom Sorter (Assessment)_4090_count',\n",
       " 'title_event_code_Mushroom Sorter (Assessment)_4100_count',\n",
       " 'title_event_code_Ordering Spheres_2000_count',\n",
       " 'title_event_code_Pan Balance_2000_count',\n",
       " 'title_event_code_Pan Balance_2010_count',\n",
       " 'title_event_code_Pan Balance_2020_count',\n",
       " 'title_event_code_Pan Balance_2030_count',\n",
       " 'title_event_code_Pan Balance_3010_count',\n",
       " 'title_event_code_Pan Balance_3020_count',\n",
       " 'title_event_code_Pan Balance_3021_count',\n",
       " 'title_event_code_Pan Balance_3110_count',\n",
       " 'title_event_code_Pan Balance_3120_count',\n",
       " 'title_event_code_Pan Balance_3121_count',\n",
       " 'title_event_code_Pan Balance_4010_count',\n",
       " 'title_event_code_Pan Balance_4020_count',\n",
       " 'title_event_code_Pan Balance_4025_count',\n",
       " 'title_event_code_Pan Balance_4030_count',\n",
       " 'title_event_code_Pan Balance_4035_count',\n",
       " 'title_event_code_Pan Balance_4070_count',\n",
       " 'title_event_code_Pan Balance_4080_count',\n",
       " 'title_event_code_Pan Balance_4090_count',\n",
       " 'title_event_code_Pan Balance_4100_count',\n",
       " \"title_event_code_Pirate's Tale_2000_count\",\n",
       " 'title_event_code_Rulers_2000_count',\n",
       " 'title_event_code_Sandcastle Builder (Activity)_2000_count',\n",
       " 'title_event_code_Sandcastle Builder (Activity)_2010_count',\n",
       " 'title_event_code_Sandcastle Builder (Activity)_3010_count',\n",
       " 'title_event_code_Sandcastle Builder (Activity)_3110_count',\n",
       " 'title_event_code_Sandcastle Builder (Activity)_4020_count',\n",
       " 'title_event_code_Sandcastle Builder (Activity)_4021_count',\n",
       " 'title_event_code_Sandcastle Builder (Activity)_4030_count',\n",
       " 'title_event_code_Sandcastle Builder (Activity)_4035_count',\n",
       " 'title_event_code_Sandcastle Builder (Activity)_4070_count',\n",
       " 'title_event_code_Sandcastle Builder (Activity)_4080_count',\n",
       " 'title_event_code_Sandcastle Builder (Activity)_4090_count',\n",
       " 'title_event_code_Scrub-A-Dub_2000_count',\n",
       " 'title_event_code_Scrub-A-Dub_2020_count',\n",
       " 'title_event_code_Scrub-A-Dub_2030_count',\n",
       " 'title_event_code_Scrub-A-Dub_2040_count',\n",
       " 'title_event_code_Scrub-A-Dub_2050_count',\n",
       " 'title_event_code_Scrub-A-Dub_2080_count',\n",
       " 'title_event_code_Scrub-A-Dub_2081_count',\n",
       " 'title_event_code_Scrub-A-Dub_2083_count',\n",
       " 'title_event_code_Scrub-A-Dub_3010_count',\n",
       " 'title_event_code_Scrub-A-Dub_3020_count',\n",
       " 'title_event_code_Scrub-A-Dub_3021_count',\n",
       " 'title_event_code_Scrub-A-Dub_3110_count',\n",
       " 'title_event_code_Scrub-A-Dub_3120_count',\n",
       " 'title_event_code_Scrub-A-Dub_3121_count',\n",
       " 'title_event_code_Scrub-A-Dub_4010_count',\n",
       " 'title_event_code_Scrub-A-Dub_4020_count',\n",
       " 'title_event_code_Scrub-A-Dub_4070_count',\n",
       " 'title_event_code_Scrub-A-Dub_4080_count',\n",
       " 'title_event_code_Scrub-A-Dub_4090_count',\n",
       " 'title_event_code_Slop Problem_2000_count',\n",
       " 'title_event_code_Treasure Map_2000_count',\n",
       " 'title_event_code_Tree Top City - Level 1_2000_count',\n",
       " 'title_event_code_Tree Top City - Level 2_2000_count',\n",
       " 'title_event_code_Tree Top City - Level 3_2000_count',\n",
       " 'title_event_code_Watering Hole (Activity)_2000_count',\n",
       " 'title_event_code_Watering Hole (Activity)_2010_count',\n",
       " 'title_event_code_Watering Hole (Activity)_3010_count',\n",
       " 'title_event_code_Watering Hole (Activity)_3110_count',\n",
       " 'title_event_code_Watering Hole (Activity)_4020_count',\n",
       " 'title_event_code_Watering Hole (Activity)_4021_count',\n",
       " 'title_event_code_Watering Hole (Activity)_4025_count',\n",
       " 'title_event_code_Watering Hole (Activity)_4070_count',\n",
       " 'title_event_code_Watering Hole (Activity)_4090_count',\n",
       " 'title_event_code_Watering Hole (Activity)_5000_count',\n",
       " 'title_event_code_Watering Hole (Activity)_5010_count',\n",
       " 'title_event_code_Welcome to Lost Lagoon!_2000_count',\n",
       " 'total_time',\n",
       " 'type_Activity_count',\n",
       " 'type_Assessment_count',\n",
       " 'type_Clip_count',\n",
       " 'type_Game_count',\n",
       " 'weekday',\n",
       " 'world',\n",
       " 'world_CRYSTALCAVES_count',\n",
       " 'world_MAGMAPEAK_count',\n",
       " 'world_NONE_count',\n",
       " 'world_TREETOPCITY_count']"
      ]
     },
     "execution_count": 17,
     "metadata": {},
     "output_type": "execute_result"
    }
   ],
   "source": [
    "train_df.columns.tolist()"
   ]
  },
  {
   "cell_type": "code",
   "execution_count": 8,
   "metadata": {},
   "outputs": [
    {
     "data": {
      "text/plain": [
       "23"
      ]
     },
     "execution_count": 8,
     "metadata": {},
     "output_type": "execute_result"
    }
   ],
   "source": [
    "train_df['hour'].max()"
   ]
  },
  {
   "cell_type": "code",
   "execution_count": 55,
   "metadata": {},
   "outputs": [],
   "source": [
    "test['timestamp'] = pd.to_datetime(test['timestamp'])"
   ]
  },
  {
   "cell_type": "code",
   "execution_count": 96,
   "metadata": {},
   "outputs": [
    {
     "data": {
      "text/plain": [
       "12"
      ]
     },
     "execution_count": 96,
     "metadata": {},
     "output_type": "execute_result"
    }
   ],
   "source": [
    "(test['timestamp'][1000] - test['timestamp'][2]).days"
   ]
  },
  {
   "cell_type": "code",
   "execution_count": 106,
   "metadata": {},
   "outputs": [
    {
     "data": {
      "text/plain": [
       "array(['NONE', 'MAGMAPEAK', 'CRYSTALCAVES', 'TREETOPCITY'], dtype=object)"
      ]
     },
     "execution_count": 106,
     "metadata": {},
     "output_type": "execute_result"
    }
   ],
   "source": []
  },
  {
   "cell_type": "code",
   "execution_count": 100,
   "metadata": {},
   "outputs": [
    {
     "data": {
      "text/plain": [
       "array([3, 1, 0])"
      ]
     },
     "execution_count": 100,
     "metadata": {},
     "output_type": "execute_result"
    }
   ],
   "source": [
    "train_df['world'].unique()"
   ]
  },
  {
   "cell_type": "code",
   "execution_count": 103,
   "metadata": {},
   "outputs": [
    {
     "data": {
      "text/plain": [
       "44"
      ]
     },
     "execution_count": 103,
     "metadata": {},
     "output_type": "execute_result"
    }
   ],
   "source": [
    "test['title'].nunique()"
   ]
  },
  {
   "cell_type": "code",
   "execution_count": 105,
   "metadata": {},
   "outputs": [
    {
     "data": {
      "text/plain": [
       "44"
      ]
     },
     "execution_count": 105,
     "metadata": {},
     "output_type": "execute_result"
    }
   ],
   "source": [
    "(test['title'] + test['type']).nunique()"
   ]
  },
  {
   "cell_type": "code",
   "execution_count": 85,
   "metadata": {},
   "outputs": [
    {
     "data": {
      "text/html": [
       "<div>\n",
       "<style scoped>\n",
       "    .dataframe tbody tr th:only-of-type {\n",
       "        vertical-align: middle;\n",
       "    }\n",
       "\n",
       "    .dataframe tbody tr th {\n",
       "        vertical-align: top;\n",
       "    }\n",
       "\n",
       "    .dataframe thead th {\n",
       "        text-align: right;\n",
       "    }\n",
       "</style>\n",
       "<table border=\"1\" class=\"dataframe\">\n",
       "  <thead>\n",
       "    <tr style=\"text-align: right;\">\n",
       "      <th></th>\n",
       "      <th>event_id</th>\n",
       "      <th>game_session</th>\n",
       "      <th>timestamp</th>\n",
       "      <th>event_data</th>\n",
       "      <th>installation_id</th>\n",
       "      <th>event_count</th>\n",
       "      <th>event_code</th>\n",
       "      <th>game_time</th>\n",
       "      <th>title</th>\n",
       "      <th>type</th>\n",
       "      <th>world</th>\n",
       "    </tr>\n",
       "  </thead>\n",
       "  <tbody>\n",
       "    <tr>\n",
       "      <th>0</th>\n",
       "      <td>27253bdc</td>\n",
       "      <td>0ea9ecc81a565215</td>\n",
       "      <td>2019-09-10 16:50:24.910000+00:00</td>\n",
       "      <td>{\"event_code\": 2000, \"event_count\": 1}</td>\n",
       "      <td>00abaee7</td>\n",
       "      <td>1</td>\n",
       "      <td>2000</td>\n",
       "      <td>0</td>\n",
       "      <td>Welcome to Lost Lagoon!</td>\n",
       "      <td>Clip</td>\n",
       "      <td>NONE</td>\n",
       "    </tr>\n",
       "    <tr>\n",
       "      <th>1</th>\n",
       "      <td>27253bdc</td>\n",
       "      <td>c1ea43d8b8261d27</td>\n",
       "      <td>2019-09-10 16:50:55.503000+00:00</td>\n",
       "      <td>{\"event_code\": 2000, \"event_count\": 1}</td>\n",
       "      <td>00abaee7</td>\n",
       "      <td>1</td>\n",
       "      <td>2000</td>\n",
       "      <td>0</td>\n",
       "      <td>Magma Peak - Level 1</td>\n",
       "      <td>Clip</td>\n",
       "      <td>MAGMAPEAK</td>\n",
       "    </tr>\n",
       "    <tr>\n",
       "      <th>2</th>\n",
       "      <td>27253bdc</td>\n",
       "      <td>7ed86c6b72e725e2</td>\n",
       "      <td>2019-09-10 16:51:51.805000+00:00</td>\n",
       "      <td>{\"event_code\": 2000, \"event_count\": 1}</td>\n",
       "      <td>00abaee7</td>\n",
       "      <td>1</td>\n",
       "      <td>2000</td>\n",
       "      <td>0</td>\n",
       "      <td>Magma Peak - Level 2</td>\n",
       "      <td>Clip</td>\n",
       "      <td>MAGMAPEAK</td>\n",
       "    </tr>\n",
       "    <tr>\n",
       "      <th>3</th>\n",
       "      <td>27253bdc</td>\n",
       "      <td>7e516ace50e7fe67</td>\n",
       "      <td>2019-09-10 16:53:12.825000+00:00</td>\n",
       "      <td>{\"event_code\": 2000, \"event_count\": 1}</td>\n",
       "      <td>00abaee7</td>\n",
       "      <td>1</td>\n",
       "      <td>2000</td>\n",
       "      <td>0</td>\n",
       "      <td>Crystal Caves - Level 1</td>\n",
       "      <td>Clip</td>\n",
       "      <td>CRYSTALCAVES</td>\n",
       "    </tr>\n",
       "    <tr>\n",
       "      <th>4</th>\n",
       "      <td>7d093bf9</td>\n",
       "      <td>a022c3f60ba547e7</td>\n",
       "      <td>2019-09-10 16:54:12.115000+00:00</td>\n",
       "      <td>{\"version\":\"1.0\",\"round\":0,\"event_count\":1,\"ga...</td>\n",
       "      <td>00abaee7</td>\n",
       "      <td>1</td>\n",
       "      <td>2000</td>\n",
       "      <td>0</td>\n",
       "      <td>Chow Time</td>\n",
       "      <td>Game</td>\n",
       "      <td>CRYSTALCAVES</td>\n",
       "    </tr>\n",
       "    <tr>\n",
       "      <th>...</th>\n",
       "      <td>...</td>\n",
       "      <td>...</td>\n",
       "      <td>...</td>\n",
       "      <td>...</td>\n",
       "      <td>...</td>\n",
       "      <td>...</td>\n",
       "      <td>...</td>\n",
       "      <td>...</td>\n",
       "      <td>...</td>\n",
       "      <td>...</td>\n",
       "      <td>...</td>\n",
       "    </tr>\n",
       "    <tr>\n",
       "      <th>1156409</th>\n",
       "      <td>c74f40cd</td>\n",
       "      <td>46ff9d3ad2be09f2</td>\n",
       "      <td>2019-09-28 21:20:40.918000+00:00</td>\n",
       "      <td>{\"description\":\"Alright! This one is the littl...</td>\n",
       "      <td>ffe774cc</td>\n",
       "      <td>39</td>\n",
       "      <td>3121</td>\n",
       "      <td>32030</td>\n",
       "      <td>Mushroom Sorter (Assessment)</td>\n",
       "      <td>Assessment</td>\n",
       "      <td>TREETOPCITY</td>\n",
       "    </tr>\n",
       "    <tr>\n",
       "      <th>1156410</th>\n",
       "      <td>6c930e6e</td>\n",
       "      <td>46ff9d3ad2be09f2</td>\n",
       "      <td>2019-09-28 21:20:41.493000+00:00</td>\n",
       "      <td>{\"duration\":20008,\"misses\":0,\"event_count\":40,...</td>\n",
       "      <td>ffe774cc</td>\n",
       "      <td>40</td>\n",
       "      <td>2030</td>\n",
       "      <td>32584</td>\n",
       "      <td>Mushroom Sorter (Assessment)</td>\n",
       "      <td>Assessment</td>\n",
       "      <td>TREETOPCITY</td>\n",
       "    </tr>\n",
       "    <tr>\n",
       "      <th>1156411</th>\n",
       "      <td>a5be6304</td>\n",
       "      <td>46ff9d3ad2be09f2</td>\n",
       "      <td>2019-09-28 21:20:45.499000+00:00</td>\n",
       "      <td>{\"session_duration\":36607,\"exit_type\":\"game_co...</td>\n",
       "      <td>ffe774cc</td>\n",
       "      <td>41</td>\n",
       "      <td>2010</td>\n",
       "      <td>36607</td>\n",
       "      <td>Mushroom Sorter (Assessment)</td>\n",
       "      <td>Assessment</td>\n",
       "      <td>TREETOPCITY</td>\n",
       "    </tr>\n",
       "    <tr>\n",
       "      <th>1156412</th>\n",
       "      <td>27253bdc</td>\n",
       "      <td>96d7dc31e822cedc</td>\n",
       "      <td>2019-09-28 21:21:05.670000+00:00</td>\n",
       "      <td>{\"event_code\": 2000, \"event_count\": 1}</td>\n",
       "      <td>ffe774cc</td>\n",
       "      <td>1</td>\n",
       "      <td>2000</td>\n",
       "      <td>0</td>\n",
       "      <td>Tree Top City - Level 3</td>\n",
       "      <td>Clip</td>\n",
       "      <td>TREETOPCITY</td>\n",
       "    </tr>\n",
       "    <tr>\n",
       "      <th>1156413</th>\n",
       "      <td>f56e0afc</td>\n",
       "      <td>6897df1e7b5ccdf7</td>\n",
       "      <td>2019-09-28 21:21:56.105000+00:00</td>\n",
       "      <td>{\"version\":\"1.0\",\"event_count\":1,\"game_time\":0...</td>\n",
       "      <td>ffe774cc</td>\n",
       "      <td>1</td>\n",
       "      <td>2000</td>\n",
       "      <td>0</td>\n",
       "      <td>Bird Measurer (Assessment)</td>\n",
       "      <td>Assessment</td>\n",
       "      <td>TREETOPCITY</td>\n",
       "    </tr>\n",
       "  </tbody>\n",
       "</table>\n",
       "<p>1156414 rows × 11 columns</p>\n",
       "</div>"
      ],
      "text/plain": [
       "         event_id      game_session                        timestamp  \\\n",
       "0        27253bdc  0ea9ecc81a565215 2019-09-10 16:50:24.910000+00:00   \n",
       "1        27253bdc  c1ea43d8b8261d27 2019-09-10 16:50:55.503000+00:00   \n",
       "2        27253bdc  7ed86c6b72e725e2 2019-09-10 16:51:51.805000+00:00   \n",
       "3        27253bdc  7e516ace50e7fe67 2019-09-10 16:53:12.825000+00:00   \n",
       "4        7d093bf9  a022c3f60ba547e7 2019-09-10 16:54:12.115000+00:00   \n",
       "...           ...               ...                              ...   \n",
       "1156409  c74f40cd  46ff9d3ad2be09f2 2019-09-28 21:20:40.918000+00:00   \n",
       "1156410  6c930e6e  46ff9d3ad2be09f2 2019-09-28 21:20:41.493000+00:00   \n",
       "1156411  a5be6304  46ff9d3ad2be09f2 2019-09-28 21:20:45.499000+00:00   \n",
       "1156412  27253bdc  96d7dc31e822cedc 2019-09-28 21:21:05.670000+00:00   \n",
       "1156413  f56e0afc  6897df1e7b5ccdf7 2019-09-28 21:21:56.105000+00:00   \n",
       "\n",
       "                                                event_data installation_id  \\\n",
       "0                   {\"event_code\": 2000, \"event_count\": 1}        00abaee7   \n",
       "1                   {\"event_code\": 2000, \"event_count\": 1}        00abaee7   \n",
       "2                   {\"event_code\": 2000, \"event_count\": 1}        00abaee7   \n",
       "3                   {\"event_code\": 2000, \"event_count\": 1}        00abaee7   \n",
       "4        {\"version\":\"1.0\",\"round\":0,\"event_count\":1,\"ga...        00abaee7   \n",
       "...                                                    ...             ...   \n",
       "1156409  {\"description\":\"Alright! This one is the littl...        ffe774cc   \n",
       "1156410  {\"duration\":20008,\"misses\":0,\"event_count\":40,...        ffe774cc   \n",
       "1156411  {\"session_duration\":36607,\"exit_type\":\"game_co...        ffe774cc   \n",
       "1156412             {\"event_code\": 2000, \"event_count\": 1}        ffe774cc   \n",
       "1156413  {\"version\":\"1.0\",\"event_count\":1,\"game_time\":0...        ffe774cc   \n",
       "\n",
       "         event_count  event_code  game_time                         title  \\\n",
       "0                  1        2000          0       Welcome to Lost Lagoon!   \n",
       "1                  1        2000          0          Magma Peak - Level 1   \n",
       "2                  1        2000          0          Magma Peak - Level 2   \n",
       "3                  1        2000          0       Crystal Caves - Level 1   \n",
       "4                  1        2000          0                     Chow Time   \n",
       "...              ...         ...        ...                           ...   \n",
       "1156409           39        3121      32030  Mushroom Sorter (Assessment)   \n",
       "1156410           40        2030      32584  Mushroom Sorter (Assessment)   \n",
       "1156411           41        2010      36607  Mushroom Sorter (Assessment)   \n",
       "1156412            1        2000          0       Tree Top City - Level 3   \n",
       "1156413            1        2000          0    Bird Measurer (Assessment)   \n",
       "\n",
       "               type         world  \n",
       "0              Clip          NONE  \n",
       "1              Clip     MAGMAPEAK  \n",
       "2              Clip     MAGMAPEAK  \n",
       "3              Clip  CRYSTALCAVES  \n",
       "4              Game  CRYSTALCAVES  \n",
       "...             ...           ...  \n",
       "1156409  Assessment   TREETOPCITY  \n",
       "1156410  Assessment   TREETOPCITY  \n",
       "1156411  Assessment   TREETOPCITY  \n",
       "1156412        Clip   TREETOPCITY  \n",
       "1156413  Assessment   TREETOPCITY  \n",
       "\n",
       "[1156414 rows x 11 columns]"
      ]
     },
     "execution_count": 85,
     "metadata": {},
     "output_type": "execute_result"
    }
   ],
   "source": [
    "test['timestamp']"
   ]
  },
  {
   "cell_type": "code",
   "execution_count": 84,
   "metadata": {},
   "outputs": [
    {
     "data": {
      "text/plain": [
       "75369"
      ]
     },
     "execution_count": 84,
     "metadata": {},
     "output_type": "execute_result"
    }
   ],
   "source": [
    "(test['timestamp'].max() - test['timestamp'].min()).seconds"
   ]
  },
  {
   "cell_type": "code",
   "execution_count": 7,
   "metadata": {},
   "outputs": [],
   "source": [
    "train_df = pd.read_csv('../data/preprocessed_train.csv')\n",
    "test_df = pd.read_csv('../data/preprocessed_test.csv')"
   ]
  },
  {
   "cell_type": "code",
   "execution_count": 44,
   "metadata": {},
   "outputs": [],
   "source": [
    "assessments = ['Cart Balancer (Assessment)',\n",
    "                   'Cauldron Filler (Assessment)',\n",
    "                   'Chest Sorter (Assessment)',\n",
    "                   'Mushroom Sorter (Assessment)',\n",
    "                   'Bird Measurer (Assessment)']"
   ]
  },
  {
   "cell_type": "code",
   "execution_count": 51,
   "metadata": {},
   "outputs": [
    {
     "data": {
      "text/plain": [
       "title_Cart Balancer (Assessment)_count      18.978\n",
       "title_Cauldron Filler (Assessment)_count    23.211\n",
       "title_Chest Sorter (Assessment)_count       17.767\n",
       "title_Mushroom Sorter (Assessment)_count    21.718\n",
       "title_Bird Measurer (Assessment)_count      19.953\n",
       "dtype: float64"
      ]
     },
     "execution_count": 51,
     "metadata": {},
     "output_type": "execute_result"
    }
   ],
   "source": [
    "test_df[['title_' + title +'_count' for title in assessments]].mean()"
   ]
  },
  {
   "cell_type": "code",
   "execution_count": 41,
   "metadata": {},
   "outputs": [
    {
     "data": {
      "text/plain": [
       "174.582954571508"
      ]
     },
     "execution_count": 41,
     "metadata": {},
     "output_type": "execute_result"
    }
   ],
   "source": [
    "train_df['duration_mean'].mean()"
   ]
  },
  {
   "cell_type": "code",
   "execution_count": 12,
   "metadata": {},
   "outputs": [
    {
     "data": {
      "text/plain": [
       "8     0.234652\n",
       "9     0.229226\n",
       "30    0.212380\n",
       "10    0.168513\n",
       "4     0.155229\n",
       "Name: title, dtype: float64"
      ]
     },
     "execution_count": 12,
     "metadata": {},
     "output_type": "execute_result"
    }
   ],
   "source": [
    "train_df['title'].value_counts(normalize=True)"
   ]
  },
  {
   "cell_type": "code",
   "execution_count": 21,
   "metadata": {},
   "outputs": [
    {
     "data": {
      "text/plain": [
       "['0_group_count',\n",
       " '1_group_count',\n",
       " '2_group_count',\n",
       " '3_group_count',\n",
       " 'Activity_count',\n",
       " 'Assessment_count',\n",
       " 'Clip_count',\n",
       " 'Game_count',\n",
       " 'acc_Bird Measurer (Assessment)',\n",
       " 'acc_Cart Balancer (Assessment)',\n",
       " 'acc_Cauldron Filler (Assessment)',\n",
       " 'acc_Chest Sorter (Assessment)',\n",
       " 'acc_Mushroom Sorter (Assessment)',\n",
       " 'accumulated_accuracy',\n",
       " 'accumulated_accuracy_group',\n",
       " 'accumulated_actions',\n",
       " 'accumulated_correct_attempts',\n",
       " 'accumulated_uncorrect_attempts',\n",
       " 'accuracy',\n",
       " 'accuracy_group',\n",
       " 'duration_mean',\n",
       " 'event_code_2000_count',\n",
       " 'event_code_2010_count',\n",
       " 'event_code_2020_count',\n",
       " 'event_code_2025_count',\n",
       " 'event_code_2030_count',\n",
       " 'event_code_2035_count',\n",
       " 'event_code_2040_count',\n",
       " 'event_code_2050_count',\n",
       " 'event_code_2060_count',\n",
       " 'event_code_2070_count',\n",
       " 'event_code_2075_count',\n",
       " 'event_code_2080_count',\n",
       " 'event_code_2081_count',\n",
       " 'event_code_2083_count',\n",
       " 'event_code_3010_count',\n",
       " 'event_code_3020_count',\n",
       " 'event_code_3021_count',\n",
       " 'event_code_3110_count',\n",
       " 'event_code_3120_count',\n",
       " 'event_code_3121_count',\n",
       " 'event_code_4010_count',\n",
       " 'event_code_4020_count',\n",
       " 'event_code_4021_count',\n",
       " 'event_code_4022_count',\n",
       " 'event_code_4025_count',\n",
       " 'event_code_4030_count',\n",
       " 'event_code_4031_count',\n",
       " 'event_code_4035_count',\n",
       " 'event_code_4040_count',\n",
       " 'event_code_4045_count',\n",
       " 'event_code_4050_count',\n",
       " 'event_code_4070_count',\n",
       " 'event_code_4080_count',\n",
       " 'event_code_4090_count',\n",
       " 'event_code_4095_count',\n",
       " 'event_code_4100_count',\n",
       " 'event_code_4110_count',\n",
       " 'event_code_4220_count',\n",
       " 'event_code_4230_count',\n",
       " 'event_code_4235_count',\n",
       " 'event_code_5000_count',\n",
       " 'event_code_5010_count',\n",
       " 'installation_id',\n",
       " 'title',\n",
       " 'title_12 Monkeys_count',\n",
       " 'title_Air Show_count',\n",
       " 'title_All Star Sorting_count',\n",
       " 'title_Balancing Act_count',\n",
       " 'title_Bird Measurer (Assessment)_count',\n",
       " 'title_Bottle Filler (Activity)_count',\n",
       " 'title_Bubble Bath_count',\n",
       " 'title_Bug Measurer (Activity)_count',\n",
       " 'title_Cart Balancer (Assessment)_count',\n",
       " 'title_Cauldron Filler (Assessment)_count',\n",
       " 'title_Chest Sorter (Assessment)_count',\n",
       " 'title_Chicken Balancer (Activity)_count',\n",
       " 'title_Chow Time_count',\n",
       " 'title_Costume Box_count',\n",
       " 'title_Crystal Caves - Level 1_count',\n",
       " 'title_Crystal Caves - Level 2_count',\n",
       " 'title_Crystal Caves - Level 3_count',\n",
       " 'title_Crystals Rule_count',\n",
       " 'title_Dino Dive_count',\n",
       " 'title_Dino Drink_count',\n",
       " 'title_Egg Dropper (Activity)_count',\n",
       " 'title_Fireworks (Activity)_count',\n",
       " 'title_Flower Waterer (Activity)_count',\n",
       " 'title_Happy Camel_count',\n",
       " 'title_Heavy_ Heavier_ Heaviest_count',\n",
       " 'title_Honey Cake_count',\n",
       " 'title_Leaf Leader_count',\n",
       " 'title_Lifting Heavy Things_count',\n",
       " 'title_Magma Peak - Level 1_count',\n",
       " 'title_Magma Peak - Level 2_count',\n",
       " 'title_Mushroom Sorter (Assessment)_count',\n",
       " 'title_Ordering Spheres_count',\n",
       " 'title_Pan Balance_count',\n",
       " \"title_Pirate's Tale_count\",\n",
       " 'title_Rulers_count',\n",
       " 'title_Sandcastle Builder (Activity)_count',\n",
       " 'title_Scrub-A-Dub_count',\n",
       " 'title_Slop Problem_count',\n",
       " 'title_Treasure Map_count',\n",
       " 'title_Tree Top City - Level 1_count',\n",
       " 'title_Tree Top City - Level 2_count',\n",
       " 'title_Tree Top City - Level 3_count',\n",
       " 'title_Watering Hole (Activity)_count',\n",
       " 'title_Welcome to Lost Lagoon!_count',\n",
       " 'title_event_code_12 Monkeys_2000_count',\n",
       " 'title_event_code_Air Show_2000_count',\n",
       " 'title_event_code_Air Show_2020_count',\n",
       " 'title_event_code_Air Show_2030_count',\n",
       " 'title_event_code_Air Show_2060_count',\n",
       " 'title_event_code_Air Show_2070_count',\n",
       " 'title_event_code_Air Show_2075_count',\n",
       " 'title_event_code_Air Show_3010_count',\n",
       " 'title_event_code_Air Show_3020_count',\n",
       " 'title_event_code_Air Show_3021_count',\n",
       " 'title_event_code_Air Show_3110_count',\n",
       " 'title_event_code_Air Show_3120_count',\n",
       " 'title_event_code_Air Show_3121_count',\n",
       " 'title_event_code_Air Show_4010_count',\n",
       " 'title_event_code_Air Show_4020_count',\n",
       " 'title_event_code_Air Show_4070_count',\n",
       " 'title_event_code_Air Show_4080_count',\n",
       " 'title_event_code_Air Show_4090_count',\n",
       " 'title_event_code_Air Show_4100_count',\n",
       " 'title_event_code_Air Show_4110_count',\n",
       " 'title_event_code_All Star Sorting_2000_count',\n",
       " 'title_event_code_All Star Sorting_2020_count',\n",
       " 'title_event_code_All Star Sorting_2025_count',\n",
       " 'title_event_code_All Star Sorting_2030_count',\n",
       " 'title_event_code_All Star Sorting_3010_count',\n",
       " 'title_event_code_All Star Sorting_3020_count',\n",
       " 'title_event_code_All Star Sorting_3021_count',\n",
       " 'title_event_code_All Star Sorting_3110_count',\n",
       " 'title_event_code_All Star Sorting_3120_count',\n",
       " 'title_event_code_All Star Sorting_3121_count',\n",
       " 'title_event_code_All Star Sorting_4010_count',\n",
       " 'title_event_code_All Star Sorting_4020_count',\n",
       " 'title_event_code_All Star Sorting_4030_count',\n",
       " 'title_event_code_All Star Sorting_4035_count',\n",
       " 'title_event_code_All Star Sorting_4070_count',\n",
       " 'title_event_code_All Star Sorting_4080_count',\n",
       " 'title_event_code_All Star Sorting_4090_count',\n",
       " 'title_event_code_All Star Sorting_4095_count',\n",
       " 'title_event_code_Balancing Act_2000_count',\n",
       " 'title_event_code_Bird Measurer (Assessment)_2000_count',\n",
       " 'title_event_code_Bird Measurer (Assessment)_2010_count',\n",
       " 'title_event_code_Bird Measurer (Assessment)_2020_count',\n",
       " 'title_event_code_Bird Measurer (Assessment)_2030_count',\n",
       " 'title_event_code_Bird Measurer (Assessment)_3010_count',\n",
       " 'title_event_code_Bird Measurer (Assessment)_3020_count',\n",
       " 'title_event_code_Bird Measurer (Assessment)_3021_count',\n",
       " 'title_event_code_Bird Measurer (Assessment)_3110_count',\n",
       " 'title_event_code_Bird Measurer (Assessment)_3120_count',\n",
       " 'title_event_code_Bird Measurer (Assessment)_3121_count',\n",
       " 'title_event_code_Bird Measurer (Assessment)_4020_count',\n",
       " 'title_event_code_Bird Measurer (Assessment)_4025_count',\n",
       " 'title_event_code_Bird Measurer (Assessment)_4030_count',\n",
       " 'title_event_code_Bird Measurer (Assessment)_4035_count',\n",
       " 'title_event_code_Bird Measurer (Assessment)_4040_count',\n",
       " 'title_event_code_Bird Measurer (Assessment)_4070_count',\n",
       " 'title_event_code_Bird Measurer (Assessment)_4080_count',\n",
       " 'title_event_code_Bird Measurer (Assessment)_4090_count',\n",
       " 'title_event_code_Bird Measurer (Assessment)_4100_count',\n",
       " 'title_event_code_Bird Measurer (Assessment)_4110_count',\n",
       " 'title_event_code_Bottle Filler (Activity)_2000_count',\n",
       " 'title_event_code_Bottle Filler (Activity)_2010_count',\n",
       " 'title_event_code_Bottle Filler (Activity)_2020_count',\n",
       " 'title_event_code_Bottle Filler (Activity)_2030_count',\n",
       " 'title_event_code_Bottle Filler (Activity)_3010_count',\n",
       " 'title_event_code_Bottle Filler (Activity)_3110_count',\n",
       " 'title_event_code_Bottle Filler (Activity)_4020_count',\n",
       " 'title_event_code_Bottle Filler (Activity)_4030_count',\n",
       " 'title_event_code_Bottle Filler (Activity)_4035_count',\n",
       " 'title_event_code_Bottle Filler (Activity)_4070_count',\n",
       " 'title_event_code_Bottle Filler (Activity)_4080_count',\n",
       " 'title_event_code_Bottle Filler (Activity)_4090_count',\n",
       " 'title_event_code_Bubble Bath_2000_count',\n",
       " 'title_event_code_Bubble Bath_2020_count',\n",
       " 'title_event_code_Bubble Bath_2025_count',\n",
       " 'title_event_code_Bubble Bath_2030_count',\n",
       " 'title_event_code_Bubble Bath_2035_count',\n",
       " 'title_event_code_Bubble Bath_2080_count',\n",
       " 'title_event_code_Bubble Bath_2083_count',\n",
       " 'title_event_code_Bubble Bath_3010_count',\n",
       " 'title_event_code_Bubble Bath_3020_count',\n",
       " 'title_event_code_Bubble Bath_3021_count',\n",
       " 'title_event_code_Bubble Bath_3110_count',\n",
       " 'title_event_code_Bubble Bath_3120_count',\n",
       " 'title_event_code_Bubble Bath_3121_count',\n",
       " 'title_event_code_Bubble Bath_4010_count',\n",
       " 'title_event_code_Bubble Bath_4020_count',\n",
       " 'title_event_code_Bubble Bath_4040_count',\n",
       " 'title_event_code_Bubble Bath_4045_count',\n",
       " 'title_event_code_Bubble Bath_4070_count',\n",
       " 'title_event_code_Bubble Bath_4080_count',\n",
       " 'title_event_code_Bubble Bath_4090_count',\n",
       " 'title_event_code_Bubble Bath_4095_count',\n",
       " 'title_event_code_Bubble Bath_4220_count',\n",
       " 'title_event_code_Bubble Bath_4230_count',\n",
       " 'title_event_code_Bubble Bath_4235_count',\n",
       " 'title_event_code_Bug Measurer (Activity)_2000_count',\n",
       " 'title_event_code_Bug Measurer (Activity)_3010_count',\n",
       " 'title_event_code_Bug Measurer (Activity)_3110_count',\n",
       " 'title_event_code_Bug Measurer (Activity)_4025_count',\n",
       " 'title_event_code_Bug Measurer (Activity)_4030_count',\n",
       " 'title_event_code_Bug Measurer (Activity)_4035_count',\n",
       " 'title_event_code_Bug Measurer (Activity)_4070_count',\n",
       " 'title_event_code_Bug Measurer (Activity)_4080_count',\n",
       " 'title_event_code_Bug Measurer (Activity)_4090_count',\n",
       " 'title_event_code_Cart Balancer (Assessment)_2000_count',\n",
       " 'title_event_code_Cart Balancer (Assessment)_2010_count',\n",
       " 'title_event_code_Cart Balancer (Assessment)_2020_count',\n",
       " 'title_event_code_Cart Balancer (Assessment)_2030_count',\n",
       " 'title_event_code_Cart Balancer (Assessment)_3010_count',\n",
       " 'title_event_code_Cart Balancer (Assessment)_3020_count',\n",
       " 'title_event_code_Cart Balancer (Assessment)_3021_count',\n",
       " 'title_event_code_Cart Balancer (Assessment)_3110_count',\n",
       " 'title_event_code_Cart Balancer (Assessment)_3120_count',\n",
       " 'title_event_code_Cart Balancer (Assessment)_3121_count',\n",
       " 'title_event_code_Cart Balancer (Assessment)_4020_count',\n",
       " 'title_event_code_Cart Balancer (Assessment)_4030_count',\n",
       " 'title_event_code_Cart Balancer (Assessment)_4035_count',\n",
       " 'title_event_code_Cart Balancer (Assessment)_4040_count',\n",
       " 'title_event_code_Cart Balancer (Assessment)_4070_count',\n",
       " 'title_event_code_Cart Balancer (Assessment)_4080_count',\n",
       " 'title_event_code_Cart Balancer (Assessment)_4090_count',\n",
       " 'title_event_code_Cart Balancer (Assessment)_4100_count',\n",
       " 'title_event_code_Cauldron Filler (Assessment)_2000_count',\n",
       " 'title_event_code_Cauldron Filler (Assessment)_2010_count',\n",
       " 'title_event_code_Cauldron Filler (Assessment)_2020_count',\n",
       " 'title_event_code_Cauldron Filler (Assessment)_2030_count',\n",
       " 'title_event_code_Cauldron Filler (Assessment)_3010_count',\n",
       " 'title_event_code_Cauldron Filler (Assessment)_3020_count',\n",
       " 'title_event_code_Cauldron Filler (Assessment)_3021_count',\n",
       " 'title_event_code_Cauldron Filler (Assessment)_3110_count',\n",
       " 'title_event_code_Cauldron Filler (Assessment)_3120_count',\n",
       " 'title_event_code_Cauldron Filler (Assessment)_3121_count',\n",
       " 'title_event_code_Cauldron Filler (Assessment)_4020_count',\n",
       " 'title_event_code_Cauldron Filler (Assessment)_4025_count',\n",
       " 'title_event_code_Cauldron Filler (Assessment)_4030_count',\n",
       " 'title_event_code_Cauldron Filler (Assessment)_4035_count',\n",
       " 'title_event_code_Cauldron Filler (Assessment)_4040_count',\n",
       " 'title_event_code_Cauldron Filler (Assessment)_4070_count',\n",
       " 'title_event_code_Cauldron Filler (Assessment)_4080_count',\n",
       " 'title_event_code_Cauldron Filler (Assessment)_4090_count',\n",
       " 'title_event_code_Cauldron Filler (Assessment)_4100_count',\n",
       " 'title_event_code_Chest Sorter (Assessment)_2000_count',\n",
       " 'title_event_code_Chest Sorter (Assessment)_2010_count',\n",
       " 'title_event_code_Chest Sorter (Assessment)_2020_count',\n",
       " 'title_event_code_Chest Sorter (Assessment)_2030_count',\n",
       " 'title_event_code_Chest Sorter (Assessment)_3010_count',\n",
       " 'title_event_code_Chest Sorter (Assessment)_3020_count',\n",
       " 'title_event_code_Chest Sorter (Assessment)_3021_count',\n",
       " 'title_event_code_Chest Sorter (Assessment)_3110_count',\n",
       " 'title_event_code_Chest Sorter (Assessment)_3120_count',\n",
       " 'title_event_code_Chest Sorter (Assessment)_3121_count',\n",
       " 'title_event_code_Chest Sorter (Assessment)_4020_count',\n",
       " 'title_event_code_Chest Sorter (Assessment)_4025_count',\n",
       " 'title_event_code_Chest Sorter (Assessment)_4030_count',\n",
       " 'title_event_code_Chest Sorter (Assessment)_4035_count',\n",
       " 'title_event_code_Chest Sorter (Assessment)_4040_count',\n",
       " 'title_event_code_Chest Sorter (Assessment)_4070_count',\n",
       " 'title_event_code_Chest Sorter (Assessment)_4080_count',\n",
       " 'title_event_code_Chest Sorter (Assessment)_4090_count',\n",
       " 'title_event_code_Chest Sorter (Assessment)_4100_count',\n",
       " 'title_event_code_Chicken Balancer (Activity)_2000_count',\n",
       " 'title_event_code_Chicken Balancer (Activity)_3010_count',\n",
       " 'title_event_code_Chicken Balancer (Activity)_3110_count',\n",
       " 'title_event_code_Chicken Balancer (Activity)_4020_count',\n",
       " 'title_event_code_Chicken Balancer (Activity)_4022_count',\n",
       " 'title_event_code_Chicken Balancer (Activity)_4030_count',\n",
       " 'title_event_code_Chicken Balancer (Activity)_4035_count',\n",
       " 'title_event_code_Chicken Balancer (Activity)_4070_count',\n",
       " 'title_event_code_Chicken Balancer (Activity)_4080_count',\n",
       " 'title_event_code_Chicken Balancer (Activity)_4090_count',\n",
       " 'title_event_code_Chow Time_2000_count',\n",
       " 'title_event_code_Chow Time_2020_count',\n",
       " 'title_event_code_Chow Time_2030_count',\n",
       " 'title_event_code_Chow Time_3010_count',\n",
       " 'title_event_code_Chow Time_3020_count',\n",
       " 'title_event_code_Chow Time_3021_count',\n",
       " 'title_event_code_Chow Time_3110_count',\n",
       " 'title_event_code_Chow Time_3120_count',\n",
       " 'title_event_code_Chow Time_3121_count',\n",
       " 'title_event_code_Chow Time_4010_count',\n",
       " 'title_event_code_Chow Time_4020_count',\n",
       " 'title_event_code_Chow Time_4030_count',\n",
       " 'title_event_code_Chow Time_4035_count',\n",
       " 'title_event_code_Chow Time_4070_count',\n",
       " 'title_event_code_Chow Time_4080_count',\n",
       " 'title_event_code_Chow Time_4090_count',\n",
       " 'title_event_code_Chow Time_4095_count',\n",
       " 'title_event_code_Costume Box_2000_count',\n",
       " 'title_event_code_Crystal Caves - Level 1_2000_count',\n",
       " 'title_event_code_Crystal Caves - Level 2_2000_count',\n",
       " 'title_event_code_Crystal Caves - Level 3_2000_count',\n",
       " 'title_event_code_Crystals Rule_2000_count',\n",
       " 'title_event_code_Crystals Rule_2010_count',\n",
       " 'title_event_code_Crystals Rule_2020_count',\n",
       " 'title_event_code_Crystals Rule_2030_count',\n",
       " 'title_event_code_Crystals Rule_3010_count',\n",
       " 'title_event_code_Crystals Rule_3020_count',\n",
       " 'title_event_code_Crystals Rule_3021_count',\n",
       " 'title_event_code_Crystals Rule_3110_count',\n",
       " 'title_event_code_Crystals Rule_3120_count',\n",
       " 'title_event_code_Crystals Rule_3121_count',\n",
       " 'title_event_code_Crystals Rule_4010_count',\n",
       " 'title_event_code_Crystals Rule_4020_count',\n",
       " 'title_event_code_Crystals Rule_4050_count',\n",
       " 'title_event_code_Crystals Rule_4070_count',\n",
       " 'title_event_code_Crystals Rule_4090_count',\n",
       " 'title_event_code_Dino Dive_2000_count',\n",
       " 'title_event_code_Dino Dive_2020_count',\n",
       " 'title_event_code_Dino Dive_2030_count',\n",
       " 'title_event_code_Dino Dive_2060_count',\n",
       " 'title_event_code_Dino Dive_2070_count',\n",
       " 'title_event_code_Dino Dive_3010_count',\n",
       " 'title_event_code_Dino Dive_3020_count',\n",
       " 'title_event_code_Dino Dive_3021_count',\n",
       " 'title_event_code_Dino Dive_3110_count',\n",
       " 'title_event_code_Dino Dive_3120_count',\n",
       " 'title_event_code_Dino Dive_3121_count',\n",
       " 'title_event_code_Dino Dive_4010_count',\n",
       " 'title_event_code_Dino Dive_4020_count',\n",
       " 'title_event_code_Dino Dive_4070_count',\n",
       " 'title_event_code_Dino Dive_4080_count',\n",
       " 'title_event_code_Dino Dive_4090_count',\n",
       " 'title_event_code_Dino Drink_2000_count',\n",
       " 'title_event_code_Dino Drink_2020_count',\n",
       " 'title_event_code_Dino Drink_2030_count',\n",
       " 'title_event_code_Dino Drink_2060_count',\n",
       " 'title_event_code_Dino Drink_2070_count',\n",
       " 'title_event_code_Dino Drink_2075_count',\n",
       " 'title_event_code_Dino Drink_3010_count',\n",
       " 'title_event_code_Dino Drink_3020_count',\n",
       " 'title_event_code_Dino Drink_3021_count',\n",
       " 'title_event_code_Dino Drink_3110_count',\n",
       " 'title_event_code_Dino Drink_3120_count',\n",
       " 'title_event_code_Dino Drink_3121_count',\n",
       " 'title_event_code_Dino Drink_4010_count',\n",
       " 'title_event_code_Dino Drink_4020_count',\n",
       " 'title_event_code_Dino Drink_4030_count',\n",
       " 'title_event_code_Dino Drink_4031_count',\n",
       " 'title_event_code_Dino Drink_4070_count',\n",
       " 'title_event_code_Dino Drink_4080_count',\n",
       " 'title_event_code_Dino Drink_4090_count',\n",
       " 'title_event_code_Egg Dropper (Activity)_2000_count',\n",
       " 'title_event_code_Egg Dropper (Activity)_2020_count',\n",
       " 'title_event_code_Egg Dropper (Activity)_3010_count',\n",
       " 'title_event_code_Egg Dropper (Activity)_3110_count',\n",
       " 'title_event_code_Egg Dropper (Activity)_4020_count',\n",
       " 'title_event_code_Egg Dropper (Activity)_4025_count',\n",
       " 'title_event_code_Egg Dropper (Activity)_4070_count',\n",
       " 'title_event_code_Egg Dropper (Activity)_4080_count',\n",
       " 'title_event_code_Egg Dropper (Activity)_4090_count',\n",
       " 'title_event_code_Fireworks (Activity)_2000_count',\n",
       " 'title_event_code_Fireworks (Activity)_3010_count',\n",
       " 'title_event_code_Fireworks (Activity)_3110_count',\n",
       " 'title_event_code_Fireworks (Activity)_4020_count',\n",
       " 'title_event_code_Fireworks (Activity)_4030_count',\n",
       " 'title_event_code_Fireworks (Activity)_4070_count',\n",
       " 'title_event_code_Fireworks (Activity)_4080_count',\n",
       " 'title_event_code_Fireworks (Activity)_4090_count',\n",
       " 'title_event_code_Flower Waterer (Activity)_2000_count',\n",
       " 'title_event_code_Flower Waterer (Activity)_3010_count',\n",
       " 'title_event_code_Flower Waterer (Activity)_3110_count',\n",
       " 'title_event_code_Flower Waterer (Activity)_4020_count',\n",
       " 'title_event_code_Flower Waterer (Activity)_4022_count',\n",
       " 'title_event_code_Flower Waterer (Activity)_4025_count',\n",
       " 'title_event_code_Flower Waterer (Activity)_4030_count',\n",
       " 'title_event_code_Flower Waterer (Activity)_4070_count',\n",
       " 'title_event_code_Flower Waterer (Activity)_4080_count',\n",
       " 'title_event_code_Flower Waterer (Activity)_4090_count',\n",
       " 'title_event_code_Happy Camel_2000_count',\n",
       " 'title_event_code_Happy Camel_2020_count',\n",
       " 'title_event_code_Happy Camel_2030_count',\n",
       " 'title_event_code_Happy Camel_2080_count',\n",
       " 'title_event_code_Happy Camel_2081_count',\n",
       " 'title_event_code_Happy Camel_2083_count',\n",
       " 'title_event_code_Happy Camel_3010_count',\n",
       " 'title_event_code_Happy Camel_3020_count',\n",
       " 'title_event_code_Happy Camel_3021_count',\n",
       " 'title_event_code_Happy Camel_3110_count',\n",
       " 'title_event_code_Happy Camel_3120_count',\n",
       " 'title_event_code_Happy Camel_3121_count',\n",
       " 'title_event_code_Happy Camel_4010_count',\n",
       " 'title_event_code_Happy Camel_4020_count',\n",
       " 'title_event_code_Happy Camel_4030_count',\n",
       " 'title_event_code_Happy Camel_4035_count',\n",
       " 'title_event_code_Happy Camel_4040_count',\n",
       " 'title_event_code_Happy Camel_4045_count',\n",
       " 'title_event_code_Happy Camel_4070_count',\n",
       " 'title_event_code_Happy Camel_4080_count',\n",
       " 'title_event_code_Happy Camel_4090_count',\n",
       " 'title_event_code_Happy Camel_4095_count',\n",
       " 'title_event_code_Heavy_ Heavier_ Heaviest_2000_count',\n",
       " 'title_event_code_Honey Cake_2000_count',\n",
       " 'title_event_code_Leaf Leader_2000_count',\n",
       " 'title_event_code_Leaf Leader_2020_count',\n",
       " 'title_event_code_Leaf Leader_2030_count',\n",
       " 'title_event_code_Leaf Leader_2060_count',\n",
       " 'title_event_code_Leaf Leader_2070_count',\n",
       " 'title_event_code_Leaf Leader_2075_count',\n",
       " 'title_event_code_Leaf Leader_3010_count',\n",
       " 'title_event_code_Leaf Leader_3020_count',\n",
       " 'title_event_code_Leaf Leader_3021_count',\n",
       " 'title_event_code_Leaf Leader_3110_count',\n",
       " 'title_event_code_Leaf Leader_3120_count',\n",
       " 'title_event_code_Leaf Leader_3121_count',\n",
       " 'title_event_code_Leaf Leader_4010_count',\n",
       " 'title_event_code_Leaf Leader_4020_count',\n",
       " 'title_event_code_Leaf Leader_4070_count',\n",
       " 'title_event_code_Leaf Leader_4080_count',\n",
       " 'title_event_code_Leaf Leader_4090_count',\n",
       " 'title_event_code_Leaf Leader_4095_count',\n",
       " 'title_event_code_Lifting Heavy Things_2000_count',\n",
       " 'title_event_code_Magma Peak - Level 1_2000_count',\n",
       " 'title_event_code_Magma Peak - Level 2_2000_count',\n",
       " 'title_event_code_Mushroom Sorter (Assessment)_2000_count',\n",
       " 'title_event_code_Mushroom Sorter (Assessment)_2010_count',\n",
       " 'title_event_code_Mushroom Sorter (Assessment)_2020_count',\n",
       " 'title_event_code_Mushroom Sorter (Assessment)_2025_count',\n",
       " 'title_event_code_Mushroom Sorter (Assessment)_2030_count',\n",
       " 'title_event_code_Mushroom Sorter (Assessment)_2035_count',\n",
       " 'title_event_code_Mushroom Sorter (Assessment)_3010_count',\n",
       " 'title_event_code_Mushroom Sorter (Assessment)_3020_count',\n",
       " 'title_event_code_Mushroom Sorter (Assessment)_3021_count',\n",
       " 'title_event_code_Mushroom Sorter (Assessment)_3110_count',\n",
       " 'title_event_code_Mushroom Sorter (Assessment)_3120_count',\n",
       " 'title_event_code_Mushroom Sorter (Assessment)_3121_count',\n",
       " 'title_event_code_Mushroom Sorter (Assessment)_4020_count',\n",
       " 'title_event_code_Mushroom Sorter (Assessment)_4025_count',\n",
       " 'title_event_code_Mushroom Sorter (Assessment)_4030_count',\n",
       " 'title_event_code_Mushroom Sorter (Assessment)_4035_count',\n",
       " 'title_event_code_Mushroom Sorter (Assessment)_4040_count',\n",
       " 'title_event_code_Mushroom Sorter (Assessment)_4070_count',\n",
       " 'title_event_code_Mushroom Sorter (Assessment)_4080_count',\n",
       " 'title_event_code_Mushroom Sorter (Assessment)_4090_count',\n",
       " 'title_event_code_Mushroom Sorter (Assessment)_4100_count',\n",
       " 'title_event_code_Ordering Spheres_2000_count',\n",
       " 'title_event_code_Pan Balance_2000_count',\n",
       " 'title_event_code_Pan Balance_2010_count',\n",
       " 'title_event_code_Pan Balance_2020_count',\n",
       " 'title_event_code_Pan Balance_2030_count',\n",
       " 'title_event_code_Pan Balance_3010_count',\n",
       " 'title_event_code_Pan Balance_3020_count',\n",
       " 'title_event_code_Pan Balance_3021_count',\n",
       " 'title_event_code_Pan Balance_3110_count',\n",
       " 'title_event_code_Pan Balance_3120_count',\n",
       " 'title_event_code_Pan Balance_3121_count',\n",
       " 'title_event_code_Pan Balance_4010_count',\n",
       " 'title_event_code_Pan Balance_4020_count',\n",
       " 'title_event_code_Pan Balance_4025_count',\n",
       " 'title_event_code_Pan Balance_4030_count',\n",
       " 'title_event_code_Pan Balance_4035_count',\n",
       " 'title_event_code_Pan Balance_4070_count',\n",
       " 'title_event_code_Pan Balance_4080_count',\n",
       " 'title_event_code_Pan Balance_4090_count',\n",
       " 'title_event_code_Pan Balance_4100_count',\n",
       " \"title_event_code_Pirate's Tale_2000_count\",\n",
       " 'title_event_code_Rulers_2000_count',\n",
       " 'title_event_code_Sandcastle Builder (Activity)_2000_count',\n",
       " 'title_event_code_Sandcastle Builder (Activity)_2010_count',\n",
       " 'title_event_code_Sandcastle Builder (Activity)_3010_count',\n",
       " 'title_event_code_Sandcastle Builder (Activity)_3110_count',\n",
       " 'title_event_code_Sandcastle Builder (Activity)_4020_count',\n",
       " 'title_event_code_Sandcastle Builder (Activity)_4021_count',\n",
       " 'title_event_code_Sandcastle Builder (Activity)_4030_count',\n",
       " 'title_event_code_Sandcastle Builder (Activity)_4035_count',\n",
       " 'title_event_code_Sandcastle Builder (Activity)_4070_count',\n",
       " 'title_event_code_Sandcastle Builder (Activity)_4080_count',\n",
       " 'title_event_code_Sandcastle Builder (Activity)_4090_count',\n",
       " 'title_event_code_Scrub-A-Dub_2000_count',\n",
       " 'title_event_code_Scrub-A-Dub_2020_count',\n",
       " 'title_event_code_Scrub-A-Dub_2030_count',\n",
       " 'title_event_code_Scrub-A-Dub_2040_count',\n",
       " 'title_event_code_Scrub-A-Dub_2050_count',\n",
       " 'title_event_code_Scrub-A-Dub_2080_count',\n",
       " 'title_event_code_Scrub-A-Dub_2081_count',\n",
       " 'title_event_code_Scrub-A-Dub_2083_count',\n",
       " 'title_event_code_Scrub-A-Dub_3010_count',\n",
       " 'title_event_code_Scrub-A-Dub_3020_count',\n",
       " 'title_event_code_Scrub-A-Dub_3021_count',\n",
       " 'title_event_code_Scrub-A-Dub_3110_count',\n",
       " 'title_event_code_Scrub-A-Dub_3120_count',\n",
       " 'title_event_code_Scrub-A-Dub_3121_count',\n",
       " 'title_event_code_Scrub-A-Dub_4010_count',\n",
       " 'title_event_code_Scrub-A-Dub_4020_count',\n",
       " 'title_event_code_Scrub-A-Dub_4070_count',\n",
       " 'title_event_code_Scrub-A-Dub_4080_count',\n",
       " 'title_event_code_Scrub-A-Dub_4090_count',\n",
       " 'title_event_code_Slop Problem_2000_count',\n",
       " 'title_event_code_Treasure Map_2000_count',\n",
       " 'title_event_code_Tree Top City - Level 1_2000_count',\n",
       " 'title_event_code_Tree Top City - Level 2_2000_count',\n",
       " 'title_event_code_Tree Top City - Level 3_2000_count',\n",
       " 'title_event_code_Watering Hole (Activity)_2000_count',\n",
       " 'title_event_code_Watering Hole (Activity)_2010_count',\n",
       " 'title_event_code_Watering Hole (Activity)_3010_count',\n",
       " 'title_event_code_Watering Hole (Activity)_3110_count',\n",
       " 'title_event_code_Watering Hole (Activity)_4020_count',\n",
       " 'title_event_code_Watering Hole (Activity)_4021_count',\n",
       " 'title_event_code_Watering Hole (Activity)_4025_count',\n",
       " 'title_event_code_Watering Hole (Activity)_4070_count',\n",
       " 'title_event_code_Watering Hole (Activity)_4090_count',\n",
       " 'title_event_code_Watering Hole (Activity)_5000_count',\n",
       " 'title_event_code_Watering Hole (Activity)_5010_count',\n",
       " 'title_event_code_Welcome to Lost Lagoon!_2000_count',\n",
       " 'world']"
      ]
     },
     "execution_count": 21,
     "metadata": {},
     "output_type": "execute_result"
    }
   ],
   "source": [
    "train_df.columns.tolist()"
   ]
  },
  {
   "cell_type": "code",
   "execution_count": 4,
   "metadata": {},
   "outputs": [],
   "source": [
    "count_cols = [col for col in train_df.columns if 'count' in col]"
   ]
  },
  {
   "cell_type": "code",
   "execution_count": 6,
   "metadata": {},
   "outputs": [],
   "source": [
    "for col in count_cols:\n",
    "    train_df[col] = train_df[col] / train_df['accumulated_actions']"
   ]
  },
  {
   "cell_type": "code",
   "execution_count": 3,
   "metadata": {},
   "outputs": [
    {
     "data": {
      "text/plain": [
       "3    0.500000\n",
       "0    0.239062\n",
       "1    0.136292\n",
       "2    0.124647\n",
       "Name: accuracy_group, dtype: float64"
      ]
     },
     "execution_count": 3,
     "metadata": {},
     "output_type": "execute_result"
    }
   ],
   "source": [
    "train_df['accuracy_group'].value_counts(normalize=True)"
   ]
  },
  {
   "cell_type": "code",
   "execution_count": 34,
   "metadata": {},
   "outputs": [
    {
     "data": {
      "text/plain": [
       "installation_id\n",
       "08062502          0\n",
       "9d570bf2          0\n",
       "db2ab253          0\n",
       "9b7d6baa          0\n",
       "ad9d07d6          0\n",
       "             ...   \n",
       "96979008     745447\n",
       "063e3e02     763717\n",
       "08987c08    1026275\n",
       "9f399a3a    1040058\n",
       "f1c21eda    3560604\n",
       "Name: accumulated_actions, Length: 3614, dtype: int64"
      ]
     },
     "execution_count": 34,
     "metadata": {},
     "output_type": "execute_result"
    }
   ],
   "source": [
    "train_df.groupby('installation_id')['accumulated_actions'].sum().sort_values()"
   ]
  },
  {
   "cell_type": "code",
   "execution_count": 45,
   "metadata": {},
   "outputs": [
    {
     "data": {
      "text/plain": [
       "installation_id\n",
       "08987c08    156\n",
       "f1c21eda    129\n",
       "9f399a3a     78\n",
       "8e44d2de     72\n",
       "123a40a1     64\n",
       "96979008     64\n",
       "416398f8     49\n",
       "2ffb27f9     48\n",
       "2d6d1ecd     47\n",
       "063e3e02     46\n",
       "Name: 0_group_count, dtype: int64"
      ]
     },
     "execution_count": 45,
     "metadata": {},
     "output_type": "execute_result"
    }
   ],
   "source": [
    "train_df.groupby('installation_id')['0_group_count'].count().sort_values(ascending=False).head(10)"
   ]
  },
  {
   "cell_type": "code",
   "execution_count": 53,
   "metadata": {},
   "outputs": [
    {
     "data": {
      "text/plain": [
       "1027"
      ]
     },
     "execution_count": 53,
     "metadata": {},
     "output_type": "execute_result"
    }
   ],
   "source": [
    "(train_df.groupby('installation_id')['0_group_count'].count().sort_values(ascending=True).head(10000) == 1).sum()"
   ]
  },
  {
   "cell_type": "code",
   "execution_count": 38,
   "metadata": {},
   "outputs": [
    {
     "data": {
      "text/html": [
       "<div>\n",
       "<style scoped>\n",
       "    .dataframe tbody tr th:only-of-type {\n",
       "        vertical-align: middle;\n",
       "    }\n",
       "\n",
       "    .dataframe tbody tr th {\n",
       "        vertical-align: top;\n",
       "    }\n",
       "\n",
       "    .dataframe thead th {\n",
       "        text-align: right;\n",
       "    }\n",
       "</style>\n",
       "<table border=\"1\" class=\"dataframe\">\n",
       "  <thead>\n",
       "    <tr style=\"text-align: right;\">\n",
       "      <th></th>\n",
       "      <th>0_group_count</th>\n",
       "      <th>1_group_count</th>\n",
       "      <th>2_group_count</th>\n",
       "      <th>3_group_count</th>\n",
       "      <th>Activity_count</th>\n",
       "      <th>Assessment_count</th>\n",
       "      <th>Clip_count</th>\n",
       "      <th>Game_count</th>\n",
       "      <th>acc_Bird Measurer (Assessment)</th>\n",
       "      <th>acc_Cart Balancer (Assessment)</th>\n",
       "      <th>...</th>\n",
       "      <th>title_event_code_Watering Hole (Activity)_3110_count</th>\n",
       "      <th>title_event_code_Watering Hole (Activity)_4020_count</th>\n",
       "      <th>title_event_code_Watering Hole (Activity)_4021_count</th>\n",
       "      <th>title_event_code_Watering Hole (Activity)_4025_count</th>\n",
       "      <th>title_event_code_Watering Hole (Activity)_4070_count</th>\n",
       "      <th>title_event_code_Watering Hole (Activity)_4090_count</th>\n",
       "      <th>title_event_code_Watering Hole (Activity)_5000_count</th>\n",
       "      <th>title_event_code_Watering Hole (Activity)_5010_count</th>\n",
       "      <th>title_event_code_Welcome to Lost Lagoon!_2000_count</th>\n",
       "      <th>world</th>\n",
       "    </tr>\n",
       "  </thead>\n",
       "  <tbody>\n",
       "    <tr>\n",
       "      <th>0</th>\n",
       "      <td>0</td>\n",
       "      <td>0</td>\n",
       "      <td>0</td>\n",
       "      <td>0</td>\n",
       "      <td>3</td>\n",
       "      <td>0</td>\n",
       "      <td>6</td>\n",
       "      <td>2</td>\n",
       "      <td>-1.0</td>\n",
       "      <td>-1.0</td>\n",
       "      <td>...</td>\n",
       "      <td>0</td>\n",
       "      <td>0</td>\n",
       "      <td>0</td>\n",
       "      <td>0</td>\n",
       "      <td>0</td>\n",
       "      <td>0</td>\n",
       "      <td>0</td>\n",
       "      <td>0</td>\n",
       "      <td>2</td>\n",
       "      <td>3</td>\n",
       "    </tr>\n",
       "    <tr>\n",
       "      <th>1</th>\n",
       "      <td>0</td>\n",
       "      <td>0</td>\n",
       "      <td>0</td>\n",
       "      <td>1</td>\n",
       "      <td>4</td>\n",
       "      <td>1</td>\n",
       "      <td>8</td>\n",
       "      <td>4</td>\n",
       "      <td>-1.0</td>\n",
       "      <td>-1.0</td>\n",
       "      <td>...</td>\n",
       "      <td>0</td>\n",
       "      <td>0</td>\n",
       "      <td>0</td>\n",
       "      <td>0</td>\n",
       "      <td>0</td>\n",
       "      <td>0</td>\n",
       "      <td>0</td>\n",
       "      <td>0</td>\n",
       "      <td>2</td>\n",
       "      <td>3</td>\n",
       "    </tr>\n",
       "    <tr>\n",
       "      <th>2</th>\n",
       "      <td>1</td>\n",
       "      <td>0</td>\n",
       "      <td>0</td>\n",
       "      <td>1</td>\n",
       "      <td>4</td>\n",
       "      <td>2</td>\n",
       "      <td>8</td>\n",
       "      <td>4</td>\n",
       "      <td>0.0</td>\n",
       "      <td>-1.0</td>\n",
       "      <td>...</td>\n",
       "      <td>0</td>\n",
       "      <td>0</td>\n",
       "      <td>0</td>\n",
       "      <td>0</td>\n",
       "      <td>0</td>\n",
       "      <td>0</td>\n",
       "      <td>0</td>\n",
       "      <td>0</td>\n",
       "      <td>2</td>\n",
       "      <td>3</td>\n",
       "    </tr>\n",
       "    <tr>\n",
       "      <th>3</th>\n",
       "      <td>2</td>\n",
       "      <td>0</td>\n",
       "      <td>0</td>\n",
       "      <td>2</td>\n",
       "      <td>9</td>\n",
       "      <td>3</td>\n",
       "      <td>15</td>\n",
       "      <td>7</td>\n",
       "      <td>0.0</td>\n",
       "      <td>-1.0</td>\n",
       "      <td>...</td>\n",
       "      <td>5</td>\n",
       "      <td>9</td>\n",
       "      <td>8</td>\n",
       "      <td>9</td>\n",
       "      <td>4</td>\n",
       "      <td>0</td>\n",
       "      <td>5</td>\n",
       "      <td>5</td>\n",
       "      <td>3</td>\n",
       "      <td>3</td>\n",
       "    </tr>\n",
       "    <tr>\n",
       "      <th>4</th>\n",
       "      <td>2</td>\n",
       "      <td>0</td>\n",
       "      <td>1</td>\n",
       "      <td>2</td>\n",
       "      <td>10</td>\n",
       "      <td>3</td>\n",
       "      <td>17</td>\n",
       "      <td>9</td>\n",
       "      <td>0.0</td>\n",
       "      <td>-1.0</td>\n",
       "      <td>...</td>\n",
       "      <td>5</td>\n",
       "      <td>9</td>\n",
       "      <td>8</td>\n",
       "      <td>9</td>\n",
       "      <td>4</td>\n",
       "      <td>0</td>\n",
       "      <td>5</td>\n",
       "      <td>5</td>\n",
       "      <td>3</td>\n",
       "      <td>3</td>\n",
       "    </tr>\n",
       "    <tr>\n",
       "      <th>...</th>\n",
       "      <td>...</td>\n",
       "      <td>...</td>\n",
       "      <td>...</td>\n",
       "      <td>...</td>\n",
       "      <td>...</td>\n",
       "      <td>...</td>\n",
       "      <td>...</td>\n",
       "      <td>...</td>\n",
       "      <td>...</td>\n",
       "      <td>...</td>\n",
       "      <td>...</td>\n",
       "      <td>...</td>\n",
       "      <td>...</td>\n",
       "      <td>...</td>\n",
       "      <td>...</td>\n",
       "      <td>...</td>\n",
       "      <td>...</td>\n",
       "      <td>...</td>\n",
       "      <td>...</td>\n",
       "      <td>...</td>\n",
       "      <td>...</td>\n",
       "    </tr>\n",
       "    <tr>\n",
       "      <th>17685</th>\n",
       "      <td>0</td>\n",
       "      <td>1</td>\n",
       "      <td>0</td>\n",
       "      <td>4</td>\n",
       "      <td>7</td>\n",
       "      <td>4</td>\n",
       "      <td>13</td>\n",
       "      <td>10</td>\n",
       "      <td>1.0</td>\n",
       "      <td>1.0</td>\n",
       "      <td>...</td>\n",
       "      <td>4</td>\n",
       "      <td>4</td>\n",
       "      <td>4</td>\n",
       "      <td>4</td>\n",
       "      <td>6</td>\n",
       "      <td>0</td>\n",
       "      <td>3</td>\n",
       "      <td>2</td>\n",
       "      <td>1</td>\n",
       "      <td>0</td>\n",
       "    </tr>\n",
       "    <tr>\n",
       "      <th>17686</th>\n",
       "      <td>0</td>\n",
       "      <td>0</td>\n",
       "      <td>0</td>\n",
       "      <td>0</td>\n",
       "      <td>2</td>\n",
       "      <td>0</td>\n",
       "      <td>2</td>\n",
       "      <td>2</td>\n",
       "      <td>-1.0</td>\n",
       "      <td>-1.0</td>\n",
       "      <td>...</td>\n",
       "      <td>0</td>\n",
       "      <td>0</td>\n",
       "      <td>0</td>\n",
       "      <td>0</td>\n",
       "      <td>0</td>\n",
       "      <td>0</td>\n",
       "      <td>0</td>\n",
       "      <td>0</td>\n",
       "      <td>1</td>\n",
       "      <td>1</td>\n",
       "    </tr>\n",
       "    <tr>\n",
       "      <th>17687</th>\n",
       "      <td>0</td>\n",
       "      <td>0</td>\n",
       "      <td>0</td>\n",
       "      <td>0</td>\n",
       "      <td>3</td>\n",
       "      <td>0</td>\n",
       "      <td>4</td>\n",
       "      <td>2</td>\n",
       "      <td>-1.0</td>\n",
       "      <td>-1.0</td>\n",
       "      <td>...</td>\n",
       "      <td>0</td>\n",
       "      <td>0</td>\n",
       "      <td>0</td>\n",
       "      <td>0</td>\n",
       "      <td>0</td>\n",
       "      <td>0</td>\n",
       "      <td>0</td>\n",
       "      <td>0</td>\n",
       "      <td>2</td>\n",
       "      <td>1</td>\n",
       "    </tr>\n",
       "    <tr>\n",
       "      <th>17688</th>\n",
       "      <td>0</td>\n",
       "      <td>1</td>\n",
       "      <td>0</td>\n",
       "      <td>0</td>\n",
       "      <td>3</td>\n",
       "      <td>1</td>\n",
       "      <td>7</td>\n",
       "      <td>4</td>\n",
       "      <td>-1.0</td>\n",
       "      <td>-1.0</td>\n",
       "      <td>...</td>\n",
       "      <td>0</td>\n",
       "      <td>0</td>\n",
       "      <td>0</td>\n",
       "      <td>0</td>\n",
       "      <td>0</td>\n",
       "      <td>0</td>\n",
       "      <td>0</td>\n",
       "      <td>0</td>\n",
       "      <td>3</td>\n",
       "      <td>3</td>\n",
       "    </tr>\n",
       "    <tr>\n",
       "      <th>17689</th>\n",
       "      <td>1</td>\n",
       "      <td>1</td>\n",
       "      <td>0</td>\n",
       "      <td>0</td>\n",
       "      <td>4</td>\n",
       "      <td>2</td>\n",
       "      <td>8</td>\n",
       "      <td>4</td>\n",
       "      <td>-1.0</td>\n",
       "      <td>-1.0</td>\n",
       "      <td>...</td>\n",
       "      <td>0</td>\n",
       "      <td>0</td>\n",
       "      <td>0</td>\n",
       "      <td>0</td>\n",
       "      <td>0</td>\n",
       "      <td>0</td>\n",
       "      <td>0</td>\n",
       "      <td>0</td>\n",
       "      <td>3</td>\n",
       "      <td>1</td>\n",
       "    </tr>\n",
       "  </tbody>\n",
       "</table>\n",
       "<p>17561 rows × 896 columns</p>\n",
       "</div>"
      ],
      "text/plain": [
       "       0_group_count  1_group_count  2_group_count  3_group_count  \\\n",
       "0                  0              0              0              0   \n",
       "1                  0              0              0              1   \n",
       "2                  1              0              0              1   \n",
       "3                  2              0              0              2   \n",
       "4                  2              0              1              2   \n",
       "...              ...            ...            ...            ...   \n",
       "17685              0              1              0              4   \n",
       "17686              0              0              0              0   \n",
       "17687              0              0              0              0   \n",
       "17688              0              1              0              0   \n",
       "17689              1              1              0              0   \n",
       "\n",
       "       Activity_count  Assessment_count  Clip_count  Game_count  \\\n",
       "0                   3                 0           6           2   \n",
       "1                   4                 1           8           4   \n",
       "2                   4                 2           8           4   \n",
       "3                   9                 3          15           7   \n",
       "4                  10                 3          17           9   \n",
       "...               ...               ...         ...         ...   \n",
       "17685               7                 4          13          10   \n",
       "17686               2                 0           2           2   \n",
       "17687               3                 0           4           2   \n",
       "17688               3                 1           7           4   \n",
       "17689               4                 2           8           4   \n",
       "\n",
       "       acc_Bird Measurer (Assessment)  acc_Cart Balancer (Assessment)  ...  \\\n",
       "0                                -1.0                            -1.0  ...   \n",
       "1                                -1.0                            -1.0  ...   \n",
       "2                                 0.0                            -1.0  ...   \n",
       "3                                 0.0                            -1.0  ...   \n",
       "4                                 0.0                            -1.0  ...   \n",
       "...                               ...                             ...  ...   \n",
       "17685                             1.0                             1.0  ...   \n",
       "17686                            -1.0                            -1.0  ...   \n",
       "17687                            -1.0                            -1.0  ...   \n",
       "17688                            -1.0                            -1.0  ...   \n",
       "17689                            -1.0                            -1.0  ...   \n",
       "\n",
       "       title_event_code_Watering Hole (Activity)_3110_count  \\\n",
       "0                                                      0      \n",
       "1                                                      0      \n",
       "2                                                      0      \n",
       "3                                                      5      \n",
       "4                                                      5      \n",
       "...                                                  ...      \n",
       "17685                                                  4      \n",
       "17686                                                  0      \n",
       "17687                                                  0      \n",
       "17688                                                  0      \n",
       "17689                                                  0      \n",
       "\n",
       "       title_event_code_Watering Hole (Activity)_4020_count  \\\n",
       "0                                                      0      \n",
       "1                                                      0      \n",
       "2                                                      0      \n",
       "3                                                      9      \n",
       "4                                                      9      \n",
       "...                                                  ...      \n",
       "17685                                                  4      \n",
       "17686                                                  0      \n",
       "17687                                                  0      \n",
       "17688                                                  0      \n",
       "17689                                                  0      \n",
       "\n",
       "       title_event_code_Watering Hole (Activity)_4021_count  \\\n",
       "0                                                      0      \n",
       "1                                                      0      \n",
       "2                                                      0      \n",
       "3                                                      8      \n",
       "4                                                      8      \n",
       "...                                                  ...      \n",
       "17685                                                  4      \n",
       "17686                                                  0      \n",
       "17687                                                  0      \n",
       "17688                                                  0      \n",
       "17689                                                  0      \n",
       "\n",
       "       title_event_code_Watering Hole (Activity)_4025_count  \\\n",
       "0                                                      0      \n",
       "1                                                      0      \n",
       "2                                                      0      \n",
       "3                                                      9      \n",
       "4                                                      9      \n",
       "...                                                  ...      \n",
       "17685                                                  4      \n",
       "17686                                                  0      \n",
       "17687                                                  0      \n",
       "17688                                                  0      \n",
       "17689                                                  0      \n",
       "\n",
       "       title_event_code_Watering Hole (Activity)_4070_count  \\\n",
       "0                                                      0      \n",
       "1                                                      0      \n",
       "2                                                      0      \n",
       "3                                                      4      \n",
       "4                                                      4      \n",
       "...                                                  ...      \n",
       "17685                                                  6      \n",
       "17686                                                  0      \n",
       "17687                                                  0      \n",
       "17688                                                  0      \n",
       "17689                                                  0      \n",
       "\n",
       "       title_event_code_Watering Hole (Activity)_4090_count  \\\n",
       "0                                                      0      \n",
       "1                                                      0      \n",
       "2                                                      0      \n",
       "3                                                      0      \n",
       "4                                                      0      \n",
       "...                                                  ...      \n",
       "17685                                                  0      \n",
       "17686                                                  0      \n",
       "17687                                                  0      \n",
       "17688                                                  0      \n",
       "17689                                                  0      \n",
       "\n",
       "       title_event_code_Watering Hole (Activity)_5000_count  \\\n",
       "0                                                      0      \n",
       "1                                                      0      \n",
       "2                                                      0      \n",
       "3                                                      5      \n",
       "4                                                      5      \n",
       "...                                                  ...      \n",
       "17685                                                  3      \n",
       "17686                                                  0      \n",
       "17687                                                  0      \n",
       "17688                                                  0      \n",
       "17689                                                  0      \n",
       "\n",
       "       title_event_code_Watering Hole (Activity)_5010_count  \\\n",
       "0                                                      0      \n",
       "1                                                      0      \n",
       "2                                                      0      \n",
       "3                                                      5      \n",
       "4                                                      5      \n",
       "...                                                  ...      \n",
       "17685                                                  2      \n",
       "17686                                                  0      \n",
       "17687                                                  0      \n",
       "17688                                                  0      \n",
       "17689                                                  0      \n",
       "\n",
       "       title_event_code_Welcome to Lost Lagoon!_2000_count  world  \n",
       "0                                                      2        3  \n",
       "1                                                      2        3  \n",
       "2                                                      2        3  \n",
       "3                                                      3        3  \n",
       "4                                                      3        3  \n",
       "...                                                  ...      ...  \n",
       "17685                                                  1        0  \n",
       "17686                                                  1        1  \n",
       "17687                                                  2        1  \n",
       "17688                                                  3        3  \n",
       "17689                                                  3        1  \n",
       "\n",
       "[17561 rows x 896 columns]"
      ]
     },
     "execution_count": 38,
     "metadata": {},
     "output_type": "execute_result"
    }
   ],
   "source": [
    "train_df[train_df['installation_id'] != 'f1c21eda']"
   ]
  }
 ],
 "metadata": {
  "kernelspec": {
   "display_name": "Python 3",
   "language": "python",
   "name": "python3"
  },
  "language_info": {
   "codemirror_mode": {
    "name": "ipython",
    "version": 3
   },
   "file_extension": ".py",
   "mimetype": "text/x-python",
   "name": "python",
   "nbconvert_exporter": "python",
   "pygments_lexer": "ipython3",
   "version": "3.7.4"
  }
 },
 "nbformat": 4,
 "nbformat_minor": 4
}
